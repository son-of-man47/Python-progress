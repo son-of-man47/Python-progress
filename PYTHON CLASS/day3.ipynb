{
 "cells": [
  {
   "cell_type": "code",
   "execution_count": 1,
   "id": "a1a59698",
   "metadata": {},
   "outputs": [
    {
     "name": "stdout",
     "output_type": "stream",
     "text": [
      "[20, 35.1]\n"
     ]
    }
   ],
   "source": [
    "y = ['jude', 'thelma', True, 'yes', 20, 35.1]\n",
    "string = []\n",
    "numbers = []\n",
    "booleans = []\n",
    "\n",
    "for i in y:\n",
    "    if type(i) == str:\n",
    "        string.append(i)\n",
    "    elif type(i) == bool:\n",
    "        booleans.append(i)\n",
    "    else:\n",
    "        numbers.append(i)\n",
    "print(numbers)"
   ]
  },
  {
   "cell_type": "code",
   "execution_count": 2,
   "id": "e8b01cf2",
   "metadata": {},
   "outputs": [
    {
     "name": "stdout",
     "output_type": "stream",
     "text": [
      "[1.0, 1.7320508075688772, 2.23606797749979, 2.6457513110645907, 3.0, 3.3166247903554, 3.605551275463989, 3.872983346207417, 4.123105625617661, 4.358898943540674, 4.58257569495584, 4.795831523312719, 5.0, 5.196152422706632, 5.385164807134504, 5.5677643628300215, 5.744562646538029, 5.916079783099616, 6.082762530298219, 6.244997998398398, 6.4031242374328485, 6.557438524302, 6.708203932499369, 6.855654600401044, 7.0]\n"
     ]
    }
   ],
   "source": [
    "vals = []\n",
    "\n",
    "for i in range(1, 50+1):\n",
    "    if i % 2 != 0:\n",
    "        a = i **(1/2)\n",
    "        vals.append(a)\n",
    "print(vals)"
   ]
  },
  {
   "cell_type": "code",
   "execution_count": 3,
   "id": "7f207dea",
   "metadata": {},
   "outputs": [
    {
     "name": "stdout",
     "output_type": "stream",
     "text": [
      "[1.0, 1.7320508075688772, 2.23606797749979, 2.6457513110645907, 3.0, 3.3166247903554, 3.605551275463989, 3.872983346207417, 4.123105625617661, 4.358898943540674, 4.58257569495584, 4.795831523312719, 5.0, 5.196152422706632, 5.385164807134504, 5.5677643628300215, 5.744562646538029, 5.916079783099616, 6.082762530298219, 6.244997998398398, 6.4031242374328485, 6.557438524302, 6.708203932499369, 6.855654600401044, 7.0]\n"
     ]
    }
   ],
   "source": [
    "#####another method\n",
    "number_vals = [(i **(1/2)) for i in range(1, 50+1) if i %2 != 0]\n",
    "print(number_vals)"
   ]
  },
  {
   "cell_type": "code",
   "execution_count": 4,
   "id": "dfc73de3",
   "metadata": {},
   "outputs": [
    {
     "name": "stdout",
     "output_type": "stream",
     "text": [
      "4.7172\n"
     ]
    }
   ],
   "source": [
    "#####finding mean\n",
    "sum_val = 0\n",
    "for i in vals:\n",
    "    sum_val = sum_val + i\n",
    "total_sum = round((sum_val), 2)\n",
    "mean = total_sum / len(vals)\n",
    "print(mean)"
   ]
  },
  {
   "cell_type": "code",
   "execution_count": 12,
   "id": "b7ab2b2d",
   "metadata": {},
   "outputs": [
    {
     "name": "stdout",
     "output_type": "stream",
     "text": [
      "12.5\n"
     ]
    }
   ],
   "source": [
    "v = [10, 12.5, 8, 9.5, 6, 11.5, 7, 4]\n",
    "pos = v[0]\n",
    "\n",
    "for i in v:\n",
    "    if i > pos:\n",
    "        pos = i\n",
    "print(pos)"
   ]
  },
  {
   "cell_type": "code",
   "execution_count": 17,
   "id": "0208cb98",
   "metadata": {},
   "outputs": [
    {
     "name": "stdout",
     "output_type": "stream",
     "text": [
      "[5, 6, 8, -1]\n"
     ]
    }
   ],
   "source": [
    "x = [10, 15, 20, 30]\n",
    "u = [15, 21, 28, 29]\n",
    "diff = []\n",
    "\n",
    "if len(x) == len(u):\n",
    "    for i in range(0, len(x)):\n",
    "        diff_val = u[i] - x[i]\n",
    "        diff.append(diff_val)\n",
    "    print(diff)\n",
    "else:\n",
    "    print(False)"
   ]
  },
  {
   "cell_type": "code",
   "execution_count": 29,
   "id": "be1e09cb",
   "metadata": {},
   "outputs": [
    {
     "name": "stdout",
     "output_type": "stream",
     "text": [
      "7.395\n"
     ]
    }
   ],
   "source": [
    "##############solving standard deviation\n",
    "\n",
    "##step1 finding the sum\n",
    "sum_val = 0\n",
    "for i in x:\n",
    "    sum_val = sum_val + i\n",
    "\n",
    "##step2 finding the mean\n",
    "mean = sum_val / len(x)\n",
    "\n",
    "##step3 values - mean and sqauring them\n",
    "dev = []\n",
    "for i in x:\n",
    "    deviation = (i - mean)  ** 2\n",
    "    dev.append(deviation)\n",
    "\n",
    "##step4 sum the dev\n",
    "sum_dev = 0\n",
    "for i in dev:\n",
    "    sum_dev = sum_dev + i\n",
    "\n",
    "##step5 find the variance\n",
    "var = sum_dev / len(x)\n",
    "\n",
    "##step6 find the s.d\n",
    "s_d = round(var ** (1/2), 3)\n",
    "print(s_d)\n"
   ]
  },
  {
   "cell_type": "code",
   "execution_count": 33,
   "id": "cd613cce",
   "metadata": {},
   "outputs": [
    {
     "name": "stdout",
     "output_type": "stream",
     "text": [
      "[50]\n"
     ]
    }
   ],
   "source": [
    "###using the split method in python\n",
    "ip_add = [\"192.168.120.15\", \"221.124.127.50\", \"101.124.56.12\"]\n",
    "lst = []\n",
    "for i in ip_add:\n",
    "    a = int(i.split(\".\")[-1]) ##getting the last value afteer the splitting\n",
    "    if a >= 30 and a <= 50:\n",
    "        lst.append(a)\n",
    "print(lst)"
   ]
  },
  {
   "cell_type": "code",
   "execution_count": 41,
   "id": "54489a17",
   "metadata": {},
   "outputs": [
    {
     "name": "stdout",
     "output_type": "stream",
     "text": [
      "[[1, 2, 3], [4, 5, 6], [7, 8, 9]]\n"
     ]
    }
   ],
   "source": [
    "m = [[1, 2, 3],\n",
    "    [4, 5, 6],\n",
    "    [7, 8, 9]]\n",
    "print(m)"
   ]
  },
  {
   "cell_type": "code",
   "execution_count": 37,
   "id": "e94dc3c3",
   "metadata": {},
   "outputs": [
    {
     "name": "stdout",
     "output_type": "stream",
     "text": [
      "1\n"
     ]
    }
   ],
   "source": [
    "aa = []\n",
    "for i in m:\n",
    "    aa.append(i[0])\n",
    "print(aa) ##to get the first values of the matrixes"
   ]
  },
  {
   "cell_type": "code",
   "execution_count": 38,
   "id": "41720f67",
   "metadata": {},
   "outputs": [
    {
     "name": "stdout",
     "output_type": "stream",
     "text": [
      "[1, 2, 3]\n",
      "[4, 5, 6]\n",
      "[7, 8, 9]\n"
     ]
    }
   ],
   "source": [
    "for i in m:\n",
    "    print(i)"
   ]
  },
  {
   "cell_type": "code",
   "execution_count": 89,
   "id": "9d710cfc",
   "metadata": {},
   "outputs": [
    {
     "name": "stdout",
     "output_type": "stream",
     "text": [
      "1\n",
      "8\n",
      "6\n"
     ]
    }
   ],
   "source": [
    "for i in range(0, len(m)):\n",
    "    print(m[i][i])"
   ]
  },
  {
   "cell_type": "code",
   "execution_count": null,
   "id": "032e1bbc",
   "metadata": {},
   "outputs": [],
   "source": []
  },
  {
   "cell_type": "code",
   "execution_count": null,
   "id": "ab936fc8",
   "metadata": {},
   "outputs": [],
   "source": []
  }
 ],
 "metadata": {
  "kernelspec": {
   "display_name": "Python 3 (ipykernel)",
   "language": "python",
   "name": "python3"
  },
  "language_info": {
   "codemirror_mode": {
    "name": "ipython",
    "version": 3
   },
   "file_extension": ".py",
   "mimetype": "text/x-python",
   "name": "python",
   "nbconvert_exporter": "python",
   "pygments_lexer": "ipython3",
   "version": "3.9.7"
  }
 },
 "nbformat": 4,
 "nbformat_minor": 5
}
