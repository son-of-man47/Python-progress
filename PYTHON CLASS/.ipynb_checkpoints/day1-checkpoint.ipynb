{
 "cells": [
  {
   "cell_type": "code",
   "execution_count": 1,
   "id": "e0f5b401",
   "metadata": {},
   "outputs": [
    {
     "name": "stdout",
     "output_type": "stream",
     "text": [
      "hello world\n"
     ]
    }
   ],
   "source": [
    "print(\"hello world\")"
   ]
  },
  {
   "cell_type": "code",
   "execution_count": 3,
   "id": "77adb9ef",
   "metadata": {},
   "outputs": [
    {
     "name": "stdout",
     "output_type": "stream",
     "text": [
      "Enter your name: bob\n",
      "Enter year of birth: 1999\n",
      "bob is 23 years old\n"
     ]
    }
   ],
   "source": [
    "name = input(\"Enter your name: \")\n",
    "y = int(input(\"Enter year of birth: \"))\n",
    "age = 2022 - y\n",
    "print(f\"{name} is {age} years old\")"
   ]
  },
  {
   "cell_type": "code",
   "execution_count": 5,
   "id": "05bab785",
   "metadata": {},
   "outputs": [
    {
     "name": "stdout",
     "output_type": "stream",
     "text": [
      "\n",
      "    Hello Mitchell, thanks for teaching the class.\n",
      "    We really appreciate.\n",
      "    Thank you\n",
      "    \n"
     ]
    }
   ],
   "source": [
    "print(f\"\"\"\n",
    "    Hello Mitchell, thanks for teaching the class.\n",
    "    We really appreciate.\n",
    "    Thank you\n",
    "    \"\"\")"
   ]
  },
  {
   "cell_type": "code",
   "execution_count": 6,
   "id": "3d5ce260",
   "metadata": {},
   "outputs": [
    {
     "name": "stdout",
     "output_type": "stream",
     "text": [
      "Enter temperatur: 52.5\n",
      "Enter unit (f/c): F\n",
      "the temperature value from fahr to cel is 11.389\n"
     ]
    }
   ],
   "source": [
    "temp_val = float(input('Enter temperatur: '))\n",
    "unit = input('Enter unit (f/c): ').lower()\n",
    "\n",
    "if unit == 'f':\n",
    "    temp_fahr = round((5/9) * (temp_val  -32), 3)\n",
    "    print(f\"the temperature value from fahr to cel is {temp_fahr}\")\n",
    "elif unit == 'c':\n",
    "    temp_cel = round((9/5) * (temp_val + 32), 3)\n",
    "    print(f\"the temperature value from cel to fahr is {temp_cel}\")\n",
    "else:\n",
    "    print(\"invalid temp unit\")"
   ]
  },
  {
   "cell_type": "code",
   "execution_count": null,
   "id": "942841ee",
   "metadata": {},
   "outputs": [],
   "source": []
  }
 ],
 "metadata": {
  "kernelspec": {
   "display_name": "Python 3 (ipykernel)",
   "language": "python",
   "name": "python3"
  },
  "language_info": {
   "codemirror_mode": {
    "name": "ipython",
    "version": 3
   },
   "file_extension": ".py",
   "mimetype": "text/x-python",
   "name": "python",
   "nbconvert_exporter": "python",
   "pygments_lexer": "ipython3",
   "version": "3.9.7"
  }
 },
 "nbformat": 4,
 "nbformat_minor": 5
}
