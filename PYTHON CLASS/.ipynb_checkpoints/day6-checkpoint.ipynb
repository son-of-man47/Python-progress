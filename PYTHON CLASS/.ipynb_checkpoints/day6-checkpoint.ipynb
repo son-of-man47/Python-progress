{
 "cells": [
  {
   "cell_type": "code",
   "execution_count": 127,
   "id": "6f800950",
   "metadata": {},
   "outputs": [
    {
     "name": "stdout",
     "output_type": "stream",
     "text": [
      "{3: 3, 5: 2, 'timi': 2, 4: 5, 'jane': 1}\n"
     ]
    }
   ],
   "source": [
    "array = [3, 5, \"timi\", 4, \"jane\", 5, 4, 3, 4, 3, 4, 4,  \"timi\"]\n",
    "dict_arr = {}\n",
    "for i in array:\n",
    "    dict_arr[i] = dict_arr.get(i, 0)+1 ##the 'get' counts how many times the value occured and appends to dict_arr\n",
    "print(dict_arr)"
   ]
  },
  {
   "cell_type": "code",
   "execution_count": 12,
   "id": "10cdc12c",
   "metadata": {},
   "outputs": [
    {
     "name": "stdout",
     "output_type": "stream",
     "text": [
      "[3, 2, 2, 5, 1]\n"
     ]
    }
   ],
   "source": [
    "counts = []\n",
    "for i, j in dict_arr.items():\n",
    "    counts.append(j) ##appending the number of occurences\n",
    "print(counts)"
   ]
  },
  {
   "cell_type": "code",
   "execution_count": 23,
   "id": "cfa95b93",
   "metadata": {},
   "outputs": [
    {
     "name": "stdout",
     "output_type": "stream",
     "text": [
      "[1, 2, 2, 3, 5]\n",
      "5\n"
     ]
    }
   ],
   "source": [
    "##finding the highest number\n",
    "d_max = counts[0]\n",
    "for i in counts:\n",
    "    if i > d_max:\n",
    "        d_max = i\n",
    "# print(d_max)\n",
    "\n",
    "##########     OR     ########################\n",
    "\n",
    "counts.sort()\n",
    "print(counts)\n",
    "print(counts[-1])"
   ]
  },
  {
   "cell_type": "code",
   "execution_count": 14,
   "id": "d22e66a1",
   "metadata": {},
   "outputs": [
    {
     "name": "stdout",
     "output_type": "stream",
     "text": [
      "4\n"
     ]
    }
   ],
   "source": [
    "##find ing the value with the highest occurance\n",
    "for k,  n in dict_arr.items():\n",
    "    if n == d_max:\n",
    "        print(k)"
   ]
  },
  {
   "cell_type": "code",
   "execution_count": 34,
   "id": "0ea168ed",
   "metadata": {},
   "outputs": [
    {
     "name": "stdout",
     "output_type": "stream",
     "text": [
      "3\n",
      "5\n",
      "5\n",
      "timi\n",
      "timi\n",
      "4\n",
      "jane\n"
     ]
    }
   ],
   "source": [
    "new = []\n",
    "for i, t in dict_arr.items():\n",
    "    for a in counts:\n",
    "        if a == t:\n",
    "            print(i)"
   ]
  },
  {
   "cell_type": "code",
   "execution_count": 2,
   "id": "9c8c4f14",
   "metadata": {},
   "outputs": [],
   "source": [
    "dict_data = [{\"name\": \"tobi\", \"scores\": {\"eng\": 55,\n",
    "                                        \"math\": 75,\n",
    "                                        \"econs\": 95},\n",
    "             \"class\": \"ss1\",\n",
    "             \"family\": \"both\"},\n",
    "            {\"name\": \"manuel\", \"scores\": {\"eng\": 44,\n",
    "                                        \"math\": 65,\n",
    "                                        \"econs\": 79},\n",
    "             \"class\": \"ss2\",\n",
    "             \"family\": \"single\"}]\n",
    "# print(dict_data)"
   ]
  },
  {
   "cell_type": "code",
   "execution_count": 9,
   "id": "eaff52d4",
   "metadata": {},
   "outputs": [
    {
     "name": "stdout",
     "output_type": "stream",
     "text": [
      "[[55, 75, 95], [44, 65, 79]]\n",
      "[75, 62.67]\n"
     ]
    }
   ],
   "source": [
    "##average score for each student\n",
    "\n",
    "n_scores = []\n",
    "for i in dict_data:\n",
    "    v_score = []\n",
    "    score_vals = i[\"scores\"]\n",
    "    for a, b in score_vals.items():\n",
    "        v_score.append(b)\n",
    "    n_scores.append(v_score)\n",
    "#     print(v_score)\n",
    "# print(scores)\n",
    "\n",
    "for i in range(len(n_scores)):\n",
    "    average = round(sum(n_scores[i])/len(n_scores[i]), 2)\n",
    "    dict_data[i][\"average\"] = average\n",
    "# dict_data\n",
    "\n",
    "\n",
    "##########     WRAPPING IN A FUNCTION\n",
    "\n",
    "#step1: function to get the scores or any other data\n",
    "\n",
    "import statistics as s\n",
    "\n",
    "def scores(dict_data):\n",
    "    new_scores = []\n",
    "    for i in dict_data:\n",
    "        arr = []\n",
    "        score_vals = i[\"scores\"]\n",
    "        for n, j in score_vals.items():\n",
    "            arr.append(j)\n",
    "        new_scores.append(arr)\n",
    "    return new_scores\n",
    "def avg_scores(new_scores):\n",
    "    mean = []\n",
    "    for i in new_scores:\n",
    "        a = round(s.mean(i), 2)\n",
    "        mean.append(a)\n",
    "    return mean\n",
    "\n",
    "scores = scores(dict_data)\n",
    "avg = avg_scores(scores)\n",
    "print(scores)\n",
    "print(avg)\n"
   ]
  },
  {
   "cell_type": "code",
   "execution_count": 102,
   "id": "c26fa164",
   "metadata": {},
   "outputs": [
    {
     "name": "stdout",
     "output_type": "stream",
     "text": [
      "manuel\n"
     ]
    }
   ],
   "source": [
    "for i in dict_data:\n",
    "    for a, b in i.items():\n",
    "        if a == \"class\" and  b == \"ss2\":\n",
    "            print(i[\"name\"])"
   ]
  },
  {
   "cell_type": "code",
   "execution_count": 103,
   "id": "72de6d4a",
   "metadata": {},
   "outputs": [
    {
     "name": "stdout",
     "output_type": "stream",
     "text": [
      "tobi\n"
     ]
    }
   ],
   "source": [
    "for i in dict_data:\n",
    "    for a, b in i.items():\n",
    "        if a == \"family\" and  b == \"both\":\n",
    "            print(i[\"name\"])"
   ]
  },
  {
   "cell_type": "code",
   "execution_count": 140,
   "id": "133f52cb",
   "metadata": {},
   "outputs": [
    {
     "name": "stdout",
     "output_type": "stream",
     "text": [
      "[55, 75, 95]\n"
     ]
    },
    {
     "data": {
      "text/plain": [
       "55"
      ]
     },
     "execution_count": 140,
     "metadata": {},
     "output_type": "execute_result"
    }
   ],
   "source": [
    "t_scores = []\n",
    "for i in dict_data:\n",
    "    \n",
    "    for a, b in i.items():\n",
    "        if a == \"name\" and b == \"tobi\":\n",
    "            t = i[\"scores\"]\n",
    "            for a, b in t.items():\n",
    "                t_scores.append(b)\n",
    "print(t_scores)\n",
    "\n",
    "from statistics import mode\n",
    "mode(t_scores)\n",
    "\n",
    "            "
   ]
  },
  {
   "cell_type": "code",
   "execution_count": null,
   "id": "c21d8304",
   "metadata": {},
   "outputs": [],
   "source": []
  },
  {
   "cell_type": "code",
   "execution_count": null,
   "id": "85a45d8d",
   "metadata": {},
   "outputs": [],
   "source": []
  }
 ],
 "metadata": {
  "kernelspec": {
   "display_name": "Python 3 (ipykernel)",
   "language": "python",
   "name": "python3"
  },
  "language_info": {
   "codemirror_mode": {
    "name": "ipython",
    "version": 3
   },
   "file_extension": ".py",
   "mimetype": "text/x-python",
   "name": "python",
   "nbconvert_exporter": "python",
   "pygments_lexer": "ipython3",
   "version": "3.9.7"
  }
 },
 "nbformat": 4,
 "nbformat_minor": 5
}
