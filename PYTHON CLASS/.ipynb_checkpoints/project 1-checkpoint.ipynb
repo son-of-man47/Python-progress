{
 "cells": [
  {
   "cell_type": "code",
   "execution_count": 78,
   "id": "df9bf438",
   "metadata": {},
   "outputs": [],
   "source": [
    "import pandas as pd\n",
    "import numpy as np\n",
    "import matplotlib.pyplot as plt\n",
    "%matplotlib inline"
   ]
  },
  {
   "cell_type": "code",
   "execution_count": 79,
   "id": "efcd6332",
   "metadata": {},
   "outputs": [],
   "source": [
    "file = \"C:/Users/IROANYA/Documents/DATA ANALYSIS FILES/sales_data_sample1.csv\""
   ]
  },
  {
   "cell_type": "code",
   "execution_count": 80,
   "id": "4cfb6351",
   "metadata": {},
   "outputs": [],
   "source": [
    "dt = pd.read_csv(file, encoding = \"unicode_escape\")"
   ]
  },
  {
   "cell_type": "code",
   "execution_count": 81,
   "id": "8fa7d5e0",
   "metadata": {},
   "outputs": [],
   "source": [
    "df = dt.copy()"
   ]
  },
  {
   "cell_type": "code",
   "execution_count": 82,
   "id": "99bd760d",
   "metadata": {},
   "outputs": [
    {
     "data": {
      "text/html": [
       "<div>\n",
       "<style scoped>\n",
       "    .dataframe tbody tr th:only-of-type {\n",
       "        vertical-align: middle;\n",
       "    }\n",
       "\n",
       "    .dataframe tbody tr th {\n",
       "        vertical-align: top;\n",
       "    }\n",
       "\n",
       "    .dataframe thead th {\n",
       "        text-align: right;\n",
       "    }\n",
       "</style>\n",
       "<table border=\"1\" class=\"dataframe\">\n",
       "  <thead>\n",
       "    <tr style=\"text-align: right;\">\n",
       "      <th></th>\n",
       "      <th>ORDERNUMBER</th>\n",
       "      <th>QUANTITYORDERED</th>\n",
       "      <th>PRICEEACH</th>\n",
       "      <th>ORDERLINENUMBER</th>\n",
       "      <th>SALES</th>\n",
       "      <th>ORDERDATE</th>\n",
       "      <th>STATUS</th>\n",
       "      <th>QTR_ID</th>\n",
       "      <th>MONTH_ID</th>\n",
       "      <th>YEAR_ID</th>\n",
       "      <th>PRODUCTLINE</th>\n",
       "      <th>MSRP</th>\n",
       "      <th>PRODUCTCODE</th>\n",
       "      <th>CUSTOMERNAME</th>\n",
       "      <th>PHONE</th>\n",
       "      <th>ADDRESSLINE1</th>\n",
       "      <th>ADDRESSLINE2</th>\n",
       "      <th>CITY</th>\n",
       "      <th>STATE</th>\n",
       "      <th>POSTALCODE</th>\n",
       "      <th>COUNTRY</th>\n",
       "      <th>TERRITORY</th>\n",
       "      <th>CONTACTLASTNAME</th>\n",
       "      <th>CONTACTFIRSTNAME</th>\n",
       "      <th>DEALSIZE</th>\n",
       "    </tr>\n",
       "  </thead>\n",
       "  <tbody>\n",
       "    <tr>\n",
       "      <th>0</th>\n",
       "      <td>10107</td>\n",
       "      <td>30</td>\n",
       "      <td>95.70</td>\n",
       "      <td>2</td>\n",
       "      <td>2871.00</td>\n",
       "      <td>2/24/2003 0:00</td>\n",
       "      <td>Shipped</td>\n",
       "      <td>1</td>\n",
       "      <td>2</td>\n",
       "      <td>2003</td>\n",
       "      <td>Motorcycles</td>\n",
       "      <td>95</td>\n",
       "      <td>S10_1678</td>\n",
       "      <td>Land of Toys Inc.</td>\n",
       "      <td>2125557818</td>\n",
       "      <td>897 Long Airport Avenue</td>\n",
       "      <td>NaN</td>\n",
       "      <td>NYC</td>\n",
       "      <td>NY</td>\n",
       "      <td>10022</td>\n",
       "      <td>USA</td>\n",
       "      <td>NaN</td>\n",
       "      <td>Yu</td>\n",
       "      <td>Kwai</td>\n",
       "      <td>Small</td>\n",
       "    </tr>\n",
       "    <tr>\n",
       "      <th>1</th>\n",
       "      <td>10121</td>\n",
       "      <td>34</td>\n",
       "      <td>81.35</td>\n",
       "      <td>5</td>\n",
       "      <td>2765.90</td>\n",
       "      <td>05/07/2003 0:00</td>\n",
       "      <td>Shipped</td>\n",
       "      <td>2</td>\n",
       "      <td>5</td>\n",
       "      <td>2003</td>\n",
       "      <td>Motorcycles</td>\n",
       "      <td>95</td>\n",
       "      <td>S10_1678</td>\n",
       "      <td>Reims Collectables</td>\n",
       "      <td>26.47.1555</td>\n",
       "      <td>59 rue de l'Abbaye</td>\n",
       "      <td>NaN</td>\n",
       "      <td>Reims</td>\n",
       "      <td>NaN</td>\n",
       "      <td>51100</td>\n",
       "      <td>France</td>\n",
       "      <td>EMEA</td>\n",
       "      <td>Henriot</td>\n",
       "      <td>Paul</td>\n",
       "      <td>Small</td>\n",
       "    </tr>\n",
       "    <tr>\n",
       "      <th>2</th>\n",
       "      <td>10134</td>\n",
       "      <td>41</td>\n",
       "      <td>94.74</td>\n",
       "      <td>2</td>\n",
       "      <td>3884.34</td>\n",
       "      <td>07/01/2003 0:00</td>\n",
       "      <td>Shipped</td>\n",
       "      <td>3</td>\n",
       "      <td>7</td>\n",
       "      <td>2003</td>\n",
       "      <td>Motorcycles</td>\n",
       "      <td>95</td>\n",
       "      <td>S10_1678</td>\n",
       "      <td>Lyon Souveniers</td>\n",
       "      <td>+33 1 46 62 7555</td>\n",
       "      <td>27 rue du Colonel Pierre Avia</td>\n",
       "      <td>NaN</td>\n",
       "      <td>Paris</td>\n",
       "      <td>NaN</td>\n",
       "      <td>75508</td>\n",
       "      <td>France</td>\n",
       "      <td>EMEA</td>\n",
       "      <td>Da Cunha</td>\n",
       "      <td>Daniel</td>\n",
       "      <td>Medium</td>\n",
       "    </tr>\n",
       "    <tr>\n",
       "      <th>3</th>\n",
       "      <td>10145</td>\n",
       "      <td>45</td>\n",
       "      <td>83.26</td>\n",
       "      <td>6</td>\n",
       "      <td>3746.70</td>\n",
       "      <td>8/25/2003 0:00</td>\n",
       "      <td>Shipped</td>\n",
       "      <td>3</td>\n",
       "      <td>8</td>\n",
       "      <td>2003</td>\n",
       "      <td>Motorcycles</td>\n",
       "      <td>95</td>\n",
       "      <td>S10_1678</td>\n",
       "      <td>Toys4GrownUps.com</td>\n",
       "      <td>6265557265</td>\n",
       "      <td>78934 Hillside Dr.</td>\n",
       "      <td>NaN</td>\n",
       "      <td>Pasadena</td>\n",
       "      <td>CA</td>\n",
       "      <td>90003</td>\n",
       "      <td>USA</td>\n",
       "      <td>NaN</td>\n",
       "      <td>Young</td>\n",
       "      <td>Julie</td>\n",
       "      <td>Medium</td>\n",
       "    </tr>\n",
       "    <tr>\n",
       "      <th>4</th>\n",
       "      <td>10159</td>\n",
       "      <td>49</td>\n",
       "      <td>100.00</td>\n",
       "      <td>14</td>\n",
       "      <td>5205.27</td>\n",
       "      <td>10/10/2003 0:00</td>\n",
       "      <td>Shipped</td>\n",
       "      <td>4</td>\n",
       "      <td>10</td>\n",
       "      <td>2003</td>\n",
       "      <td>Motorcycles</td>\n",
       "      <td>95</td>\n",
       "      <td>S10_1678</td>\n",
       "      <td>Corporate Gift Ideas Co.</td>\n",
       "      <td>6505551386</td>\n",
       "      <td>7734 Strong St.</td>\n",
       "      <td>NaN</td>\n",
       "      <td>San Francisco</td>\n",
       "      <td>CA</td>\n",
       "      <td>NaN</td>\n",
       "      <td>USA</td>\n",
       "      <td>NaN</td>\n",
       "      <td>Brown</td>\n",
       "      <td>Julie</td>\n",
       "      <td>Medium</td>\n",
       "    </tr>\n",
       "  </tbody>\n",
       "</table>\n",
       "</div>"
      ],
      "text/plain": [
       "   ORDERNUMBER  QUANTITYORDERED  PRICEEACH  ORDERLINENUMBER    SALES  \\\n",
       "0        10107               30      95.70                2  2871.00   \n",
       "1        10121               34      81.35                5  2765.90   \n",
       "2        10134               41      94.74                2  3884.34   \n",
       "3        10145               45      83.26                6  3746.70   \n",
       "4        10159               49     100.00               14  5205.27   \n",
       "\n",
       "         ORDERDATE   STATUS  QTR_ID  MONTH_ID  YEAR_ID  PRODUCTLINE  MSRP  \\\n",
       "0   2/24/2003 0:00  Shipped       1         2     2003  Motorcycles    95   \n",
       "1  05/07/2003 0:00  Shipped       2         5     2003  Motorcycles    95   \n",
       "2  07/01/2003 0:00  Shipped       3         7     2003  Motorcycles    95   \n",
       "3   8/25/2003 0:00  Shipped       3         8     2003  Motorcycles    95   \n",
       "4  10/10/2003 0:00  Shipped       4        10     2003  Motorcycles    95   \n",
       "\n",
       "  PRODUCTCODE              CUSTOMERNAME             PHONE  \\\n",
       "0    S10_1678         Land of Toys Inc.        2125557818   \n",
       "1    S10_1678        Reims Collectables        26.47.1555   \n",
       "2    S10_1678           Lyon Souveniers  +33 1 46 62 7555   \n",
       "3    S10_1678         Toys4GrownUps.com        6265557265   \n",
       "4    S10_1678  Corporate Gift Ideas Co.        6505551386   \n",
       "\n",
       "                    ADDRESSLINE1 ADDRESSLINE2           CITY STATE POSTALCODE  \\\n",
       "0        897 Long Airport Avenue          NaN            NYC    NY      10022   \n",
       "1             59 rue de l'Abbaye          NaN          Reims   NaN      51100   \n",
       "2  27 rue du Colonel Pierre Avia          NaN          Paris   NaN      75508   \n",
       "3             78934 Hillside Dr.          NaN       Pasadena    CA      90003   \n",
       "4                7734 Strong St.          NaN  San Francisco    CA        NaN   \n",
       "\n",
       "  COUNTRY TERRITORY CONTACTLASTNAME CONTACTFIRSTNAME DEALSIZE  \n",
       "0     USA       NaN              Yu             Kwai    Small  \n",
       "1  France      EMEA         Henriot             Paul    Small  \n",
       "2  France      EMEA        Da Cunha           Daniel   Medium  \n",
       "3     USA       NaN           Young            Julie   Medium  \n",
       "4     USA       NaN           Brown            Julie   Medium  "
      ]
     },
     "execution_count": 82,
     "metadata": {},
     "output_type": "execute_result"
    }
   ],
   "source": [
    "df.head()"
   ]
  },
  {
   "cell_type": "code",
   "execution_count": 83,
   "id": "3b4988a4",
   "metadata": {},
   "outputs": [
    {
     "name": "stdout",
     "output_type": "stream",
     "text": [
      "<class 'pandas.core.frame.DataFrame'>\n",
      "RangeIndex: 2823 entries, 0 to 2822\n",
      "Data columns (total 25 columns):\n",
      " #   Column            Non-Null Count  Dtype  \n",
      "---  ------            --------------  -----  \n",
      " 0   ORDERNUMBER       2823 non-null   int64  \n",
      " 1   QUANTITYORDERED   2823 non-null   int64  \n",
      " 2   PRICEEACH         2823 non-null   float64\n",
      " 3   ORDERLINENUMBER   2823 non-null   int64  \n",
      " 4   SALES             2823 non-null   float64\n",
      " 5   ORDERDATE         2823 non-null   object \n",
      " 6   STATUS            2823 non-null   object \n",
      " 7   QTR_ID            2823 non-null   int64  \n",
      " 8   MONTH_ID          2823 non-null   int64  \n",
      " 9   YEAR_ID           2823 non-null   int64  \n",
      " 10  PRODUCTLINE       2823 non-null   object \n",
      " 11  MSRP              2823 non-null   int64  \n",
      " 12  PRODUCTCODE       2823 non-null   object \n",
      " 13  CUSTOMERNAME      2823 non-null   object \n",
      " 14  PHONE             2823 non-null   object \n",
      " 15  ADDRESSLINE1      2823 non-null   object \n",
      " 16  ADDRESSLINE2      302 non-null    object \n",
      " 17  CITY              2823 non-null   object \n",
      " 18  STATE             1337 non-null   object \n",
      " 19  POSTALCODE        2747 non-null   object \n",
      " 20  COUNTRY           2823 non-null   object \n",
      " 21  TERRITORY         1749 non-null   object \n",
      " 22  CONTACTLASTNAME   2823 non-null   object \n",
      " 23  CONTACTFIRSTNAME  2823 non-null   object \n",
      " 24  DEALSIZE          2823 non-null   object \n",
      "dtypes: float64(2), int64(7), object(16)\n",
      "memory usage: 551.5+ KB\n"
     ]
    }
   ],
   "source": [
    "dt.info()"
   ]
  },
  {
   "cell_type": "code",
   "execution_count": 84,
   "id": "426c9f2c",
   "metadata": {},
   "outputs": [
    {
     "data": {
      "text/plain": [
       "(2823, 25)"
      ]
     },
     "execution_count": 84,
     "metadata": {},
     "output_type": "execute_result"
    }
   ],
   "source": [
    "df.shape"
   ]
  },
  {
   "cell_type": "code",
   "execution_count": 85,
   "id": "3c8e2684",
   "metadata": {},
   "outputs": [
    {
     "data": {
      "text/plain": [
       "Index(['ORDERNUMBER', 'QUANTITYORDERED', 'PRICEEACH', 'ORDERLINENUMBER',\n",
       "       'SALES', 'ORDERDATE', 'STATUS', 'QTR_ID', 'MONTH_ID', 'YEAR_ID',\n",
       "       'PRODUCTLINE', 'MSRP', 'PRODUCTCODE', 'CUSTOMERNAME', 'PHONE',\n",
       "       'ADDRESSLINE1', 'ADDRESSLINE2', 'CITY', 'STATE', 'POSTALCODE',\n",
       "       'COUNTRY', 'TERRITORY', 'CONTACTLASTNAME', 'CONTACTFIRSTNAME',\n",
       "       'DEALSIZE'],\n",
       "      dtype='object')"
      ]
     },
     "execution_count": 85,
     "metadata": {},
     "output_type": "execute_result"
    }
   ],
   "source": [
    "df.columns"
   ]
  },
  {
   "cell_type": "markdown",
   "id": "788862ef",
   "metadata": {},
   "source": [
    "# DATA CLEANING"
   ]
  },
  {
   "cell_type": "markdown",
   "id": "fec7d37b",
   "metadata": {},
   "source": [
    "# checcking na values"
   ]
  },
  {
   "cell_type": "code",
   "execution_count": 86,
   "id": "0185dbc9",
   "metadata": {},
   "outputs": [
    {
     "data": {
      "text/plain": [
       "ORDERNUMBER            0\n",
       "QUANTITYORDERED        0\n",
       "PRICEEACH              0\n",
       "ORDERLINENUMBER        0\n",
       "SALES                  0\n",
       "ORDERDATE              0\n",
       "STATUS                 0\n",
       "QTR_ID                 0\n",
       "MONTH_ID               0\n",
       "YEAR_ID                0\n",
       "PRODUCTLINE            0\n",
       "MSRP                   0\n",
       "PRODUCTCODE            0\n",
       "CUSTOMERNAME           0\n",
       "PHONE                  0\n",
       "ADDRESSLINE1           0\n",
       "ADDRESSLINE2        2521\n",
       "CITY                   0\n",
       "STATE               1486\n",
       "POSTALCODE            76\n",
       "COUNTRY                0\n",
       "TERRITORY           1074\n",
       "CONTACTLASTNAME        0\n",
       "CONTACTFIRSTNAME       0\n",
       "DEALSIZE               0\n",
       "dtype: int64"
      ]
     },
     "execution_count": 86,
     "metadata": {},
     "output_type": "execute_result"
    }
   ],
   "source": [
    "df.isna().sum()"
   ]
  },
  {
   "cell_type": "markdown",
   "id": "cbc65b8f",
   "metadata": {},
   "source": [
    "# dropping some columns"
   ]
  },
  {
   "cell_type": "code",
   "execution_count": 87,
   "id": "b7600999",
   "metadata": {},
   "outputs": [
    {
     "data": {
      "text/plain": [
       "Index(['ORDERNUMBER', 'QUANTITYORDERED', 'PRICEEACH', 'ORDERLINENUMBER',\n",
       "       'ORDERDATE', 'STATUS', 'QTR_ID', 'YEAR_ID', 'PRODUCTLINE', 'MSRP',\n",
       "       'PRODUCTCODE', 'CUSTOMERNAME', 'PHONE', 'ADDRESSLINE1', 'CITY',\n",
       "       'POSTALCODE', 'COUNTRY', 'CONTACTLASTNAME', 'CONTACTFIRSTNAME',\n",
       "       'DEALSIZE'],\n",
       "      dtype='object')"
      ]
     },
     "execution_count": 87,
     "metadata": {},
     "output_type": "execute_result"
    }
   ],
   "source": [
    "df = df.drop([\"SALES\", \"MONTH_ID\", \"TERRITORY\", \"ADDRESSLINE2\", \"STATE\"], axis = 1)\n",
    "df.columns"
   ]
  },
  {
   "cell_type": "code",
   "execution_count": 88,
   "id": "8cdf5c1c",
   "metadata": {},
   "outputs": [
    {
     "name": "stdout",
     "output_type": "stream",
     "text": [
      "<class 'pandas.core.frame.DataFrame'>\n",
      "RangeIndex: 2823 entries, 0 to 2822\n",
      "Data columns (total 20 columns):\n",
      " #   Column            Non-Null Count  Dtype  \n",
      "---  ------            --------------  -----  \n",
      " 0   ORDERNUMBER       2823 non-null   int64  \n",
      " 1   QUANTITYORDERED   2823 non-null   int64  \n",
      " 2   PRICEEACH         2823 non-null   float64\n",
      " 3   ORDERLINENUMBER   2823 non-null   int64  \n",
      " 4   ORDERDATE         2823 non-null   object \n",
      " 5   STATUS            2823 non-null   object \n",
      " 6   QTR_ID            2823 non-null   int64  \n",
      " 7   YEAR_ID           2823 non-null   int64  \n",
      " 8   PRODUCTLINE       2823 non-null   object \n",
      " 9   MSRP              2823 non-null   int64  \n",
      " 10  PRODUCTCODE       2823 non-null   object \n",
      " 11  CUSTOMERNAME      2823 non-null   object \n",
      " 12  PHONE             2823 non-null   object \n",
      " 13  ADDRESSLINE1      2823 non-null   object \n",
      " 14  CITY              2823 non-null   object \n",
      " 15  POSTALCODE        2747 non-null   object \n",
      " 16  COUNTRY           2823 non-null   object \n",
      " 17  CONTACTLASTNAME   2823 non-null   object \n",
      " 18  CONTACTFIRSTNAME  2823 non-null   object \n",
      " 19  DEALSIZE          2823 non-null   object \n",
      "dtypes: float64(1), int64(6), object(13)\n",
      "memory usage: 441.2+ KB\n"
     ]
    }
   ],
   "source": [
    "df.info()"
   ]
  },
  {
   "cell_type": "markdown",
   "id": "60f55803",
   "metadata": {},
   "source": [
    "# creating a new sales column"
   ]
  },
  {
   "cell_type": "code",
   "execution_count": 89,
   "id": "546b3a1b",
   "metadata": {},
   "outputs": [],
   "source": [
    "df[\"SALES\"] = df[\"QUANTITYORDERED\"] * df[\"PRICEEACH\"]"
   ]
  },
  {
   "cell_type": "code",
   "execution_count": 90,
   "id": "04c75a74",
   "metadata": {},
   "outputs": [],
   "source": [
    "pd.set_option(\"display.max.columns\", None)"
   ]
  },
  {
   "cell_type": "code",
   "execution_count": 91,
   "id": "2ec6e147",
   "metadata": {},
   "outputs": [
    {
     "data": {
      "text/html": [
       "<div>\n",
       "<style scoped>\n",
       "    .dataframe tbody tr th:only-of-type {\n",
       "        vertical-align: middle;\n",
       "    }\n",
       "\n",
       "    .dataframe tbody tr th {\n",
       "        vertical-align: top;\n",
       "    }\n",
       "\n",
       "    .dataframe thead th {\n",
       "        text-align: right;\n",
       "    }\n",
       "</style>\n",
       "<table border=\"1\" class=\"dataframe\">\n",
       "  <thead>\n",
       "    <tr style=\"text-align: right;\">\n",
       "      <th></th>\n",
       "      <th>ORDERNUMBER</th>\n",
       "      <th>QUANTITYORDERED</th>\n",
       "      <th>PRICEEACH</th>\n",
       "      <th>ORDERLINENUMBER</th>\n",
       "      <th>ORDERDATE</th>\n",
       "      <th>STATUS</th>\n",
       "      <th>QTR_ID</th>\n",
       "      <th>YEAR_ID</th>\n",
       "      <th>PRODUCTLINE</th>\n",
       "      <th>MSRP</th>\n",
       "      <th>PRODUCTCODE</th>\n",
       "      <th>CUSTOMERNAME</th>\n",
       "      <th>PHONE</th>\n",
       "      <th>ADDRESSLINE1</th>\n",
       "      <th>CITY</th>\n",
       "      <th>POSTALCODE</th>\n",
       "      <th>COUNTRY</th>\n",
       "      <th>CONTACTLASTNAME</th>\n",
       "      <th>CONTACTFIRSTNAME</th>\n",
       "      <th>DEALSIZE</th>\n",
       "      <th>SALES</th>\n",
       "    </tr>\n",
       "  </thead>\n",
       "  <tbody>\n",
       "    <tr>\n",
       "      <th>0</th>\n",
       "      <td>10107</td>\n",
       "      <td>30</td>\n",
       "      <td>95.70</td>\n",
       "      <td>2</td>\n",
       "      <td>2/24/2003 0:00</td>\n",
       "      <td>Shipped</td>\n",
       "      <td>1</td>\n",
       "      <td>2003</td>\n",
       "      <td>Motorcycles</td>\n",
       "      <td>95</td>\n",
       "      <td>S10_1678</td>\n",
       "      <td>Land of Toys Inc.</td>\n",
       "      <td>2125557818</td>\n",
       "      <td>897 Long Airport Avenue</td>\n",
       "      <td>NYC</td>\n",
       "      <td>10022</td>\n",
       "      <td>USA</td>\n",
       "      <td>Yu</td>\n",
       "      <td>Kwai</td>\n",
       "      <td>Small</td>\n",
       "      <td>2871.00</td>\n",
       "    </tr>\n",
       "    <tr>\n",
       "      <th>1</th>\n",
       "      <td>10121</td>\n",
       "      <td>34</td>\n",
       "      <td>81.35</td>\n",
       "      <td>5</td>\n",
       "      <td>05/07/2003 0:00</td>\n",
       "      <td>Shipped</td>\n",
       "      <td>2</td>\n",
       "      <td>2003</td>\n",
       "      <td>Motorcycles</td>\n",
       "      <td>95</td>\n",
       "      <td>S10_1678</td>\n",
       "      <td>Reims Collectables</td>\n",
       "      <td>26.47.1555</td>\n",
       "      <td>59 rue de l'Abbaye</td>\n",
       "      <td>Reims</td>\n",
       "      <td>51100</td>\n",
       "      <td>France</td>\n",
       "      <td>Henriot</td>\n",
       "      <td>Paul</td>\n",
       "      <td>Small</td>\n",
       "      <td>2765.90</td>\n",
       "    </tr>\n",
       "    <tr>\n",
       "      <th>2</th>\n",
       "      <td>10134</td>\n",
       "      <td>41</td>\n",
       "      <td>94.74</td>\n",
       "      <td>2</td>\n",
       "      <td>07/01/2003 0:00</td>\n",
       "      <td>Shipped</td>\n",
       "      <td>3</td>\n",
       "      <td>2003</td>\n",
       "      <td>Motorcycles</td>\n",
       "      <td>95</td>\n",
       "      <td>S10_1678</td>\n",
       "      <td>Lyon Souveniers</td>\n",
       "      <td>+33 1 46 62 7555</td>\n",
       "      <td>27 rue du Colonel Pierre Avia</td>\n",
       "      <td>Paris</td>\n",
       "      <td>75508</td>\n",
       "      <td>France</td>\n",
       "      <td>Da Cunha</td>\n",
       "      <td>Daniel</td>\n",
       "      <td>Medium</td>\n",
       "      <td>3884.34</td>\n",
       "    </tr>\n",
       "    <tr>\n",
       "      <th>3</th>\n",
       "      <td>10145</td>\n",
       "      <td>45</td>\n",
       "      <td>83.26</td>\n",
       "      <td>6</td>\n",
       "      <td>8/25/2003 0:00</td>\n",
       "      <td>Shipped</td>\n",
       "      <td>3</td>\n",
       "      <td>2003</td>\n",
       "      <td>Motorcycles</td>\n",
       "      <td>95</td>\n",
       "      <td>S10_1678</td>\n",
       "      <td>Toys4GrownUps.com</td>\n",
       "      <td>6265557265</td>\n",
       "      <td>78934 Hillside Dr.</td>\n",
       "      <td>Pasadena</td>\n",
       "      <td>90003</td>\n",
       "      <td>USA</td>\n",
       "      <td>Young</td>\n",
       "      <td>Julie</td>\n",
       "      <td>Medium</td>\n",
       "      <td>3746.70</td>\n",
       "    </tr>\n",
       "    <tr>\n",
       "      <th>4</th>\n",
       "      <td>10159</td>\n",
       "      <td>49</td>\n",
       "      <td>100.00</td>\n",
       "      <td>14</td>\n",
       "      <td>10/10/2003 0:00</td>\n",
       "      <td>Shipped</td>\n",
       "      <td>4</td>\n",
       "      <td>2003</td>\n",
       "      <td>Motorcycles</td>\n",
       "      <td>95</td>\n",
       "      <td>S10_1678</td>\n",
       "      <td>Corporate Gift Ideas Co.</td>\n",
       "      <td>6505551386</td>\n",
       "      <td>7734 Strong St.</td>\n",
       "      <td>San Francisco</td>\n",
       "      <td>NaN</td>\n",
       "      <td>USA</td>\n",
       "      <td>Brown</td>\n",
       "      <td>Julie</td>\n",
       "      <td>Medium</td>\n",
       "      <td>4900.00</td>\n",
       "    </tr>\n",
       "  </tbody>\n",
       "</table>\n",
       "</div>"
      ],
      "text/plain": [
       "   ORDERNUMBER  QUANTITYORDERED  PRICEEACH  ORDERLINENUMBER        ORDERDATE  \\\n",
       "0        10107               30      95.70                2   2/24/2003 0:00   \n",
       "1        10121               34      81.35                5  05/07/2003 0:00   \n",
       "2        10134               41      94.74                2  07/01/2003 0:00   \n",
       "3        10145               45      83.26                6   8/25/2003 0:00   \n",
       "4        10159               49     100.00               14  10/10/2003 0:00   \n",
       "\n",
       "    STATUS  QTR_ID  YEAR_ID  PRODUCTLINE  MSRP PRODUCTCODE  \\\n",
       "0  Shipped       1     2003  Motorcycles    95    S10_1678   \n",
       "1  Shipped       2     2003  Motorcycles    95    S10_1678   \n",
       "2  Shipped       3     2003  Motorcycles    95    S10_1678   \n",
       "3  Shipped       3     2003  Motorcycles    95    S10_1678   \n",
       "4  Shipped       4     2003  Motorcycles    95    S10_1678   \n",
       "\n",
       "               CUSTOMERNAME             PHONE                   ADDRESSLINE1  \\\n",
       "0         Land of Toys Inc.        2125557818        897 Long Airport Avenue   \n",
       "1        Reims Collectables        26.47.1555             59 rue de l'Abbaye   \n",
       "2           Lyon Souveniers  +33 1 46 62 7555  27 rue du Colonel Pierre Avia   \n",
       "3         Toys4GrownUps.com        6265557265             78934 Hillside Dr.   \n",
       "4  Corporate Gift Ideas Co.        6505551386                7734 Strong St.   \n",
       "\n",
       "            CITY POSTALCODE COUNTRY CONTACTLASTNAME CONTACTFIRSTNAME DEALSIZE  \\\n",
       "0            NYC      10022     USA              Yu             Kwai    Small   \n",
       "1          Reims      51100  France         Henriot             Paul    Small   \n",
       "2          Paris      75508  France        Da Cunha           Daniel   Medium   \n",
       "3       Pasadena      90003     USA           Young            Julie   Medium   \n",
       "4  San Francisco        NaN     USA           Brown            Julie   Medium   \n",
       "\n",
       "     SALES  \n",
       "0  2871.00  \n",
       "1  2765.90  \n",
       "2  3884.34  \n",
       "3  3746.70  \n",
       "4  4900.00  "
      ]
     },
     "execution_count": 91,
     "metadata": {},
     "output_type": "execute_result"
    }
   ],
   "source": [
    "df.head()"
   ]
  },
  {
   "cell_type": "markdown",
   "id": "2e494559",
   "metadata": {},
   "source": [
    "# bringing it closer to the price column"
   ]
  },
  {
   "cell_type": "code",
   "execution_count": 92,
   "id": "f288add9",
   "metadata": {},
   "outputs": [
    {
     "data": {
      "text/html": [
       "<div>\n",
       "<style scoped>\n",
       "    .dataframe tbody tr th:only-of-type {\n",
       "        vertical-align: middle;\n",
       "    }\n",
       "\n",
       "    .dataframe tbody tr th {\n",
       "        vertical-align: top;\n",
       "    }\n",
       "\n",
       "    .dataframe thead th {\n",
       "        text-align: right;\n",
       "    }\n",
       "</style>\n",
       "<table border=\"1\" class=\"dataframe\">\n",
       "  <thead>\n",
       "    <tr style=\"text-align: right;\">\n",
       "      <th></th>\n",
       "      <th>ORDERNUMBER</th>\n",
       "      <th>QUANTITYORDERED</th>\n",
       "      <th>PRICEEACH</th>\n",
       "      <th>SALES</th>\n",
       "      <th>ORDERLINENUMBER</th>\n",
       "      <th>ORDERDATE</th>\n",
       "      <th>STATUS</th>\n",
       "      <th>QTR_ID</th>\n",
       "      <th>YEAR_ID</th>\n",
       "      <th>PRODUCTLINE</th>\n",
       "      <th>MSRP</th>\n",
       "      <th>PRODUCTCODE</th>\n",
       "      <th>CUSTOMERNAME</th>\n",
       "      <th>PHONE</th>\n",
       "      <th>ADDRESSLINE1</th>\n",
       "      <th>CITY</th>\n",
       "      <th>POSTALCODE</th>\n",
       "      <th>COUNTRY</th>\n",
       "      <th>CONTACTLASTNAME</th>\n",
       "      <th>CONTACTFIRSTNAME</th>\n",
       "      <th>DEALSIZE</th>\n",
       "    </tr>\n",
       "  </thead>\n",
       "  <tbody>\n",
       "    <tr>\n",
       "      <th>0</th>\n",
       "      <td>10107</td>\n",
       "      <td>30</td>\n",
       "      <td>95.70</td>\n",
       "      <td>2871.00</td>\n",
       "      <td>2</td>\n",
       "      <td>2/24/2003 0:00</td>\n",
       "      <td>Shipped</td>\n",
       "      <td>1</td>\n",
       "      <td>2003</td>\n",
       "      <td>Motorcycles</td>\n",
       "      <td>95</td>\n",
       "      <td>S10_1678</td>\n",
       "      <td>Land of Toys Inc.</td>\n",
       "      <td>2125557818</td>\n",
       "      <td>897 Long Airport Avenue</td>\n",
       "      <td>NYC</td>\n",
       "      <td>10022</td>\n",
       "      <td>USA</td>\n",
       "      <td>Yu</td>\n",
       "      <td>Kwai</td>\n",
       "      <td>Small</td>\n",
       "    </tr>\n",
       "    <tr>\n",
       "      <th>1</th>\n",
       "      <td>10121</td>\n",
       "      <td>34</td>\n",
       "      <td>81.35</td>\n",
       "      <td>2765.90</td>\n",
       "      <td>5</td>\n",
       "      <td>05/07/2003 0:00</td>\n",
       "      <td>Shipped</td>\n",
       "      <td>2</td>\n",
       "      <td>2003</td>\n",
       "      <td>Motorcycles</td>\n",
       "      <td>95</td>\n",
       "      <td>S10_1678</td>\n",
       "      <td>Reims Collectables</td>\n",
       "      <td>26.47.1555</td>\n",
       "      <td>59 rue de l'Abbaye</td>\n",
       "      <td>Reims</td>\n",
       "      <td>51100</td>\n",
       "      <td>France</td>\n",
       "      <td>Henriot</td>\n",
       "      <td>Paul</td>\n",
       "      <td>Small</td>\n",
       "    </tr>\n",
       "    <tr>\n",
       "      <th>2</th>\n",
       "      <td>10134</td>\n",
       "      <td>41</td>\n",
       "      <td>94.74</td>\n",
       "      <td>3884.34</td>\n",
       "      <td>2</td>\n",
       "      <td>07/01/2003 0:00</td>\n",
       "      <td>Shipped</td>\n",
       "      <td>3</td>\n",
       "      <td>2003</td>\n",
       "      <td>Motorcycles</td>\n",
       "      <td>95</td>\n",
       "      <td>S10_1678</td>\n",
       "      <td>Lyon Souveniers</td>\n",
       "      <td>+33 1 46 62 7555</td>\n",
       "      <td>27 rue du Colonel Pierre Avia</td>\n",
       "      <td>Paris</td>\n",
       "      <td>75508</td>\n",
       "      <td>France</td>\n",
       "      <td>Da Cunha</td>\n",
       "      <td>Daniel</td>\n",
       "      <td>Medium</td>\n",
       "    </tr>\n",
       "    <tr>\n",
       "      <th>3</th>\n",
       "      <td>10145</td>\n",
       "      <td>45</td>\n",
       "      <td>83.26</td>\n",
       "      <td>3746.70</td>\n",
       "      <td>6</td>\n",
       "      <td>8/25/2003 0:00</td>\n",
       "      <td>Shipped</td>\n",
       "      <td>3</td>\n",
       "      <td>2003</td>\n",
       "      <td>Motorcycles</td>\n",
       "      <td>95</td>\n",
       "      <td>S10_1678</td>\n",
       "      <td>Toys4GrownUps.com</td>\n",
       "      <td>6265557265</td>\n",
       "      <td>78934 Hillside Dr.</td>\n",
       "      <td>Pasadena</td>\n",
       "      <td>90003</td>\n",
       "      <td>USA</td>\n",
       "      <td>Young</td>\n",
       "      <td>Julie</td>\n",
       "      <td>Medium</td>\n",
       "    </tr>\n",
       "    <tr>\n",
       "      <th>4</th>\n",
       "      <td>10159</td>\n",
       "      <td>49</td>\n",
       "      <td>100.00</td>\n",
       "      <td>4900.00</td>\n",
       "      <td>14</td>\n",
       "      <td>10/10/2003 0:00</td>\n",
       "      <td>Shipped</td>\n",
       "      <td>4</td>\n",
       "      <td>2003</td>\n",
       "      <td>Motorcycles</td>\n",
       "      <td>95</td>\n",
       "      <td>S10_1678</td>\n",
       "      <td>Corporate Gift Ideas Co.</td>\n",
       "      <td>6505551386</td>\n",
       "      <td>7734 Strong St.</td>\n",
       "      <td>San Francisco</td>\n",
       "      <td>NaN</td>\n",
       "      <td>USA</td>\n",
       "      <td>Brown</td>\n",
       "      <td>Julie</td>\n",
       "      <td>Medium</td>\n",
       "    </tr>\n",
       "  </tbody>\n",
       "</table>\n",
       "</div>"
      ],
      "text/plain": [
       "   ORDERNUMBER  QUANTITYORDERED  PRICEEACH    SALES  ORDERLINENUMBER  \\\n",
       "0        10107               30      95.70  2871.00                2   \n",
       "1        10121               34      81.35  2765.90                5   \n",
       "2        10134               41      94.74  3884.34                2   \n",
       "3        10145               45      83.26  3746.70                6   \n",
       "4        10159               49     100.00  4900.00               14   \n",
       "\n",
       "         ORDERDATE   STATUS  QTR_ID  YEAR_ID  PRODUCTLINE  MSRP PRODUCTCODE  \\\n",
       "0   2/24/2003 0:00  Shipped       1     2003  Motorcycles    95    S10_1678   \n",
       "1  05/07/2003 0:00  Shipped       2     2003  Motorcycles    95    S10_1678   \n",
       "2  07/01/2003 0:00  Shipped       3     2003  Motorcycles    95    S10_1678   \n",
       "3   8/25/2003 0:00  Shipped       3     2003  Motorcycles    95    S10_1678   \n",
       "4  10/10/2003 0:00  Shipped       4     2003  Motorcycles    95    S10_1678   \n",
       "\n",
       "               CUSTOMERNAME             PHONE                   ADDRESSLINE1  \\\n",
       "0         Land of Toys Inc.        2125557818        897 Long Airport Avenue   \n",
       "1        Reims Collectables        26.47.1555             59 rue de l'Abbaye   \n",
       "2           Lyon Souveniers  +33 1 46 62 7555  27 rue du Colonel Pierre Avia   \n",
       "3         Toys4GrownUps.com        6265557265             78934 Hillside Dr.   \n",
       "4  Corporate Gift Ideas Co.        6505551386                7734 Strong St.   \n",
       "\n",
       "            CITY POSTALCODE COUNTRY CONTACTLASTNAME CONTACTFIRSTNAME DEALSIZE  \n",
       "0            NYC      10022     USA              Yu             Kwai    Small  \n",
       "1          Reims      51100  France         Henriot             Paul    Small  \n",
       "2          Paris      75508  France        Da Cunha           Daniel   Medium  \n",
       "3       Pasadena      90003     USA           Young            Julie   Medium  \n",
       "4  San Francisco        NaN     USA           Brown            Julie   Medium  "
      ]
     },
     "execution_count": 92,
     "metadata": {},
     "output_type": "execute_result"
    }
   ],
   "source": [
    "col = df.pop(\"SALES\")\n",
    "df.insert(3, \"SALES\", col)\n",
    "df.head()"
   ]
  },
  {
   "cell_type": "markdown",
   "id": "85a407c4",
   "metadata": {},
   "source": [
    "# combining the first name and last name columns and dropping them"
   ]
  },
  {
   "cell_type": "code",
   "execution_count": 93,
   "id": "f929636e",
   "metadata": {},
   "outputs": [
    {
     "data": {
      "text/html": [
       "<div>\n",
       "<style scoped>\n",
       "    .dataframe tbody tr th:only-of-type {\n",
       "        vertical-align: middle;\n",
       "    }\n",
       "\n",
       "    .dataframe tbody tr th {\n",
       "        vertical-align: top;\n",
       "    }\n",
       "\n",
       "    .dataframe thead th {\n",
       "        text-align: right;\n",
       "    }\n",
       "</style>\n",
       "<table border=\"1\" class=\"dataframe\">\n",
       "  <thead>\n",
       "    <tr style=\"text-align: right;\">\n",
       "      <th></th>\n",
       "      <th>ORDERNUMBER</th>\n",
       "      <th>QUANTITYORDERED</th>\n",
       "      <th>PRICEEACH</th>\n",
       "      <th>SALES</th>\n",
       "      <th>ORDERLINENUMBER</th>\n",
       "      <th>ORDERDATE</th>\n",
       "      <th>STATUS</th>\n",
       "      <th>QTR_ID</th>\n",
       "      <th>YEAR_ID</th>\n",
       "      <th>PRODUCTLINE</th>\n",
       "      <th>MSRP</th>\n",
       "      <th>PRODUCTCODE</th>\n",
       "      <th>CUSTOMERNAME</th>\n",
       "      <th>PHONE</th>\n",
       "      <th>ADDRESSLINE1</th>\n",
       "      <th>CITY</th>\n",
       "      <th>POSTALCODE</th>\n",
       "      <th>COUNTRY</th>\n",
       "      <th>CONTACTLASTNAME</th>\n",
       "      <th>CONTACTFIRSTNAME</th>\n",
       "      <th>DEALSIZE</th>\n",
       "      <th>CONTACTNAME</th>\n",
       "    </tr>\n",
       "  </thead>\n",
       "  <tbody>\n",
       "    <tr>\n",
       "      <th>0</th>\n",
       "      <td>10107</td>\n",
       "      <td>30</td>\n",
       "      <td>95.70</td>\n",
       "      <td>2871.00</td>\n",
       "      <td>2</td>\n",
       "      <td>2/24/2003 0:00</td>\n",
       "      <td>Shipped</td>\n",
       "      <td>1</td>\n",
       "      <td>2003</td>\n",
       "      <td>Motorcycles</td>\n",
       "      <td>95</td>\n",
       "      <td>S10_1678</td>\n",
       "      <td>Land of Toys Inc.</td>\n",
       "      <td>2125557818</td>\n",
       "      <td>897 Long Airport Avenue</td>\n",
       "      <td>NYC</td>\n",
       "      <td>10022</td>\n",
       "      <td>USA</td>\n",
       "      <td>Yu</td>\n",
       "      <td>Kwai</td>\n",
       "      <td>Small</td>\n",
       "      <td>Yu Kwai</td>\n",
       "    </tr>\n",
       "    <tr>\n",
       "      <th>1</th>\n",
       "      <td>10121</td>\n",
       "      <td>34</td>\n",
       "      <td>81.35</td>\n",
       "      <td>2765.90</td>\n",
       "      <td>5</td>\n",
       "      <td>05/07/2003 0:00</td>\n",
       "      <td>Shipped</td>\n",
       "      <td>2</td>\n",
       "      <td>2003</td>\n",
       "      <td>Motorcycles</td>\n",
       "      <td>95</td>\n",
       "      <td>S10_1678</td>\n",
       "      <td>Reims Collectables</td>\n",
       "      <td>26.47.1555</td>\n",
       "      <td>59 rue de l'Abbaye</td>\n",
       "      <td>Reims</td>\n",
       "      <td>51100</td>\n",
       "      <td>France</td>\n",
       "      <td>Henriot</td>\n",
       "      <td>Paul</td>\n",
       "      <td>Small</td>\n",
       "      <td>Henriot Paul</td>\n",
       "    </tr>\n",
       "    <tr>\n",
       "      <th>2</th>\n",
       "      <td>10134</td>\n",
       "      <td>41</td>\n",
       "      <td>94.74</td>\n",
       "      <td>3884.34</td>\n",
       "      <td>2</td>\n",
       "      <td>07/01/2003 0:00</td>\n",
       "      <td>Shipped</td>\n",
       "      <td>3</td>\n",
       "      <td>2003</td>\n",
       "      <td>Motorcycles</td>\n",
       "      <td>95</td>\n",
       "      <td>S10_1678</td>\n",
       "      <td>Lyon Souveniers</td>\n",
       "      <td>+33 1 46 62 7555</td>\n",
       "      <td>27 rue du Colonel Pierre Avia</td>\n",
       "      <td>Paris</td>\n",
       "      <td>75508</td>\n",
       "      <td>France</td>\n",
       "      <td>Da Cunha</td>\n",
       "      <td>Daniel</td>\n",
       "      <td>Medium</td>\n",
       "      <td>Da Cunha Daniel</td>\n",
       "    </tr>\n",
       "    <tr>\n",
       "      <th>3</th>\n",
       "      <td>10145</td>\n",
       "      <td>45</td>\n",
       "      <td>83.26</td>\n",
       "      <td>3746.70</td>\n",
       "      <td>6</td>\n",
       "      <td>8/25/2003 0:00</td>\n",
       "      <td>Shipped</td>\n",
       "      <td>3</td>\n",
       "      <td>2003</td>\n",
       "      <td>Motorcycles</td>\n",
       "      <td>95</td>\n",
       "      <td>S10_1678</td>\n",
       "      <td>Toys4GrownUps.com</td>\n",
       "      <td>6265557265</td>\n",
       "      <td>78934 Hillside Dr.</td>\n",
       "      <td>Pasadena</td>\n",
       "      <td>90003</td>\n",
       "      <td>USA</td>\n",
       "      <td>Young</td>\n",
       "      <td>Julie</td>\n",
       "      <td>Medium</td>\n",
       "      <td>Young Julie</td>\n",
       "    </tr>\n",
       "    <tr>\n",
       "      <th>4</th>\n",
       "      <td>10159</td>\n",
       "      <td>49</td>\n",
       "      <td>100.00</td>\n",
       "      <td>4900.00</td>\n",
       "      <td>14</td>\n",
       "      <td>10/10/2003 0:00</td>\n",
       "      <td>Shipped</td>\n",
       "      <td>4</td>\n",
       "      <td>2003</td>\n",
       "      <td>Motorcycles</td>\n",
       "      <td>95</td>\n",
       "      <td>S10_1678</td>\n",
       "      <td>Corporate Gift Ideas Co.</td>\n",
       "      <td>6505551386</td>\n",
       "      <td>7734 Strong St.</td>\n",
       "      <td>San Francisco</td>\n",
       "      <td>NaN</td>\n",
       "      <td>USA</td>\n",
       "      <td>Brown</td>\n",
       "      <td>Julie</td>\n",
       "      <td>Medium</td>\n",
       "      <td>Brown Julie</td>\n",
       "    </tr>\n",
       "  </tbody>\n",
       "</table>\n",
       "</div>"
      ],
      "text/plain": [
       "   ORDERNUMBER  QUANTITYORDERED  PRICEEACH    SALES  ORDERLINENUMBER  \\\n",
       "0        10107               30      95.70  2871.00                2   \n",
       "1        10121               34      81.35  2765.90                5   \n",
       "2        10134               41      94.74  3884.34                2   \n",
       "3        10145               45      83.26  3746.70                6   \n",
       "4        10159               49     100.00  4900.00               14   \n",
       "\n",
       "         ORDERDATE   STATUS  QTR_ID  YEAR_ID  PRODUCTLINE  MSRP PRODUCTCODE  \\\n",
       "0   2/24/2003 0:00  Shipped       1     2003  Motorcycles    95    S10_1678   \n",
       "1  05/07/2003 0:00  Shipped       2     2003  Motorcycles    95    S10_1678   \n",
       "2  07/01/2003 0:00  Shipped       3     2003  Motorcycles    95    S10_1678   \n",
       "3   8/25/2003 0:00  Shipped       3     2003  Motorcycles    95    S10_1678   \n",
       "4  10/10/2003 0:00  Shipped       4     2003  Motorcycles    95    S10_1678   \n",
       "\n",
       "               CUSTOMERNAME             PHONE                   ADDRESSLINE1  \\\n",
       "0         Land of Toys Inc.        2125557818        897 Long Airport Avenue   \n",
       "1        Reims Collectables        26.47.1555             59 rue de l'Abbaye   \n",
       "2           Lyon Souveniers  +33 1 46 62 7555  27 rue du Colonel Pierre Avia   \n",
       "3         Toys4GrownUps.com        6265557265             78934 Hillside Dr.   \n",
       "4  Corporate Gift Ideas Co.        6505551386                7734 Strong St.   \n",
       "\n",
       "            CITY POSTALCODE COUNTRY CONTACTLASTNAME CONTACTFIRSTNAME DEALSIZE  \\\n",
       "0            NYC      10022     USA              Yu             Kwai    Small   \n",
       "1          Reims      51100  France         Henriot             Paul    Small   \n",
       "2          Paris      75508  France        Da Cunha           Daniel   Medium   \n",
       "3       Pasadena      90003     USA           Young            Julie   Medium   \n",
       "4  San Francisco        NaN     USA           Brown            Julie   Medium   \n",
       "\n",
       "       CONTACTNAME  \n",
       "0          Yu Kwai  \n",
       "1     Henriot Paul  \n",
       "2  Da Cunha Daniel  \n",
       "3      Young Julie  \n",
       "4      Brown Julie  "
      ]
     },
     "execution_count": 93,
     "metadata": {},
     "output_type": "execute_result"
    }
   ],
   "source": [
    "df[\"CONTACTNAME\"] = df[\"CONTACTLASTNAME\"] + \" \" + df[\"CONTACTFIRSTNAME\"]\n",
    "df.head()"
   ]
  },
  {
   "cell_type": "code",
   "execution_count": 94,
   "id": "5260eaf6",
   "metadata": {},
   "outputs": [
    {
     "name": "stdout",
     "output_type": "stream",
     "text": [
      "<class 'pandas.core.frame.DataFrame'>\n",
      "RangeIndex: 2823 entries, 0 to 2822\n",
      "Data columns (total 20 columns):\n",
      " #   Column           Non-Null Count  Dtype  \n",
      "---  ------           --------------  -----  \n",
      " 0   ORDERNUMBER      2823 non-null   int64  \n",
      " 1   QUANTITYORDERED  2823 non-null   int64  \n",
      " 2   PRICEEACH        2823 non-null   float64\n",
      " 3   SALES            2823 non-null   float64\n",
      " 4   ORDERLINENUMBER  2823 non-null   int64  \n",
      " 5   ORDERDATE        2823 non-null   object \n",
      " 6   STATUS           2823 non-null   object \n",
      " 7   QTR_ID           2823 non-null   int64  \n",
      " 8   YEAR_ID          2823 non-null   int64  \n",
      " 9   PRODUCTLINE      2823 non-null   object \n",
      " 10  MSRP             2823 non-null   int64  \n",
      " 11  PRODUCTCODE      2823 non-null   object \n",
      " 12  CUSTOMERNAME     2823 non-null   object \n",
      " 13  PHONE            2823 non-null   object \n",
      " 14  ADDRESSLINE1     2823 non-null   object \n",
      " 15  CITY             2823 non-null   object \n",
      " 16  POSTALCODE       2747 non-null   object \n",
      " 17  COUNTRY          2823 non-null   object \n",
      " 18  DEALSIZE         2823 non-null   object \n",
      " 19  CONTACTNAME      2823 non-null   object \n",
      "dtypes: float64(2), int64(6), object(12)\n",
      "memory usage: 441.2+ KB\n"
     ]
    }
   ],
   "source": [
    "df = df.drop([\"CONTACTLASTNAME\", \"CONTACTFIRSTNAME\"], axis = 1)\n",
    "df.info()"
   ]
  },
  {
   "cell_type": "code",
   "execution_count": 95,
   "id": "ab685443",
   "metadata": {},
   "outputs": [
    {
     "data": {
      "text/html": [
       "<div>\n",
       "<style scoped>\n",
       "    .dataframe tbody tr th:only-of-type {\n",
       "        vertical-align: middle;\n",
       "    }\n",
       "\n",
       "    .dataframe tbody tr th {\n",
       "        vertical-align: top;\n",
       "    }\n",
       "\n",
       "    .dataframe thead th {\n",
       "        text-align: right;\n",
       "    }\n",
       "</style>\n",
       "<table border=\"1\" class=\"dataframe\">\n",
       "  <thead>\n",
       "    <tr style=\"text-align: right;\">\n",
       "      <th></th>\n",
       "      <th>ORDERNUMBER</th>\n",
       "      <th>QUANTITYORDERED</th>\n",
       "      <th>PRICEEACH</th>\n",
       "      <th>SALES</th>\n",
       "      <th>ORDERLINENUMBER</th>\n",
       "      <th>ORDERDATE</th>\n",
       "      <th>STATUS</th>\n",
       "      <th>QTR_ID</th>\n",
       "      <th>YEAR_ID</th>\n",
       "      <th>PRODUCTLINE</th>\n",
       "      <th>MSRP</th>\n",
       "      <th>PRODUCTCODE</th>\n",
       "      <th>CUSTOMERNAME</th>\n",
       "      <th>CONTACTNAME</th>\n",
       "      <th>PHONE</th>\n",
       "      <th>ADDRESSLINE1</th>\n",
       "      <th>CITY</th>\n",
       "      <th>POSTALCODE</th>\n",
       "      <th>COUNTRY</th>\n",
       "      <th>DEALSIZE</th>\n",
       "    </tr>\n",
       "  </thead>\n",
       "  <tbody>\n",
       "    <tr>\n",
       "      <th>0</th>\n",
       "      <td>10107</td>\n",
       "      <td>30</td>\n",
       "      <td>95.70</td>\n",
       "      <td>2871.00</td>\n",
       "      <td>2</td>\n",
       "      <td>2/24/2003 0:00</td>\n",
       "      <td>Shipped</td>\n",
       "      <td>1</td>\n",
       "      <td>2003</td>\n",
       "      <td>Motorcycles</td>\n",
       "      <td>95</td>\n",
       "      <td>S10_1678</td>\n",
       "      <td>Land of Toys Inc.</td>\n",
       "      <td>Yu Kwai</td>\n",
       "      <td>2125557818</td>\n",
       "      <td>897 Long Airport Avenue</td>\n",
       "      <td>NYC</td>\n",
       "      <td>10022</td>\n",
       "      <td>USA</td>\n",
       "      <td>Small</td>\n",
       "    </tr>\n",
       "    <tr>\n",
       "      <th>1</th>\n",
       "      <td>10121</td>\n",
       "      <td>34</td>\n",
       "      <td>81.35</td>\n",
       "      <td>2765.90</td>\n",
       "      <td>5</td>\n",
       "      <td>05/07/2003 0:00</td>\n",
       "      <td>Shipped</td>\n",
       "      <td>2</td>\n",
       "      <td>2003</td>\n",
       "      <td>Motorcycles</td>\n",
       "      <td>95</td>\n",
       "      <td>S10_1678</td>\n",
       "      <td>Reims Collectables</td>\n",
       "      <td>Henriot Paul</td>\n",
       "      <td>26.47.1555</td>\n",
       "      <td>59 rue de l'Abbaye</td>\n",
       "      <td>Reims</td>\n",
       "      <td>51100</td>\n",
       "      <td>France</td>\n",
       "      <td>Small</td>\n",
       "    </tr>\n",
       "    <tr>\n",
       "      <th>2</th>\n",
       "      <td>10134</td>\n",
       "      <td>41</td>\n",
       "      <td>94.74</td>\n",
       "      <td>3884.34</td>\n",
       "      <td>2</td>\n",
       "      <td>07/01/2003 0:00</td>\n",
       "      <td>Shipped</td>\n",
       "      <td>3</td>\n",
       "      <td>2003</td>\n",
       "      <td>Motorcycles</td>\n",
       "      <td>95</td>\n",
       "      <td>S10_1678</td>\n",
       "      <td>Lyon Souveniers</td>\n",
       "      <td>Da Cunha Daniel</td>\n",
       "      <td>+33 1 46 62 7555</td>\n",
       "      <td>27 rue du Colonel Pierre Avia</td>\n",
       "      <td>Paris</td>\n",
       "      <td>75508</td>\n",
       "      <td>France</td>\n",
       "      <td>Medium</td>\n",
       "    </tr>\n",
       "    <tr>\n",
       "      <th>3</th>\n",
       "      <td>10145</td>\n",
       "      <td>45</td>\n",
       "      <td>83.26</td>\n",
       "      <td>3746.70</td>\n",
       "      <td>6</td>\n",
       "      <td>8/25/2003 0:00</td>\n",
       "      <td>Shipped</td>\n",
       "      <td>3</td>\n",
       "      <td>2003</td>\n",
       "      <td>Motorcycles</td>\n",
       "      <td>95</td>\n",
       "      <td>S10_1678</td>\n",
       "      <td>Toys4GrownUps.com</td>\n",
       "      <td>Young Julie</td>\n",
       "      <td>6265557265</td>\n",
       "      <td>78934 Hillside Dr.</td>\n",
       "      <td>Pasadena</td>\n",
       "      <td>90003</td>\n",
       "      <td>USA</td>\n",
       "      <td>Medium</td>\n",
       "    </tr>\n",
       "    <tr>\n",
       "      <th>4</th>\n",
       "      <td>10159</td>\n",
       "      <td>49</td>\n",
       "      <td>100.00</td>\n",
       "      <td>4900.00</td>\n",
       "      <td>14</td>\n",
       "      <td>10/10/2003 0:00</td>\n",
       "      <td>Shipped</td>\n",
       "      <td>4</td>\n",
       "      <td>2003</td>\n",
       "      <td>Motorcycles</td>\n",
       "      <td>95</td>\n",
       "      <td>S10_1678</td>\n",
       "      <td>Corporate Gift Ideas Co.</td>\n",
       "      <td>Brown Julie</td>\n",
       "      <td>6505551386</td>\n",
       "      <td>7734 Strong St.</td>\n",
       "      <td>San Francisco</td>\n",
       "      <td>NaN</td>\n",
       "      <td>USA</td>\n",
       "      <td>Medium</td>\n",
       "    </tr>\n",
       "  </tbody>\n",
       "</table>\n",
       "</div>"
      ],
      "text/plain": [
       "   ORDERNUMBER  QUANTITYORDERED  PRICEEACH    SALES  ORDERLINENUMBER  \\\n",
       "0        10107               30      95.70  2871.00                2   \n",
       "1        10121               34      81.35  2765.90                5   \n",
       "2        10134               41      94.74  3884.34                2   \n",
       "3        10145               45      83.26  3746.70                6   \n",
       "4        10159               49     100.00  4900.00               14   \n",
       "\n",
       "         ORDERDATE   STATUS  QTR_ID  YEAR_ID  PRODUCTLINE  MSRP PRODUCTCODE  \\\n",
       "0   2/24/2003 0:00  Shipped       1     2003  Motorcycles    95    S10_1678   \n",
       "1  05/07/2003 0:00  Shipped       2     2003  Motorcycles    95    S10_1678   \n",
       "2  07/01/2003 0:00  Shipped       3     2003  Motorcycles    95    S10_1678   \n",
       "3   8/25/2003 0:00  Shipped       3     2003  Motorcycles    95    S10_1678   \n",
       "4  10/10/2003 0:00  Shipped       4     2003  Motorcycles    95    S10_1678   \n",
       "\n",
       "               CUSTOMERNAME      CONTACTNAME             PHONE  \\\n",
       "0         Land of Toys Inc.          Yu Kwai        2125557818   \n",
       "1        Reims Collectables     Henriot Paul        26.47.1555   \n",
       "2           Lyon Souveniers  Da Cunha Daniel  +33 1 46 62 7555   \n",
       "3         Toys4GrownUps.com      Young Julie        6265557265   \n",
       "4  Corporate Gift Ideas Co.      Brown Julie        6505551386   \n",
       "\n",
       "                    ADDRESSLINE1           CITY POSTALCODE COUNTRY DEALSIZE  \n",
       "0        897 Long Airport Avenue            NYC      10022     USA    Small  \n",
       "1             59 rue de l'Abbaye          Reims      51100  France    Small  \n",
       "2  27 rue du Colonel Pierre Avia          Paris      75508  France   Medium  \n",
       "3             78934 Hillside Dr.       Pasadena      90003     USA   Medium  \n",
       "4                7734 Strong St.  San Francisco        NaN     USA   Medium  "
      ]
     },
     "execution_count": 95,
     "metadata": {},
     "output_type": "execute_result"
    }
   ],
   "source": [
    "col = df.pop(\"CONTACTNAME\")\n",
    "df.insert(13, \"CONTACTNAME\", col)\n",
    "df.head()"
   ]
  },
  {
   "cell_type": "markdown",
   "id": "0a15ef26",
   "metadata": {},
   "source": [
    "# converting the orderdate to a date time format"
   ]
  },
  {
   "cell_type": "code",
   "execution_count": 96,
   "id": "72f5e31a",
   "metadata": {},
   "outputs": [
    {
     "name": "stdout",
     "output_type": "stream",
     "text": [
      "<class 'pandas.core.frame.DataFrame'>\n",
      "RangeIndex: 2823 entries, 0 to 2822\n",
      "Data columns (total 20 columns):\n",
      " #   Column           Non-Null Count  Dtype         \n",
      "---  ------           --------------  -----         \n",
      " 0   ORDERNUMBER      2823 non-null   int64         \n",
      " 1   QUANTITYORDERED  2823 non-null   int64         \n",
      " 2   PRICEEACH        2823 non-null   float64       \n",
      " 3   SALES            2823 non-null   float64       \n",
      " 4   ORDERLINENUMBER  2823 non-null   int64         \n",
      " 5   ORDERDATE        2823 non-null   datetime64[ns]\n",
      " 6   STATUS           2823 non-null   object        \n",
      " 7   QTR_ID           2823 non-null   int64         \n",
      " 8   YEAR_ID          2823 non-null   int64         \n",
      " 9   PRODUCTLINE      2823 non-null   object        \n",
      " 10  MSRP             2823 non-null   int64         \n",
      " 11  PRODUCTCODE      2823 non-null   object        \n",
      " 12  CUSTOMERNAME     2823 non-null   object        \n",
      " 13  CONTACTNAME      2823 non-null   object        \n",
      " 14  PHONE            2823 non-null   object        \n",
      " 15  ADDRESSLINE1     2823 non-null   object        \n",
      " 16  CITY             2823 non-null   object        \n",
      " 17  POSTALCODE       2747 non-null   object        \n",
      " 18  COUNTRY          2823 non-null   object        \n",
      " 19  DEALSIZE         2823 non-null   object        \n",
      "dtypes: datetime64[ns](1), float64(2), int64(6), object(11)\n",
      "memory usage: 441.2+ KB\n"
     ]
    }
   ],
   "source": [
    "df[\"ORDERDATE\"] = pd.to_datetime(df[\"ORDERDATE\"])\n",
    "df.info()"
   ]
  },
  {
   "cell_type": "code",
   "execution_count": 97,
   "id": "1add970d",
   "metadata": {},
   "outputs": [
    {
     "data": {
      "text/html": [
       "<div>\n",
       "<style scoped>\n",
       "    .dataframe tbody tr th:only-of-type {\n",
       "        vertical-align: middle;\n",
       "    }\n",
       "\n",
       "    .dataframe tbody tr th {\n",
       "        vertical-align: top;\n",
       "    }\n",
       "\n",
       "    .dataframe thead th {\n",
       "        text-align: right;\n",
       "    }\n",
       "</style>\n",
       "<table border=\"1\" class=\"dataframe\">\n",
       "  <thead>\n",
       "    <tr style=\"text-align: right;\">\n",
       "      <th></th>\n",
       "      <th>ORDERNUMBER</th>\n",
       "      <th>QUANTITYORDERED</th>\n",
       "      <th>PRICEEACH</th>\n",
       "      <th>SALES</th>\n",
       "      <th>ORDERLINENUMBER</th>\n",
       "      <th>ORDERDATE</th>\n",
       "      <th>STATUS</th>\n",
       "      <th>QTR_ID</th>\n",
       "      <th>YEAR_ID</th>\n",
       "      <th>PRODUCTLINE</th>\n",
       "      <th>MSRP</th>\n",
       "      <th>PRODUCTCODE</th>\n",
       "      <th>CUSTOMERNAME</th>\n",
       "      <th>CONTACTNAME</th>\n",
       "      <th>PHONE</th>\n",
       "      <th>ADDRESSLINE1</th>\n",
       "      <th>CITY</th>\n",
       "      <th>POSTALCODE</th>\n",
       "      <th>COUNTRY</th>\n",
       "      <th>DEALSIZE</th>\n",
       "    </tr>\n",
       "  </thead>\n",
       "  <tbody>\n",
       "    <tr>\n",
       "      <th>0</th>\n",
       "      <td>10107</td>\n",
       "      <td>30</td>\n",
       "      <td>95.70</td>\n",
       "      <td>2871.00</td>\n",
       "      <td>2</td>\n",
       "      <td>2003-02-24</td>\n",
       "      <td>Shipped</td>\n",
       "      <td>1</td>\n",
       "      <td>2003</td>\n",
       "      <td>Motorcycles</td>\n",
       "      <td>95</td>\n",
       "      <td>S10_1678</td>\n",
       "      <td>Land of Toys Inc.</td>\n",
       "      <td>Yu Kwai</td>\n",
       "      <td>2125557818</td>\n",
       "      <td>897 Long Airport Avenue</td>\n",
       "      <td>NYC</td>\n",
       "      <td>10022</td>\n",
       "      <td>USA</td>\n",
       "      <td>Small</td>\n",
       "    </tr>\n",
       "    <tr>\n",
       "      <th>1</th>\n",
       "      <td>10121</td>\n",
       "      <td>34</td>\n",
       "      <td>81.35</td>\n",
       "      <td>2765.90</td>\n",
       "      <td>5</td>\n",
       "      <td>2003-05-07</td>\n",
       "      <td>Shipped</td>\n",
       "      <td>2</td>\n",
       "      <td>2003</td>\n",
       "      <td>Motorcycles</td>\n",
       "      <td>95</td>\n",
       "      <td>S10_1678</td>\n",
       "      <td>Reims Collectables</td>\n",
       "      <td>Henriot Paul</td>\n",
       "      <td>26.47.1555</td>\n",
       "      <td>59 rue de l'Abbaye</td>\n",
       "      <td>Reims</td>\n",
       "      <td>51100</td>\n",
       "      <td>France</td>\n",
       "      <td>Small</td>\n",
       "    </tr>\n",
       "    <tr>\n",
       "      <th>2</th>\n",
       "      <td>10134</td>\n",
       "      <td>41</td>\n",
       "      <td>94.74</td>\n",
       "      <td>3884.34</td>\n",
       "      <td>2</td>\n",
       "      <td>2003-07-01</td>\n",
       "      <td>Shipped</td>\n",
       "      <td>3</td>\n",
       "      <td>2003</td>\n",
       "      <td>Motorcycles</td>\n",
       "      <td>95</td>\n",
       "      <td>S10_1678</td>\n",
       "      <td>Lyon Souveniers</td>\n",
       "      <td>Da Cunha Daniel</td>\n",
       "      <td>+33 1 46 62 7555</td>\n",
       "      <td>27 rue du Colonel Pierre Avia</td>\n",
       "      <td>Paris</td>\n",
       "      <td>75508</td>\n",
       "      <td>France</td>\n",
       "      <td>Medium</td>\n",
       "    </tr>\n",
       "    <tr>\n",
       "      <th>3</th>\n",
       "      <td>10145</td>\n",
       "      <td>45</td>\n",
       "      <td>83.26</td>\n",
       "      <td>3746.70</td>\n",
       "      <td>6</td>\n",
       "      <td>2003-08-25</td>\n",
       "      <td>Shipped</td>\n",
       "      <td>3</td>\n",
       "      <td>2003</td>\n",
       "      <td>Motorcycles</td>\n",
       "      <td>95</td>\n",
       "      <td>S10_1678</td>\n",
       "      <td>Toys4GrownUps.com</td>\n",
       "      <td>Young Julie</td>\n",
       "      <td>6265557265</td>\n",
       "      <td>78934 Hillside Dr.</td>\n",
       "      <td>Pasadena</td>\n",
       "      <td>90003</td>\n",
       "      <td>USA</td>\n",
       "      <td>Medium</td>\n",
       "    </tr>\n",
       "    <tr>\n",
       "      <th>4</th>\n",
       "      <td>10159</td>\n",
       "      <td>49</td>\n",
       "      <td>100.00</td>\n",
       "      <td>4900.00</td>\n",
       "      <td>14</td>\n",
       "      <td>2003-10-10</td>\n",
       "      <td>Shipped</td>\n",
       "      <td>4</td>\n",
       "      <td>2003</td>\n",
       "      <td>Motorcycles</td>\n",
       "      <td>95</td>\n",
       "      <td>S10_1678</td>\n",
       "      <td>Corporate Gift Ideas Co.</td>\n",
       "      <td>Brown Julie</td>\n",
       "      <td>6505551386</td>\n",
       "      <td>7734 Strong St.</td>\n",
       "      <td>San Francisco</td>\n",
       "      <td>NaN</td>\n",
       "      <td>USA</td>\n",
       "      <td>Medium</td>\n",
       "    </tr>\n",
       "  </tbody>\n",
       "</table>\n",
       "</div>"
      ],
      "text/plain": [
       "   ORDERNUMBER  QUANTITYORDERED  PRICEEACH    SALES  ORDERLINENUMBER  \\\n",
       "0        10107               30      95.70  2871.00                2   \n",
       "1        10121               34      81.35  2765.90                5   \n",
       "2        10134               41      94.74  3884.34                2   \n",
       "3        10145               45      83.26  3746.70                6   \n",
       "4        10159               49     100.00  4900.00               14   \n",
       "\n",
       "   ORDERDATE   STATUS  QTR_ID  YEAR_ID  PRODUCTLINE  MSRP PRODUCTCODE  \\\n",
       "0 2003-02-24  Shipped       1     2003  Motorcycles    95    S10_1678   \n",
       "1 2003-05-07  Shipped       2     2003  Motorcycles    95    S10_1678   \n",
       "2 2003-07-01  Shipped       3     2003  Motorcycles    95    S10_1678   \n",
       "3 2003-08-25  Shipped       3     2003  Motorcycles    95    S10_1678   \n",
       "4 2003-10-10  Shipped       4     2003  Motorcycles    95    S10_1678   \n",
       "\n",
       "               CUSTOMERNAME      CONTACTNAME             PHONE  \\\n",
       "0         Land of Toys Inc.          Yu Kwai        2125557818   \n",
       "1        Reims Collectables     Henriot Paul        26.47.1555   \n",
       "2           Lyon Souveniers  Da Cunha Daniel  +33 1 46 62 7555   \n",
       "3         Toys4GrownUps.com      Young Julie        6265557265   \n",
       "4  Corporate Gift Ideas Co.      Brown Julie        6505551386   \n",
       "\n",
       "                    ADDRESSLINE1           CITY POSTALCODE COUNTRY DEALSIZE  \n",
       "0        897 Long Airport Avenue            NYC      10022     USA    Small  \n",
       "1             59 rue de l'Abbaye          Reims      51100  France    Small  \n",
       "2  27 rue du Colonel Pierre Avia          Paris      75508  France   Medium  \n",
       "3             78934 Hillside Dr.       Pasadena      90003     USA   Medium  \n",
       "4                7734 Strong St.  San Francisco        NaN     USA   Medium  "
      ]
     },
     "execution_count": 97,
     "metadata": {},
     "output_type": "execute_result"
    }
   ],
   "source": [
    "df.head()"
   ]
  },
  {
   "cell_type": "markdown",
   "id": "ad7f0c6e",
   "metadata": {},
   "source": [
    "# creating a month column"
   ]
  },
  {
   "cell_type": "code",
   "execution_count": 98,
   "id": "d1c1a0cd",
   "metadata": {},
   "outputs": [
    {
     "data": {
      "text/html": [
       "<div>\n",
       "<style scoped>\n",
       "    .dataframe tbody tr th:only-of-type {\n",
       "        vertical-align: middle;\n",
       "    }\n",
       "\n",
       "    .dataframe tbody tr th {\n",
       "        vertical-align: top;\n",
       "    }\n",
       "\n",
       "    .dataframe thead th {\n",
       "        text-align: right;\n",
       "    }\n",
       "</style>\n",
       "<table border=\"1\" class=\"dataframe\">\n",
       "  <thead>\n",
       "    <tr style=\"text-align: right;\">\n",
       "      <th></th>\n",
       "      <th>ORDERNUMBER</th>\n",
       "      <th>QUANTITYORDERED</th>\n",
       "      <th>PRICEEACH</th>\n",
       "      <th>SALES</th>\n",
       "      <th>ORDERLINENUMBER</th>\n",
       "      <th>ORDERDATE</th>\n",
       "      <th>STATUS</th>\n",
       "      <th>QTR_ID</th>\n",
       "      <th>YEAR_ID</th>\n",
       "      <th>PRODUCTLINE</th>\n",
       "      <th>MSRP</th>\n",
       "      <th>PRODUCTCODE</th>\n",
       "      <th>CUSTOMERNAME</th>\n",
       "      <th>CONTACTNAME</th>\n",
       "      <th>PHONE</th>\n",
       "      <th>ADDRESSLINE1</th>\n",
       "      <th>CITY</th>\n",
       "      <th>POSTALCODE</th>\n",
       "      <th>COUNTRY</th>\n",
       "      <th>DEALSIZE</th>\n",
       "      <th>MONTH</th>\n",
       "    </tr>\n",
       "  </thead>\n",
       "  <tbody>\n",
       "    <tr>\n",
       "      <th>0</th>\n",
       "      <td>10107</td>\n",
       "      <td>30</td>\n",
       "      <td>95.70</td>\n",
       "      <td>2871.00</td>\n",
       "      <td>2</td>\n",
       "      <td>2003-02-24</td>\n",
       "      <td>Shipped</td>\n",
       "      <td>1</td>\n",
       "      <td>2003</td>\n",
       "      <td>Motorcycles</td>\n",
       "      <td>95</td>\n",
       "      <td>S10_1678</td>\n",
       "      <td>Land of Toys Inc.</td>\n",
       "      <td>Yu Kwai</td>\n",
       "      <td>2125557818</td>\n",
       "      <td>897 Long Airport Avenue</td>\n",
       "      <td>NYC</td>\n",
       "      <td>10022</td>\n",
       "      <td>USA</td>\n",
       "      <td>Small</td>\n",
       "      <td>February</td>\n",
       "    </tr>\n",
       "    <tr>\n",
       "      <th>1</th>\n",
       "      <td>10121</td>\n",
       "      <td>34</td>\n",
       "      <td>81.35</td>\n",
       "      <td>2765.90</td>\n",
       "      <td>5</td>\n",
       "      <td>2003-05-07</td>\n",
       "      <td>Shipped</td>\n",
       "      <td>2</td>\n",
       "      <td>2003</td>\n",
       "      <td>Motorcycles</td>\n",
       "      <td>95</td>\n",
       "      <td>S10_1678</td>\n",
       "      <td>Reims Collectables</td>\n",
       "      <td>Henriot Paul</td>\n",
       "      <td>26.47.1555</td>\n",
       "      <td>59 rue de l'Abbaye</td>\n",
       "      <td>Reims</td>\n",
       "      <td>51100</td>\n",
       "      <td>France</td>\n",
       "      <td>Small</td>\n",
       "      <td>May</td>\n",
       "    </tr>\n",
       "    <tr>\n",
       "      <th>2</th>\n",
       "      <td>10134</td>\n",
       "      <td>41</td>\n",
       "      <td>94.74</td>\n",
       "      <td>3884.34</td>\n",
       "      <td>2</td>\n",
       "      <td>2003-07-01</td>\n",
       "      <td>Shipped</td>\n",
       "      <td>3</td>\n",
       "      <td>2003</td>\n",
       "      <td>Motorcycles</td>\n",
       "      <td>95</td>\n",
       "      <td>S10_1678</td>\n",
       "      <td>Lyon Souveniers</td>\n",
       "      <td>Da Cunha Daniel</td>\n",
       "      <td>+33 1 46 62 7555</td>\n",
       "      <td>27 rue du Colonel Pierre Avia</td>\n",
       "      <td>Paris</td>\n",
       "      <td>75508</td>\n",
       "      <td>France</td>\n",
       "      <td>Medium</td>\n",
       "      <td>July</td>\n",
       "    </tr>\n",
       "    <tr>\n",
       "      <th>3</th>\n",
       "      <td>10145</td>\n",
       "      <td>45</td>\n",
       "      <td>83.26</td>\n",
       "      <td>3746.70</td>\n",
       "      <td>6</td>\n",
       "      <td>2003-08-25</td>\n",
       "      <td>Shipped</td>\n",
       "      <td>3</td>\n",
       "      <td>2003</td>\n",
       "      <td>Motorcycles</td>\n",
       "      <td>95</td>\n",
       "      <td>S10_1678</td>\n",
       "      <td>Toys4GrownUps.com</td>\n",
       "      <td>Young Julie</td>\n",
       "      <td>6265557265</td>\n",
       "      <td>78934 Hillside Dr.</td>\n",
       "      <td>Pasadena</td>\n",
       "      <td>90003</td>\n",
       "      <td>USA</td>\n",
       "      <td>Medium</td>\n",
       "      <td>August</td>\n",
       "    </tr>\n",
       "    <tr>\n",
       "      <th>4</th>\n",
       "      <td>10159</td>\n",
       "      <td>49</td>\n",
       "      <td>100.00</td>\n",
       "      <td>4900.00</td>\n",
       "      <td>14</td>\n",
       "      <td>2003-10-10</td>\n",
       "      <td>Shipped</td>\n",
       "      <td>4</td>\n",
       "      <td>2003</td>\n",
       "      <td>Motorcycles</td>\n",
       "      <td>95</td>\n",
       "      <td>S10_1678</td>\n",
       "      <td>Corporate Gift Ideas Co.</td>\n",
       "      <td>Brown Julie</td>\n",
       "      <td>6505551386</td>\n",
       "      <td>7734 Strong St.</td>\n",
       "      <td>San Francisco</td>\n",
       "      <td>NaN</td>\n",
       "      <td>USA</td>\n",
       "      <td>Medium</td>\n",
       "      <td>October</td>\n",
       "    </tr>\n",
       "  </tbody>\n",
       "</table>\n",
       "</div>"
      ],
      "text/plain": [
       "   ORDERNUMBER  QUANTITYORDERED  PRICEEACH    SALES  ORDERLINENUMBER  \\\n",
       "0        10107               30      95.70  2871.00                2   \n",
       "1        10121               34      81.35  2765.90                5   \n",
       "2        10134               41      94.74  3884.34                2   \n",
       "3        10145               45      83.26  3746.70                6   \n",
       "4        10159               49     100.00  4900.00               14   \n",
       "\n",
       "   ORDERDATE   STATUS  QTR_ID  YEAR_ID  PRODUCTLINE  MSRP PRODUCTCODE  \\\n",
       "0 2003-02-24  Shipped       1     2003  Motorcycles    95    S10_1678   \n",
       "1 2003-05-07  Shipped       2     2003  Motorcycles    95    S10_1678   \n",
       "2 2003-07-01  Shipped       3     2003  Motorcycles    95    S10_1678   \n",
       "3 2003-08-25  Shipped       3     2003  Motorcycles    95    S10_1678   \n",
       "4 2003-10-10  Shipped       4     2003  Motorcycles    95    S10_1678   \n",
       "\n",
       "               CUSTOMERNAME      CONTACTNAME             PHONE  \\\n",
       "0         Land of Toys Inc.          Yu Kwai        2125557818   \n",
       "1        Reims Collectables     Henriot Paul        26.47.1555   \n",
       "2           Lyon Souveniers  Da Cunha Daniel  +33 1 46 62 7555   \n",
       "3         Toys4GrownUps.com      Young Julie        6265557265   \n",
       "4  Corporate Gift Ideas Co.      Brown Julie        6505551386   \n",
       "\n",
       "                    ADDRESSLINE1           CITY POSTALCODE COUNTRY DEALSIZE  \\\n",
       "0        897 Long Airport Avenue            NYC      10022     USA    Small   \n",
       "1             59 rue de l'Abbaye          Reims      51100  France    Small   \n",
       "2  27 rue du Colonel Pierre Avia          Paris      75508  France   Medium   \n",
       "3             78934 Hillside Dr.       Pasadena      90003     USA   Medium   \n",
       "4                7734 Strong St.  San Francisco        NaN     USA   Medium   \n",
       "\n",
       "      MONTH  \n",
       "0  February  \n",
       "1       May  \n",
       "2      July  \n",
       "3    August  \n",
       "4   October  "
      ]
     },
     "execution_count": 98,
     "metadata": {},
     "output_type": "execute_result"
    }
   ],
   "source": [
    "df[\"MONTH\"] = df[\"ORDERDATE\"].dt.month_name()\n",
    "df.head()"
   ]
  },
  {
   "cell_type": "code",
   "execution_count": 99,
   "id": "c7c156ed",
   "metadata": {},
   "outputs": [
    {
     "name": "stdout",
     "output_type": "stream",
     "text": [
      "<class 'pandas.core.frame.DataFrame'>\n",
      "RangeIndex: 2823 entries, 0 to 2822\n",
      "Data columns (total 21 columns):\n",
      " #   Column           Non-Null Count  Dtype         \n",
      "---  ------           --------------  -----         \n",
      " 0   ORDERNUMBER      2823 non-null   int64         \n",
      " 1   QUANTITYORDERED  2823 non-null   int64         \n",
      " 2   PRICEEACH        2823 non-null   float64       \n",
      " 3   SALES            2823 non-null   float64       \n",
      " 4   ORDERLINENUMBER  2823 non-null   int64         \n",
      " 5   ORDERDATE        2823 non-null   datetime64[ns]\n",
      " 6   STATUS           2823 non-null   object        \n",
      " 7   QTR_ID           2823 non-null   int64         \n",
      " 8   YEAR_ID          2823 non-null   int64         \n",
      " 9   PRODUCTLINE      2823 non-null   object        \n",
      " 10  MSRP             2823 non-null   int64         \n",
      " 11  PRODUCTCODE      2823 non-null   object        \n",
      " 12  CUSTOMERNAME     2823 non-null   object        \n",
      " 13  CONTACTNAME      2823 non-null   object        \n",
      " 14  PHONE            2823 non-null   object        \n",
      " 15  ADDRESSLINE1     2823 non-null   object        \n",
      " 16  CITY             2823 non-null   object        \n",
      " 17  POSTALCODE       2747 non-null   object        \n",
      " 18  COUNTRY          2823 non-null   object        \n",
      " 19  DEALSIZE         2823 non-null   object        \n",
      " 20  MONTH            2823 non-null   object        \n",
      "dtypes: datetime64[ns](1), float64(2), int64(6), object(12)\n",
      "memory usage: 463.3+ KB\n"
     ]
    }
   ],
   "source": [
    "df.info()"
   ]
  },
  {
   "cell_type": "code",
   "execution_count": 100,
   "id": "080f4e65",
   "metadata": {},
   "outputs": [
    {
     "data": {
      "text/html": [
       "<div>\n",
       "<style scoped>\n",
       "    .dataframe tbody tr th:only-of-type {\n",
       "        vertical-align: middle;\n",
       "    }\n",
       "\n",
       "    .dataframe tbody tr th {\n",
       "        vertical-align: top;\n",
       "    }\n",
       "\n",
       "    .dataframe thead th {\n",
       "        text-align: right;\n",
       "    }\n",
       "</style>\n",
       "<table border=\"1\" class=\"dataframe\">\n",
       "  <thead>\n",
       "    <tr style=\"text-align: right;\">\n",
       "      <th></th>\n",
       "      <th>ORDERNUMBER</th>\n",
       "      <th>QUANTITYORDERED</th>\n",
       "      <th>PRICEEACH</th>\n",
       "      <th>SALES</th>\n",
       "      <th>ORDERLINENUMBER</th>\n",
       "      <th>ORDERDATE</th>\n",
       "      <th>STATUS</th>\n",
       "      <th>QTR_ID</th>\n",
       "      <th>MONTH</th>\n",
       "      <th>YEAR_ID</th>\n",
       "      <th>PRODUCTLINE</th>\n",
       "      <th>MSRP</th>\n",
       "      <th>PRODUCTCODE</th>\n",
       "      <th>CUSTOMERNAME</th>\n",
       "      <th>CONTACTNAME</th>\n",
       "      <th>PHONE</th>\n",
       "      <th>ADDRESSLINE1</th>\n",
       "      <th>CITY</th>\n",
       "      <th>POSTALCODE</th>\n",
       "      <th>COUNTRY</th>\n",
       "      <th>DEALSIZE</th>\n",
       "    </tr>\n",
       "  </thead>\n",
       "  <tbody>\n",
       "    <tr>\n",
       "      <th>0</th>\n",
       "      <td>10107</td>\n",
       "      <td>30</td>\n",
       "      <td>95.70</td>\n",
       "      <td>2871.00</td>\n",
       "      <td>2</td>\n",
       "      <td>2003-02-24</td>\n",
       "      <td>Shipped</td>\n",
       "      <td>1</td>\n",
       "      <td>February</td>\n",
       "      <td>2003</td>\n",
       "      <td>Motorcycles</td>\n",
       "      <td>95</td>\n",
       "      <td>S10_1678</td>\n",
       "      <td>Land of Toys Inc.</td>\n",
       "      <td>Yu Kwai</td>\n",
       "      <td>2125557818</td>\n",
       "      <td>897 Long Airport Avenue</td>\n",
       "      <td>NYC</td>\n",
       "      <td>10022</td>\n",
       "      <td>USA</td>\n",
       "      <td>Small</td>\n",
       "    </tr>\n",
       "    <tr>\n",
       "      <th>1</th>\n",
       "      <td>10121</td>\n",
       "      <td>34</td>\n",
       "      <td>81.35</td>\n",
       "      <td>2765.90</td>\n",
       "      <td>5</td>\n",
       "      <td>2003-05-07</td>\n",
       "      <td>Shipped</td>\n",
       "      <td>2</td>\n",
       "      <td>May</td>\n",
       "      <td>2003</td>\n",
       "      <td>Motorcycles</td>\n",
       "      <td>95</td>\n",
       "      <td>S10_1678</td>\n",
       "      <td>Reims Collectables</td>\n",
       "      <td>Henriot Paul</td>\n",
       "      <td>26.47.1555</td>\n",
       "      <td>59 rue de l'Abbaye</td>\n",
       "      <td>Reims</td>\n",
       "      <td>51100</td>\n",
       "      <td>France</td>\n",
       "      <td>Small</td>\n",
       "    </tr>\n",
       "    <tr>\n",
       "      <th>2</th>\n",
       "      <td>10134</td>\n",
       "      <td>41</td>\n",
       "      <td>94.74</td>\n",
       "      <td>3884.34</td>\n",
       "      <td>2</td>\n",
       "      <td>2003-07-01</td>\n",
       "      <td>Shipped</td>\n",
       "      <td>3</td>\n",
       "      <td>July</td>\n",
       "      <td>2003</td>\n",
       "      <td>Motorcycles</td>\n",
       "      <td>95</td>\n",
       "      <td>S10_1678</td>\n",
       "      <td>Lyon Souveniers</td>\n",
       "      <td>Da Cunha Daniel</td>\n",
       "      <td>+33 1 46 62 7555</td>\n",
       "      <td>27 rue du Colonel Pierre Avia</td>\n",
       "      <td>Paris</td>\n",
       "      <td>75508</td>\n",
       "      <td>France</td>\n",
       "      <td>Medium</td>\n",
       "    </tr>\n",
       "    <tr>\n",
       "      <th>3</th>\n",
       "      <td>10145</td>\n",
       "      <td>45</td>\n",
       "      <td>83.26</td>\n",
       "      <td>3746.70</td>\n",
       "      <td>6</td>\n",
       "      <td>2003-08-25</td>\n",
       "      <td>Shipped</td>\n",
       "      <td>3</td>\n",
       "      <td>August</td>\n",
       "      <td>2003</td>\n",
       "      <td>Motorcycles</td>\n",
       "      <td>95</td>\n",
       "      <td>S10_1678</td>\n",
       "      <td>Toys4GrownUps.com</td>\n",
       "      <td>Young Julie</td>\n",
       "      <td>6265557265</td>\n",
       "      <td>78934 Hillside Dr.</td>\n",
       "      <td>Pasadena</td>\n",
       "      <td>90003</td>\n",
       "      <td>USA</td>\n",
       "      <td>Medium</td>\n",
       "    </tr>\n",
       "    <tr>\n",
       "      <th>4</th>\n",
       "      <td>10159</td>\n",
       "      <td>49</td>\n",
       "      <td>100.00</td>\n",
       "      <td>4900.00</td>\n",
       "      <td>14</td>\n",
       "      <td>2003-10-10</td>\n",
       "      <td>Shipped</td>\n",
       "      <td>4</td>\n",
       "      <td>October</td>\n",
       "      <td>2003</td>\n",
       "      <td>Motorcycles</td>\n",
       "      <td>95</td>\n",
       "      <td>S10_1678</td>\n",
       "      <td>Corporate Gift Ideas Co.</td>\n",
       "      <td>Brown Julie</td>\n",
       "      <td>6505551386</td>\n",
       "      <td>7734 Strong St.</td>\n",
       "      <td>San Francisco</td>\n",
       "      <td>NaN</td>\n",
       "      <td>USA</td>\n",
       "      <td>Medium</td>\n",
       "    </tr>\n",
       "  </tbody>\n",
       "</table>\n",
       "</div>"
      ],
      "text/plain": [
       "   ORDERNUMBER  QUANTITYORDERED  PRICEEACH    SALES  ORDERLINENUMBER  \\\n",
       "0        10107               30      95.70  2871.00                2   \n",
       "1        10121               34      81.35  2765.90                5   \n",
       "2        10134               41      94.74  3884.34                2   \n",
       "3        10145               45      83.26  3746.70                6   \n",
       "4        10159               49     100.00  4900.00               14   \n",
       "\n",
       "   ORDERDATE   STATUS  QTR_ID     MONTH  YEAR_ID  PRODUCTLINE  MSRP  \\\n",
       "0 2003-02-24  Shipped       1  February     2003  Motorcycles    95   \n",
       "1 2003-05-07  Shipped       2       May     2003  Motorcycles    95   \n",
       "2 2003-07-01  Shipped       3      July     2003  Motorcycles    95   \n",
       "3 2003-08-25  Shipped       3    August     2003  Motorcycles    95   \n",
       "4 2003-10-10  Shipped       4   October     2003  Motorcycles    95   \n",
       "\n",
       "  PRODUCTCODE              CUSTOMERNAME      CONTACTNAME             PHONE  \\\n",
       "0    S10_1678         Land of Toys Inc.          Yu Kwai        2125557818   \n",
       "1    S10_1678        Reims Collectables     Henriot Paul        26.47.1555   \n",
       "2    S10_1678           Lyon Souveniers  Da Cunha Daniel  +33 1 46 62 7555   \n",
       "3    S10_1678         Toys4GrownUps.com      Young Julie        6265557265   \n",
       "4    S10_1678  Corporate Gift Ideas Co.      Brown Julie        6505551386   \n",
       "\n",
       "                    ADDRESSLINE1           CITY POSTALCODE COUNTRY DEALSIZE  \n",
       "0        897 Long Airport Avenue            NYC      10022     USA    Small  \n",
       "1             59 rue de l'Abbaye          Reims      51100  France    Small  \n",
       "2  27 rue du Colonel Pierre Avia          Paris      75508  France   Medium  \n",
       "3             78934 Hillside Dr.       Pasadena      90003     USA   Medium  \n",
       "4                7734 Strong St.  San Francisco        NaN     USA   Medium  "
      ]
     },
     "execution_count": 100,
     "metadata": {},
     "output_type": "execute_result"
    }
   ],
   "source": [
    "col = df.pop(\"MONTH\")\n",
    "df.insert(8, \"MONTH\", col)\n",
    "df.head()"
   ]
  },
  {
   "cell_type": "markdown",
   "id": "af1fa31d",
   "metadata": {},
   "source": [
    "# filling na values with unknown"
   ]
  },
  {
   "cell_type": "code",
   "execution_count": 101,
   "id": "33626f28",
   "metadata": {},
   "outputs": [],
   "source": [
    "def nan(df):\n",
    "    nan = df.isna().sum().reset_index()\n",
    "    nan.columns = [\"columns\", \"counts\"]\n",
    "    nan\n",
    "    missing = nan[nan[\"counts\"] > 0]\n",
    "    m_s =  np.array(missing[\"columns\"])\n",
    "    return m_s"
   ]
  },
  {
   "cell_type": "code",
   "execution_count": 102,
   "id": "c27175a7",
   "metadata": {},
   "outputs": [
    {
     "data": {
      "text/plain": [
       "array(['POSTALCODE'], dtype=object)"
      ]
     },
     "execution_count": 102,
     "metadata": {},
     "output_type": "execute_result"
    }
   ],
   "source": [
    "x = nan(df)\n",
    "x"
   ]
  },
  {
   "cell_type": "code",
   "execution_count": 103,
   "id": "ccf6ec11",
   "metadata": {},
   "outputs": [
    {
     "data": {
      "text/html": [
       "<div>\n",
       "<style scoped>\n",
       "    .dataframe tbody tr th:only-of-type {\n",
       "        vertical-align: middle;\n",
       "    }\n",
       "\n",
       "    .dataframe tbody tr th {\n",
       "        vertical-align: top;\n",
       "    }\n",
       "\n",
       "    .dataframe thead th {\n",
       "        text-align: right;\n",
       "    }\n",
       "</style>\n",
       "<table border=\"1\" class=\"dataframe\">\n",
       "  <thead>\n",
       "    <tr style=\"text-align: right;\">\n",
       "      <th></th>\n",
       "      <th>ORDERNUMBER</th>\n",
       "      <th>QUANTITYORDERED</th>\n",
       "      <th>PRICEEACH</th>\n",
       "      <th>SALES</th>\n",
       "      <th>ORDERLINENUMBER</th>\n",
       "      <th>ORDERDATE</th>\n",
       "      <th>STATUS</th>\n",
       "      <th>QTR_ID</th>\n",
       "      <th>MONTH</th>\n",
       "      <th>YEAR_ID</th>\n",
       "      <th>PRODUCTLINE</th>\n",
       "      <th>MSRP</th>\n",
       "      <th>PRODUCTCODE</th>\n",
       "      <th>CUSTOMERNAME</th>\n",
       "      <th>CONTACTNAME</th>\n",
       "      <th>PHONE</th>\n",
       "      <th>ADDRESSLINE1</th>\n",
       "      <th>CITY</th>\n",
       "      <th>POSTALCODE</th>\n",
       "      <th>COUNTRY</th>\n",
       "      <th>DEALSIZE</th>\n",
       "    </tr>\n",
       "  </thead>\n",
       "  <tbody>\n",
       "    <tr>\n",
       "      <th>0</th>\n",
       "      <td>10107</td>\n",
       "      <td>30</td>\n",
       "      <td>95.70</td>\n",
       "      <td>2871.00</td>\n",
       "      <td>2</td>\n",
       "      <td>2003-02-24</td>\n",
       "      <td>Shipped</td>\n",
       "      <td>1</td>\n",
       "      <td>February</td>\n",
       "      <td>2003</td>\n",
       "      <td>Motorcycles</td>\n",
       "      <td>95</td>\n",
       "      <td>S10_1678</td>\n",
       "      <td>Land of Toys Inc.</td>\n",
       "      <td>Yu Kwai</td>\n",
       "      <td>2125557818</td>\n",
       "      <td>897 Long Airport Avenue</td>\n",
       "      <td>NYC</td>\n",
       "      <td>10022</td>\n",
       "      <td>USA</td>\n",
       "      <td>Small</td>\n",
       "    </tr>\n",
       "    <tr>\n",
       "      <th>1</th>\n",
       "      <td>10121</td>\n",
       "      <td>34</td>\n",
       "      <td>81.35</td>\n",
       "      <td>2765.90</td>\n",
       "      <td>5</td>\n",
       "      <td>2003-05-07</td>\n",
       "      <td>Shipped</td>\n",
       "      <td>2</td>\n",
       "      <td>May</td>\n",
       "      <td>2003</td>\n",
       "      <td>Motorcycles</td>\n",
       "      <td>95</td>\n",
       "      <td>S10_1678</td>\n",
       "      <td>Reims Collectables</td>\n",
       "      <td>Henriot Paul</td>\n",
       "      <td>26.47.1555</td>\n",
       "      <td>59 rue de l'Abbaye</td>\n",
       "      <td>Reims</td>\n",
       "      <td>51100</td>\n",
       "      <td>France</td>\n",
       "      <td>Small</td>\n",
       "    </tr>\n",
       "    <tr>\n",
       "      <th>2</th>\n",
       "      <td>10134</td>\n",
       "      <td>41</td>\n",
       "      <td>94.74</td>\n",
       "      <td>3884.34</td>\n",
       "      <td>2</td>\n",
       "      <td>2003-07-01</td>\n",
       "      <td>Shipped</td>\n",
       "      <td>3</td>\n",
       "      <td>July</td>\n",
       "      <td>2003</td>\n",
       "      <td>Motorcycles</td>\n",
       "      <td>95</td>\n",
       "      <td>S10_1678</td>\n",
       "      <td>Lyon Souveniers</td>\n",
       "      <td>Da Cunha Daniel</td>\n",
       "      <td>+33 1 46 62 7555</td>\n",
       "      <td>27 rue du Colonel Pierre Avia</td>\n",
       "      <td>Paris</td>\n",
       "      <td>75508</td>\n",
       "      <td>France</td>\n",
       "      <td>Medium</td>\n",
       "    </tr>\n",
       "    <tr>\n",
       "      <th>3</th>\n",
       "      <td>10145</td>\n",
       "      <td>45</td>\n",
       "      <td>83.26</td>\n",
       "      <td>3746.70</td>\n",
       "      <td>6</td>\n",
       "      <td>2003-08-25</td>\n",
       "      <td>Shipped</td>\n",
       "      <td>3</td>\n",
       "      <td>August</td>\n",
       "      <td>2003</td>\n",
       "      <td>Motorcycles</td>\n",
       "      <td>95</td>\n",
       "      <td>S10_1678</td>\n",
       "      <td>Toys4GrownUps.com</td>\n",
       "      <td>Young Julie</td>\n",
       "      <td>6265557265</td>\n",
       "      <td>78934 Hillside Dr.</td>\n",
       "      <td>Pasadena</td>\n",
       "      <td>90003</td>\n",
       "      <td>USA</td>\n",
       "      <td>Medium</td>\n",
       "    </tr>\n",
       "    <tr>\n",
       "      <th>4</th>\n",
       "      <td>10159</td>\n",
       "      <td>49</td>\n",
       "      <td>100.00</td>\n",
       "      <td>4900.00</td>\n",
       "      <td>14</td>\n",
       "      <td>2003-10-10</td>\n",
       "      <td>Shipped</td>\n",
       "      <td>4</td>\n",
       "      <td>October</td>\n",
       "      <td>2003</td>\n",
       "      <td>Motorcycles</td>\n",
       "      <td>95</td>\n",
       "      <td>S10_1678</td>\n",
       "      <td>Corporate Gift Ideas Co.</td>\n",
       "      <td>Brown Julie</td>\n",
       "      <td>6505551386</td>\n",
       "      <td>7734 Strong St.</td>\n",
       "      <td>San Francisco</td>\n",
       "      <td>UNKNOWN</td>\n",
       "      <td>USA</td>\n",
       "      <td>Medium</td>\n",
       "    </tr>\n",
       "  </tbody>\n",
       "</table>\n",
       "</div>"
      ],
      "text/plain": [
       "   ORDERNUMBER  QUANTITYORDERED  PRICEEACH    SALES  ORDERLINENUMBER  \\\n",
       "0        10107               30      95.70  2871.00                2   \n",
       "1        10121               34      81.35  2765.90                5   \n",
       "2        10134               41      94.74  3884.34                2   \n",
       "3        10145               45      83.26  3746.70                6   \n",
       "4        10159               49     100.00  4900.00               14   \n",
       "\n",
       "   ORDERDATE   STATUS  QTR_ID     MONTH  YEAR_ID  PRODUCTLINE  MSRP  \\\n",
       "0 2003-02-24  Shipped       1  February     2003  Motorcycles    95   \n",
       "1 2003-05-07  Shipped       2       May     2003  Motorcycles    95   \n",
       "2 2003-07-01  Shipped       3      July     2003  Motorcycles    95   \n",
       "3 2003-08-25  Shipped       3    August     2003  Motorcycles    95   \n",
       "4 2003-10-10  Shipped       4   October     2003  Motorcycles    95   \n",
       "\n",
       "  PRODUCTCODE              CUSTOMERNAME      CONTACTNAME             PHONE  \\\n",
       "0    S10_1678         Land of Toys Inc.          Yu Kwai        2125557818   \n",
       "1    S10_1678        Reims Collectables     Henriot Paul        26.47.1555   \n",
       "2    S10_1678           Lyon Souveniers  Da Cunha Daniel  +33 1 46 62 7555   \n",
       "3    S10_1678         Toys4GrownUps.com      Young Julie        6265557265   \n",
       "4    S10_1678  Corporate Gift Ideas Co.      Brown Julie        6505551386   \n",
       "\n",
       "                    ADDRESSLINE1           CITY POSTALCODE COUNTRY DEALSIZE  \n",
       "0        897 Long Airport Avenue            NYC      10022     USA    Small  \n",
       "1             59 rue de l'Abbaye          Reims      51100  France    Small  \n",
       "2  27 rue du Colonel Pierre Avia          Paris      75508  France   Medium  \n",
       "3             78934 Hillside Dr.       Pasadena      90003     USA   Medium  \n",
       "4                7734 Strong St.  San Francisco    UNKNOWN     USA   Medium  "
      ]
     },
     "execution_count": 103,
     "metadata": {},
     "output_type": "execute_result"
    }
   ],
   "source": [
    "for i in x:\n",
    "    df = df.fillna(\"UNKNOWN\")\n",
    "df.head()"
   ]
  },
  {
   "cell_type": "markdown",
   "id": "db386427",
   "metadata": {},
   "source": [
    "# EXPORTING THE FILE AS A CSV"
   ]
  },
  {
   "cell_type": "code",
   "execution_count": 29,
   "id": "3420fd16",
   "metadata": {},
   "outputs": [],
   "source": [
    "df.to_csv(r\"C:\\Users\\IROANYA\\Documents\\DATA ANALYSIS FILES\\PYTHON CLASS\\project\\sales2.csv\")"
   ]
  },
  {
   "cell_type": "markdown",
   "id": "76fd3a99",
   "metadata": {},
   "source": [
    "# DATA VISUALIZATION"
   ]
  },
  {
   "cell_type": "code",
   "execution_count": 104,
   "id": "9198fbf9",
   "metadata": {},
   "outputs": [
    {
     "data": {
      "text/plain": [
       "2004    1345\n",
       "2003    1000\n",
       "2005     478\n",
       "Name: YEAR_ID, dtype: int64"
      ]
     },
     "execution_count": 104,
     "metadata": {},
     "output_type": "execute_result"
    }
   ],
   "source": [
    "df[\"YEAR_ID\"].value_counts()"
   ]
  },
  {
   "cell_type": "markdown",
   "id": "608fc2fc",
   "metadata": {},
   "source": [
    "# YEAR WITH HIGHEST PROFIT "
   ]
  },
  {
   "cell_type": "code",
   "execution_count": 105,
   "id": "3252f9e0",
   "metadata": {},
   "outputs": [
    {
     "data": {
      "text/plain": [
       "<AxesSubplot:ylabel='YEAR_ID'>"
      ]
     },
     "execution_count": 105,
     "metadata": {},
     "output_type": "execute_result"
    },
    {
     "data": {
      "image/png": "[encoded data removed]",
      "text/plain": [
       "<Figure size 432x288 with 1 Axes>"
      ]
     },
     "metadata": {
      "needs_background": "light"
     },
     "output_type": "display_data"
    }
   ],
   "source": [
    "yrs = df.groupby(\"YEAR_ID\")[\"SALES\"].sum()\n",
    "yrs.plot(kind = \"barh\")"
   ]
  },
  {
   "cell_type": "code",
   "execution_count": 32,
   "id": "8273fd52",
   "metadata": {},
   "outputs": [],
   "source": [
    "yrs.to_csv(r\"C:\\Users\\IROANYA\\Documents\\DATA ANALYSIS FILES\\PYTHON CLASS\\project\\yrs.csv\")"
   ]
  },
  {
   "cell_type": "markdown",
   "id": "781c3797",
   "metadata": {},
   "source": [
    "# product that madde the highest profit in 2004(yr with highest profit)"
   ]
  },
  {
   "cell_type": "code",
   "execution_count": 106,
   "id": "3d67178b",
   "metadata": {},
   "outputs": [
    {
     "data": {
      "text/plain": [
       "<AxesSubplot:ylabel='SALES'>"
      ]
     },
     "execution_count": 106,
     "metadata": {},
     "output_type": "execute_result"
    },
    {
     "data": {
      "image/png": "[encoded data removed]",
      "text/plain": [
       "<Figure size 432x288 with 1 Axes>"
      ]
     },
     "metadata": {},
     "output_type": "display_data"
    }
   ],
   "source": [
    "yr4 =  df[(df.YEAR_ID) == 2004]\n",
    "yr4\n",
    "hsp = yr4.groupby(\"PRODUCTLINE\")[\"SALES\"].sum()\n",
    "hsp.plot(kind = \"pie\")"
   ]
  },
  {
   "cell_type": "code",
   "execution_count": 34,
   "id": "3abbc160",
   "metadata": {},
   "outputs": [],
   "source": [
    "hsp.to_csv(r\"C:\\Users\\IROANYA\\Documents\\DATA ANALYSIS FILES\\PYTHON CLASS\\project\\hsp.csv\")"
   ]
  },
  {
   "cell_type": "markdown",
   "id": "0d8cc950",
   "metadata": {},
   "source": [
    "# most active customer for the highest sold product in the higest sold year"
   ]
  },
  {
   "cell_type": "code",
   "execution_count": 107,
   "id": "553706d0",
   "metadata": {},
   "outputs": [
    {
     "data": {
      "text/plain": [
       "<AxesSubplot:ylabel='Customer'>"
      ]
     },
     "execution_count": 107,
     "metadata": {},
     "output_type": "execute_result"
    },
    {
     "data": {
      "image/png": "[encoded data removed]",
      "text/plain": [
       "<Figure size 432x288 with 1 Axes>"
      ]
     },
     "metadata": {
      "needs_background": "light"
     },
     "output_type": "display_data"
    }
   ],
   "source": [
    "prod = yr4[(yr4.PRODUCTLINE) == \"Classic Cars\"]\n",
    "# prod\n",
    "cust = prod[\"CUSTOMERNAME\"].value_counts().head(10)\n",
    "custo = cust.reset_index()\n",
    "custo.columns = [\"Customer\", \"Counts\"]\n",
    "# custo\n",
    "custo.plot(kind = \"barh\", color = \"red\", x = \"Customer\")"
   ]
  },
  {
   "cell_type": "code",
   "execution_count": 43,
   "id": "af5870d4",
   "metadata": {},
   "outputs": [],
   "source": [
    "custo.to_csv(r\"C:\\Users\\IROANYA\\Documents\\DATA ANALYSIS FILES\\PYTHON CLASS\\project\\custo.csv\")"
   ]
  },
  {
   "cell_type": "markdown",
   "id": "93cd02ab",
   "metadata": {},
   "source": [
    "# status of products in the year with highest profit"
   ]
  },
  {
   "cell_type": "code",
   "execution_count": 108,
   "id": "02b3504b",
   "metadata": {},
   "outputs": [
    {
     "data": {
      "text/plain": [
       "<AxesSubplot:>"
      ]
     },
     "execution_count": 108,
     "metadata": {},
     "output_type": "execute_result"
    },
    {
     "data": {
      "image/png": "[encoded data removed]",
      "text/plain": [
       "<Figure size 432x288 with 1 Axes>"
      ]
     },
     "metadata": {
      "needs_background": "light"
     },
     "output_type": "display_data"
    }
   ],
   "source": [
    "yr4[\"STATUS\"].value_counts().plot(kind = \"barh\")"
   ]
  },
  {
   "cell_type": "markdown",
   "id": "19892456",
   "metadata": {},
   "source": [
    "# month with highest profit in 2004"
   ]
  },
  {
   "cell_type": "code",
   "execution_count": 109,
   "id": "d0135970",
   "metadata": {},
   "outputs": [
    {
     "data": {
      "text/plain": [
       "<BarContainer object of 5 artists>"
      ]
     },
     "execution_count": 109,
     "metadata": {},
     "output_type": "execute_result"
    },
    {
     "data": {
      "image/png": "[encoded data removed]",
      "text/plain": [
       "<Figure size 432x288 with 1 Axes>"
      ]
     },
     "metadata": {
      "needs_background": "light"
     },
     "output_type": "display_data"
    }
   ],
   "source": [
    "month_yr4 = yr4.groupby(\"MONTH\")[\"SALES\"].sum().reset_index()\n",
    "month_yr4.columns = [\"Months\", \"Total sales\"]\n",
    "t_5  = month_yr4.sort_values(by = \"Total sales\", ascending = False).head(5)\n",
    "t_5\n",
    "plt.barh(t_5[\"Months\"], t_5[\"Total sales\"])"
   ]
  },
  {
   "cell_type": "markdown",
   "id": "f576b717",
   "metadata": {},
   "source": [
    "# quarter with the highest profit per year"
   ]
  },
  {
   "cell_type": "code",
   "execution_count": 110,
   "id": "3facfccd",
   "metadata": {},
   "outputs": [],
   "source": [
    "def q_high(yr):\n",
    "    yrs = df[(df.YEAR_ID) == yr]\n",
    "    quarter = yrs.groupby(\"QTR_ID\")[\"SALES\"].sum()\n",
    "    quarter.plot(kind = \"barh\")"
   ]
  },
  {
   "cell_type": "code",
   "execution_count": 111,
   "id": "0b87a49b",
   "metadata": {},
   "outputs": [
    {
     "data": {
      "image/png": "[encoded data removed]",
      "text/plain": [
       "<Figure size 432x288 with 1 Axes>"
      ]
     },
     "metadata": {
      "needs_background": "light"
     },
     "output_type": "display_data"
    }
   ],
   "source": [
    "q_high(2003)"
   ]
  },
  {
   "cell_type": "code",
   "execution_count": 112,
   "id": "5978b217",
   "metadata": {},
   "outputs": [
    {
     "data": {
      "image/png": "[encoded data removed]",
      "text/plain": [
       "<Figure size 432x288 with 1 Axes>"
      ]
     },
     "metadata": {
      "needs_background": "light"
     },
     "output_type": "display_data"
    }
   ],
   "source": [
    "q_high(2004)"
   ]
  },
  {
   "cell_type": "code",
   "execution_count": 113,
   "id": "06a44db8",
   "metadata": {},
   "outputs": [
    {
     "data": {
      "image/png": "[encoded data removed]",
      "text/plain": [
       "<Figure size 432x288 with 1 Axes>"
      ]
     },
     "metadata": {
      "needs_background": "light"
     },
     "output_type": "display_data"
    }
   ],
   "source": [
    "q_high(2005)"
   ]
  },
  {
   "cell_type": "code",
   "execution_count": 84,
   "id": "8537b238",
   "metadata": {},
   "outputs": [
    {
     "data": {
      "text/plain": [
       "Index(['ORDERNUMBER', 'QUANTITYORDERED', 'PRICEEACH', 'SALES',\n",
       "       'ORDERLINENUMBER', 'ORDERDATE', 'STATUS', 'QTR_ID', 'MONTH', 'YEAR_ID',\n",
       "       'PRODUCTLINE', 'MSRP', 'PRODUCTCODE', 'CUSTOMERNAME', 'CONTACTNAME',\n",
       "       'PHONE', 'ADDRESSLINE1', 'CITY', 'POSTALCODE', 'COUNTRY', 'DEALSIZE'],\n",
       "      dtype='object')"
      ]
     },
     "execution_count": 84,
     "metadata": {},
     "output_type": "execute_result"
    }
   ],
   "source": [
    "df.columns"
   ]
  },
  {
   "cell_type": "markdown",
   "id": "03ed53d6",
   "metadata": {},
   "source": [
    "# product they sell the most"
   ]
  },
  {
   "cell_type": "code",
   "execution_count": 114,
   "id": "6da65955",
   "metadata": {},
   "outputs": [
    {
     "data": {
      "text/plain": [
       "<AxesSubplot:>"
      ]
     },
     "execution_count": 114,
     "metadata": {},
     "output_type": "execute_result"
    },
    {
     "data": {
      "image/png": "[encoded data removed]",
      "text/plain": [
       "<Figure size 432x288 with 1 Axes>"
      ]
     },
     "metadata": {
      "needs_background": "light"
     },
     "output_type": "display_data"
    }
   ],
   "source": [
    "prod = df[\"PRODUCTLINE\"].value_counts()\n",
    "prod.plot(kind = \"barh\", color = \"black\")"
   ]
  },
  {
   "cell_type": "markdown",
   "id": "ea0ff664",
   "metadata": {},
   "source": [
    "# product with highest profit per year"
   ]
  },
  {
   "cell_type": "code",
   "execution_count": 115,
   "id": "79fff119",
   "metadata": {},
   "outputs": [],
   "source": [
    "def yr_high(yr):\n",
    "    yrs = df[(df.YEAR_ID) == yr]\n",
    "    quarter = yrs.groupby(\"PRODUCTLINE\")[\"SALES\"].sum()\n",
    "    quarter.plot(kind = \"barh\", color = \"red\")"
   ]
  },
  {
   "cell_type": "code",
   "execution_count": 116,
   "id": "98338a02",
   "metadata": {},
   "outputs": [
    {
     "data": {
      "image/png": "[encoded data removed]",
      "text/plain": [
       "<Figure size 432x288 with 1 Axes>"
      ]
     },
     "metadata": {
      "needs_background": "light"
     },
     "output_type": "display_data"
    }
   ],
   "source": [
    "yr_high(2003)"
   ]
  },
  {
   "cell_type": "code",
   "execution_count": 117,
   "id": "b8a23396",
   "metadata": {},
   "outputs": [
    {
     "data": {
      "image/png": "[encoded data removed]",
      "text/plain": [
       "<Figure size 432x288 with 1 Axes>"
      ]
     },
     "metadata": {
      "needs_background": "light"
     },
     "output_type": "display_data"
    }
   ],
   "source": [
    "yr_high(2004)"
   ]
  },
  {
   "cell_type": "code",
   "execution_count": 118,
   "id": "2aec0312",
   "metadata": {},
   "outputs": [
    {
     "data": {
      "image/png": "[encoded data removed]",
      "text/plain": [
       "<Figure size 432x288 with 1 Axes>"
      ]
     },
     "metadata": {
      "needs_background": "light"
     },
     "output_type": "display_data"
    }
   ],
   "source": [
    "yr_high(2005)"
   ]
  },
  {
   "cell_type": "markdown",
   "id": "4bc69ff7",
   "metadata": {},
   "source": [
    "# cities in a country that ordered  products based on the dealsize"
   ]
  },
  {
   "cell_type": "code",
   "execution_count": 119,
   "id": "0178496e",
   "metadata": {},
   "outputs": [],
   "source": [
    "def city_vin(country, product, dealsize):\n",
    "    count = df[(df.COUNTRY) == country]\n",
    "    vin = count[(count.PRODUCTLINE) == product]\n",
    "    med = vin[(vin.DEALSIZE) == dealsize]\n",
    "    med[\"CITY\"].value_counts().plot(kind = \"barh\")"
   ]
  },
  {
   "cell_type": "code",
   "execution_count": 120,
   "id": "a0eebc40",
   "metadata": {},
   "outputs": [
    {
     "data": {
      "image/png": "[encoded data removed]",
      "text/plain": [
       "<Figure size 432x288 with 1 Axes>"
      ]
     },
     "metadata": {
      "needs_background": "light"
     },
     "output_type": "display_data"
    }
   ],
   "source": [
    "city_vin(\"France\", \"Classic Cars\", \"Large\")"
   ]
  },
  {
   "cell_type": "markdown",
   "id": "19fef6b0",
   "metadata": {},
   "source": [
    "# most active country"
   ]
  },
  {
   "cell_type": "code",
   "execution_count": 121,
   "id": "f66e04d4",
   "metadata": {},
   "outputs": [
    {
     "data": {
      "text/plain": [
       "<AxesSubplot:ylabel='country'>"
      ]
     },
     "execution_count": 121,
     "metadata": {},
     "output_type": "execute_result"
    },
    {
     "data": {
      "image/png": "[encoded data removed]",
      "text/plain": [
       "<Figure size 432x288 with 1 Axes>"
      ]
     },
     "metadata": {
      "needs_background": "light"
     },
     "output_type": "display_data"
    }
   ],
   "source": [
    "countries = df[\"COUNTRY\"].value_counts().reset_index()\n",
    "countries.columns = [\"country\", \"counts\"]\n",
    "t_10 = countries.head(10)\n",
    "t_10.plot(kind = \"barh\", x =\"country\", y = \"counts\")"
   ]
  },
  {
   "cell_type": "code",
   "execution_count": 46,
   "id": "62e79454",
   "metadata": {},
   "outputs": [],
   "source": [
    "t_10.to_csv(r\"C:\\Users\\IROANYA\\Documents\\DATA ANALYSIS FILES\\PYTHON CLASS\\project\\t_10.csv\")"
   ]
  },
  {
   "cell_type": "code",
   "execution_count": 122,
   "id": "835923b2",
   "metadata": {},
   "outputs": [
    {
     "data": {
      "text/html": [
       "<div>\n",
       "<style scoped>\n",
       "    .dataframe tbody tr th:only-of-type {\n",
       "        vertical-align: middle;\n",
       "    }\n",
       "\n",
       "    .dataframe tbody tr th {\n",
       "        vertical-align: top;\n",
       "    }\n",
       "\n",
       "    .dataframe thead th {\n",
       "        text-align: right;\n",
       "    }\n",
       "</style>\n",
       "<table border=\"1\" class=\"dataframe\">\n",
       "  <thead>\n",
       "    <tr style=\"text-align: right;\">\n",
       "      <th></th>\n",
       "      <th>City</th>\n",
       "      <th>Counts</th>\n",
       "    </tr>\n",
       "  </thead>\n",
       "  <tbody>\n",
       "    <tr>\n",
       "      <th>0</th>\n",
       "      <td>San Rafael</td>\n",
       "      <td>22</td>\n",
       "    </tr>\n",
       "    <tr>\n",
       "      <th>1</th>\n",
       "      <td>NYC</td>\n",
       "      <td>14</td>\n",
       "    </tr>\n",
       "    <tr>\n",
       "      <th>2</th>\n",
       "      <td>San Francisco</td>\n",
       "      <td>11</td>\n",
       "    </tr>\n",
       "    <tr>\n",
       "      <th>3</th>\n",
       "      <td>Nashua</td>\n",
       "      <td>6</td>\n",
       "    </tr>\n",
       "    <tr>\n",
       "      <th>4</th>\n",
       "      <td>Brickhaven</td>\n",
       "      <td>6</td>\n",
       "    </tr>\n",
       "    <tr>\n",
       "      <th>5</th>\n",
       "      <td>San Jose</td>\n",
       "      <td>6</td>\n",
       "    </tr>\n",
       "    <tr>\n",
       "      <th>6</th>\n",
       "      <td>New Bedford</td>\n",
       "      <td>6</td>\n",
       "    </tr>\n",
       "    <tr>\n",
       "      <th>7</th>\n",
       "      <td>Brisbane</td>\n",
       "      <td>5</td>\n",
       "    </tr>\n",
       "    <tr>\n",
       "      <th>8</th>\n",
       "      <td>Boston</td>\n",
       "      <td>5</td>\n",
       "    </tr>\n",
       "    <tr>\n",
       "      <th>9</th>\n",
       "      <td>San Diego</td>\n",
       "      <td>4</td>\n",
       "    </tr>\n",
       "  </tbody>\n",
       "</table>\n",
       "</div>"
      ],
      "text/plain": [
       "            City  Counts\n",
       "0     San Rafael      22\n",
       "1            NYC      14\n",
       "2  San Francisco      11\n",
       "3         Nashua       6\n",
       "4     Brickhaven       6\n",
       "5       San Jose       6\n",
       "6    New Bedford       6\n",
       "7       Brisbane       5\n",
       "8         Boston       5\n",
       "9      San Diego       4"
      ]
     },
     "execution_count": 122,
     "metadata": {},
     "output_type": "execute_result"
    }
   ],
   "source": [
    "usa = df[(df.COUNTRY) == \"USA\"]\n",
    "# usa.head()\n",
    "vintage = usa[(usa.PRODUCTLINE) == \"Vintage Cars\"]\n",
    "# vintage.head()\n",
    "med = vintage[(vintage.DEALSIZE) == \"Medium\"]\n",
    "us_10 = med[\"CITY\"].value_counts().reset_index().head(10)\n",
    "us_10.columns = [\"City\", \"Counts\"]\n",
    "us_10"
   ]
  },
  {
   "cell_type": "code",
   "execution_count": 53,
   "id": "95406ce2",
   "metadata": {},
   "outputs": [],
   "source": [
    "us_10.to_csv(r\"C:\\Users\\IROANYA\\Documents\\DATA ANALYSIS FILES\\PYTHON CLASS\\project\\us_10.csv\")"
   ]
  },
  {
   "cell_type": "code",
   "execution_count": 143,
   "id": "2fe20979",
   "metadata": {},
   "outputs": [],
   "source": [
    "def ms_price(x):\n",
    "    prod = df[(df.PRODUCTLINE) ==  x]\n",
    "    avg = prod.groupby(\"MSRP\")[\"PRICEEACH\"].mean().reset_index()\n",
    "    avg.columns = [\"MSRP\", \"AVERAGE PRICE SOLD\"]\n",
    "    avgs = avg.sort_values(by = \"AVERAGE PRICE SOLD\", ascending=False).head(10)\n",
    "    avgs.plot(kind = \"bar\", x = \"MSRP\", y = \"AVERAGE PRICE SOLD\")\n"
   ]
  },
  {
   "cell_type": "code",
   "execution_count": 144,
   "id": "1ede6c47",
   "metadata": {},
   "outputs": [
    {
     "data": {
      "image/png": "[encoded data removed]",
      "text/plain": [
       "<Figure size 432x288 with 1 Axes>"
      ]
     },
     "metadata": {
      "needs_background": "light"
     },
     "output_type": "display_data"
    }
   ],
   "source": [
    "a = ms_price(\"Trains\")\n",
    "\n",
    "# avgs"
   ]
  },
  {
   "cell_type": "code",
   "execution_count": null,
   "id": "1568de52",
   "metadata": {},
   "outputs": [],
   "source": []
  }
 ],
 "metadata": {
  "kernelspec": {
   "display_name": "Python 3 (ipykernel)",
   "language": "python",
   "name": "python3"
  },
  "language_info": {
   "codemirror_mode": {
    "name": "ipython",
    "version": 3
   },
   "file_extension": ".py",
   "mimetype": "text/x-python",
   "name": "python",
   "nbconvert_exporter": "python",
   "pygments_lexer": "ipython3",
   "version": "3.9.7"
  }
 },
 "nbformat": 4,
 "nbformat_minor": 5
}
