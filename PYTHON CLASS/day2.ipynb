{
 "cells": [
  {
   "cell_type": "code",
   "execution_count": 10,
   "id": "efc6c5bc",
   "metadata": {},
   "outputs": [
    {
     "name": "stdout",
     "output_type": "stream",
     "text": [
      "funmi\n"
     ]
    }
   ],
   "source": [
    "d = ['juan', 'kate', 'mitchell', 'funmi', 'angel', 'ada', 'lola']\n",
    "count_avg = int(len(d)/2)\n",
    "new_count_avg = count_avg - 1\n",
    "\n",
    "if len(d)%2 != 0:\n",
    "    print(d[count_avg])\n",
    "\n",
    "else: \n",
    "    med_val = d[count_avg]\n",
    "    val_med = d[new_count_avg]\n",
    "    print(f\"{med_val} and {val_med}\")"
   ]
  },
  {
   "cell_type": "code",
   "execution_count": 7,
   "id": "30c12be7",
   "metadata": {},
   "outputs": [
    {
     "name": "stdout",
     "output_type": "stream",
     "text": [
      "[3, 6, 'jane', 'bella', 'tola', 'madu']\n"
     ]
    }
   ],
   "source": [
    "##appending arrays into another array\n",
    "\n",
    "arr1 = [3, 6, 'jane', 'bella']\n",
    "arr2 = ['tola', 'madu']\n",
    "for i in arr2:\n",
    "    arr1.append(i)\n",
    "print(arr1)"
   ]
  },
  {
   "cell_type": "code",
   "execution_count": 14,
   "id": "93663ebb",
   "metadata": {},
   "outputs": [
    {
     "name": "stdout",
     "output_type": "stream",
     "text": [
      "['bola']\n",
      "['amie', 'janet', 'susan']\n"
     ]
    }
   ],
   "source": [
    "p = ['amie', 'janet', 'susan', 'ayo', 'bola']\n",
    "index_val = p.index('ayo')\n",
    "y_val =  p[index_val + 1: ] ##gets the names after ayo excluding ayo\n",
    "x_val = p[:index_val] ##gets the names before ayo excluding ayo\n",
    "print(y_val)\n",
    "print(x_val)"
   ]
  },
  {
   "cell_type": "code",
   "execution_count": 18,
   "id": "134561f6",
   "metadata": {},
   "outputs": [
    {
     "name": "stdout",
     "output_type": "stream",
     "text": [
      "['teni', 'tiwa', 'tems']\n"
     ]
    }
   ],
   "source": [
    "r_names = [] ##an empty array\n",
    "array1 = ['teni', 'tiwa', 'tems', 'rihanna']\n",
    "for i in array1:\n",
    "    if i[0] == 't':\n",
    "        r_names.append(i) ##appends the names starting with t\n",
    "print(r_names)"
   ]
  },
  {
   "cell_type": "code",
   "execution_count": 21,
   "id": "c871fb34",
   "metadata": {},
   "outputs": [
    {
     "name": "stdout",
     "output_type": "stream",
     "text": [
      "['Jacob', 'Obi', 'Moses', 'Victor']\n",
      "['Teni', 'Tiwa', 'Tems', 'Rihanna']\n"
     ]
    }
   ],
   "source": [
    "array_names = ['jacob','obi', 'moses', 'victor']\n",
    "new_names1 = []\n",
    "new_names2 = []\n",
    "for i in array_names:\n",
    "    cap_names = i[0].upper() + i[1:] ##turns the first letters of the names to capital letters and adds them\n",
    "    new_names1.append(cap_names)\n",
    "print(new_names1)\n",
    "for i in array1:\n",
    "    cap_name = i[0].upper() + i[1:]\n",
    "    new_names2.append(cap_name)\n",
    "print(new_names2)\n"
   ]
  },
  {
   "cell_type": "code",
   "execution_count": 25,
   "id": "3b45d469",
   "metadata": {},
   "outputs": [
    {
     "name": "stdout",
     "output_type": "stream",
     "text": [
      "Jacob Teni\n",
      "Obi Tiwa\n",
      "Moses Tems\n",
      "Victor Rihanna\n"
     ]
    }
   ],
   "source": [
    "###joining the new names they must be of equal length\n",
    "for i in range(0, len(new_names1)):\n",
    "    full_names = f\"{new_names1[i]} {new_names2[i]}\"\n",
    "    print(full_names)"
   ]
  },
  {
   "cell_type": "code",
   "execution_count": 30,
   "id": "0f4ebab5",
   "metadata": {},
   "outputs": [
    {
     "name": "stdout",
     "output_type": "stream",
     "text": [
      "10\n",
      "15\n"
     ]
    }
   ],
   "source": [
    "##to check the types of data in an array\n",
    "x = ['hannah', 'shalom', 10, 15, 'design']\n",
    "for i in x:\n",
    "    test = isinstance(i, int) ###isinstance is a function to check datatype\n",
    "    if test == True:\n",
    "        print(i)\n",
    "\n",
    "    #########################            or      #######################\n"
   ]
  },
  {
   "cell_type": "code",
   "execution_count": 29,
   "id": "ccd4a453",
   "metadata": {},
   "outputs": [
    {
     "name": "stdout",
     "output_type": "stream",
     "text": [
      "hannah\n",
      "shalom\n",
      "design\n"
     ]
    }
   ],
   "source": [
    "for i in x:\n",
    "    l = type(i)\n",
    "    if l == str:\n",
    "        print(i)"
   ]
  },
  {
   "cell_type": "code",
   "execution_count": 27,
   "id": "cd4ac340",
   "metadata": {},
   "outputs": [
    {
     "name": "stdout",
     "output_type": "stream",
     "text": [
      "sam and elvis\n",
      "5 and 14\n"
     ]
    }
   ],
   "source": [
    "str_arr = []\n",
    "int_arr = []\n",
    "arr = ['jake', 'sam', 4, 5, 'elvis', 77, 'korah', 14]\n",
    "\n",
    "for i in arr:\n",
    "    z = type(i)\n",
    "    if z == str:\n",
    "        str_arr.append(i)        \n",
    "    else:\n",
    "        int_arr.append(i)\n",
    "\n",
    "\n",
    "count_avg = int(len(str_arr)/2)\n",
    "new_count_avg = count_avg - 1\n",
    "\n",
    "if len(str_arr)%2 != 0:\n",
    "    print(str_arr[count_avg])\n",
    "\n",
    "else: \n",
    "    med_val = str_arr[count_avg]\n",
    "    val_med = str_arr[new_count_avg]\n",
    "    print(f\"{val_med} and {med_val}\")\n",
    "\n",
    "int_arr.sort()\n",
    "e_med = int(len(int_arr)/ 2)\n",
    "o_med = e_med - 1\n",
    "\n",
    "if len(int_arr) % 2 != 0:\n",
    "    m1 = int_arr[e_med]\n",
    "    print(m1)\n",
    "else:\n",
    "    m1 = int_arr[e_med]\n",
    "    m2 = int_arr[o_med]\n",
    "    print(f\"{m2} and {m1}\")"
   ]
  },
  {
   "cell_type": "code",
   "execution_count": null,
   "id": "3cc89796",
   "metadata": {},
   "outputs": [],
   "source": []
  }
 ],
 "metadata": {
  "kernelspec": {
   "display_name": "Python 3 (ipykernel)",
   "language": "python",
   "name": "python3"
  },
  "language_info": {
   "codemirror_mode": {
    "name": "ipython",
    "version": 3
   },
   "file_extension": ".py",
   "mimetype": "text/x-python",
   "name": "python",
   "nbconvert_exporter": "python",
   "pygments_lexer": "ipython3",
   "version": "3.9.7"
  }
 },
 "nbformat": 4,
 "nbformat_minor": 5
}
