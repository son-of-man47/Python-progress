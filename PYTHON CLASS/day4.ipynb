{
 "cells": [
  {
   "cell_type": "code",
   "execution_count": 2,
   "id": "7ad833b3",
   "metadata": {},
   "outputs": [
    {
     "name": "stdout",
     "output_type": "stream",
     "text": [
      "['hello', 'Thanks', 'hi', 'go here']\n"
     ]
    }
   ],
   "source": [
    "###reading files from folders with python\n",
    "\n",
    "file_path = \"C:/Users/IROANYA/Documents/DATA ANALYSIS FILES/PYTHON CLASS/data_files/new_text.txt\"\n",
    "with open(file_path, \"r\") as file:  #the r means read, with open opens the file \n",
    "    r_file = file.read().split(\"\\n\")  ##file.read reads the path .split(\"\\n\") escapes the new line\n",
    "    print(r_file)"
   ]
  },
  {
   "cell_type": "code",
   "execution_count": 3,
   "id": "df4b3281",
   "metadata": {},
   "outputs": [],
   "source": [
    "import os ##os is a module in python it is liken to a library in r it is used to interact with the\n",
    "          ##operating system of the computer."
   ]
  },
  {
   "cell_type": "code",
   "execution_count": 64,
   "id": "88da442f",
   "metadata": {},
   "outputs": [
    {
     "ename": "NotADirectoryError",
     "evalue": "[WinError 267] The directory name is invalid: 'C:/Users/IROANYA/Documents/DATA ANALYSIS FILES/PYTHON CLASS/new_data/pressure.txt'",
     "output_type": "error",
     "traceback": [
      "\u001b[1;31m---------------------------------------------------------------------------\u001b[0m",
      "\u001b[1;31mNotADirectoryError\u001b[0m                        Traceback (most recent call last)",
      "\u001b[1;32m~\\AppData\\Local\\Temp/ipykernel_1580/3036500586.py\u001b[0m in \u001b[0;36m<module>\u001b[1;34m\u001b[0m\n\u001b[0;32m      8\u001b[0m \u001b[1;32mfor\u001b[0m \u001b[0mi\u001b[0m \u001b[1;32min\u001b[0m \u001b[0mlist_path\u001b[0m\u001b[1;33m:\u001b[0m\u001b[1;33m\u001b[0m\u001b[1;33m\u001b[0m\u001b[0m\n\u001b[0;32m      9\u001b[0m     \u001b[0mpath_file\u001b[0m \u001b[1;33m=\u001b[0m \u001b[0mpath\u001b[0m \u001b[1;33m+\u001b[0m \u001b[1;34m\"/\"\u001b[0m \u001b[1;33m+\u001b[0m \u001b[0mi\u001b[0m \u001b[1;31m##opening the folders together\u001b[0m\u001b[1;33m\u001b[0m\u001b[1;33m\u001b[0m\u001b[0m\n\u001b[1;32m---> 10\u001b[1;33m     \u001b[0mfile_val\u001b[0m \u001b[1;33m=\u001b[0m \u001b[0mos\u001b[0m\u001b[1;33m.\u001b[0m\u001b[0mlistdir\u001b[0m\u001b[1;33m(\u001b[0m\u001b[0mpath_file\u001b[0m\u001b[1;33m)\u001b[0m \u001b[1;31m##returning them as lists\u001b[0m\u001b[1;33m\u001b[0m\u001b[1;33m\u001b[0m\u001b[0m\n\u001b[0m\u001b[0;32m     11\u001b[0m     \u001b[1;31m#print(file_val)\u001b[0m\u001b[1;33m\u001b[0m\u001b[1;33m\u001b[0m\u001b[0m\n\u001b[0;32m     12\u001b[0m \u001b[1;33m\u001b[0m\u001b[0m\n",
      "\u001b[1;31mNotADirectoryError\u001b[0m: [WinError 267] The directory name is invalid: 'C:/Users/IROANYA/Documents/DATA ANALYSIS FILES/PYTHON CLASS/new_data/pressure.txt'"
     ]
    }
   ],
   "source": [
    "all_data = [] ##an empty list\n",
    "path = \"C:/Users/IROANYA/Documents/DATA ANALYSIS FILES/PYTHON CLASS/new_data\"\n",
    "list_path = os.listdir(path) ##returns the files or folders in the folder as a list\n",
    "#print(list_path)\n",
    "\n",
    "##because there are folders in the folder we want to open, we have to loop through\n",
    "\n",
    "for i in list_path:\n",
    "    path_file = path + \"/\" + i ##opening the folders together\n",
    "    file_val = os.listdir(path_file) ##returning them as lists\n",
    "    #print(file_val)\n",
    "    \n",
    "    new_path = path_file + \"/\" + file_val[-1] ##this enters the folders one after the other\n",
    "    #print(new_path)\n",
    "    \n",
    "    ##opening the folders\n",
    "    with open(new_path, \"r\")as file:\n",
    "        a = file.read().split()\n",
    "        all_data.append(a)\n",
    "#print(all_data)\n",
    "\n",
    "\n",
    "###converting all the numbers to decimals and appending to a new list\n",
    "new_data = []\n",
    "for i in all_data:\n",
    "    a_b = []\n",
    "    for n in i:\n",
    "        b = float(n)\n",
    "        a_b.append(b)\n",
    "    new_data.append(a_b)\n",
    "print(new_data)\n",
    "    "
   ]
  },
  {
   "cell_type": "code",
   "execution_count": 43,
   "id": "362441a7",
   "metadata": {},
   "outputs": [
    {
     "name": "stdout",
     "output_type": "stream",
     "text": [
      "[[1.0, 2.0, 4.0, 5.0, 6.0, 9.0, 2.5], [1.0, 2.0, 3.0, 4.0, 5.0, 6.0, 7.0]]\n"
     ]
    }
   ],
   "source": [
    "length = []\n",
    "for i in new_data:\n",
    "    length.append(len(i))\n",
    "#print(length)  ##finding the length of the 2 lists\n",
    "mx = max(length)\n",
    "\n",
    "\n",
    "##putting 2.5 into the list with the lowest length\n",
    "data_val = []\n",
    "for i in new_data:\n",
    "    if len(i) < mx:\n",
    "        i.append(2.5)\n",
    "    data_val.append(i)\n",
    "print(data_val)"
   ]
  },
  {
   "cell_type": "code",
   "execution_count": 63,
   "id": "db0c9602",
   "metadata": {},
   "outputs": [
    {
     "name": "stdout",
     "output_type": "stream",
     "text": [
      "commands\n",
      "Enter 1 => To write files\n",
      "Enter 2 => To delete backlogs\n",
      "Enter command: 0\n"
     ]
    }
   ],
   "source": [
    "\n",
    "pressure_file = \"C:/Users/IROANYA/Documents/DATA ANALYSIS FILES/PYTHON CLASS/new_data/pressure.txt\"\n",
    "print(\"\"\"commands\n",
    "Enter 1 => To write files\n",
    "Enter 2 => To delete backlogs\"\"\")\n",
    "command = input(\"Enter command: \")\n",
    "\n",
    "if command == \"1\":\n",
    "    with open(pressure_file, \"a\")as file: ##the a means append\n",
    "        for i in range(0, len(data_val[0])):\n",
    "            pas = data_val[0][i]/data_val[1][i]\n",
    "            new_file.write(f\"{pas}\\n\")\n",
    "elif command == \"0\":``\t\n",
    "    with open(pressure_file, \"w\")as file: ##the w means write\n",
    "        new_file.write(\" \")\n",
    "else:\n",
    "    print(\"INVALID INPUT!!\")\n"
   ]
  },
  {
   "cell_type": "code",
   "execution_count": null,
   "id": "df15934f",
   "metadata": {},
   "outputs": [],
   "source": []
  },
  {
   "cell_type": "code",
   "execution_count": null,
   "id": "a6d8c73f",
   "metadata": {},
   "outputs": [],
   "source": []
  },
  {
   "cell_type": "code",
   "execution_count": null,
   "id": "c920f7a1",
   "metadata": {},
   "outputs": [],
   "source": []
  }
 ],
 "metadata": {
  "kernelspec": {
   "display_name": "Python 3 (ipykernel)",
   "language": "python",
   "name": "python3"
  },
  "language_info": {
   "codemirror_mode": {
    "name": "ipython",
    "version": 3
   },
   "file_extension": ".py",
   "mimetype": "text/x-python",
   "name": "python",
   "nbconvert_exporter": "python",
   "pygments_lexer": "ipython3",
   "version": "3.9.7"
  }
 },
 "nbformat": 4,
 "nbformat_minor": 5
}
