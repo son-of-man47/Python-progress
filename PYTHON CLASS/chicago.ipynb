{
 "cells": [
  {
   "cell_type": "code",
   "execution_count": 1,
   "id": "57640327",
   "metadata": {},
   "outputs": [
    {
     "name": "stdout",
     "output_type": "stream",
     "text": [
      "['chicago.csv', 'new_york_city.csv', 'washington.csv']\n"
     ]
    }
   ],
   "source": [
    "import os\n",
    "file = os.listdir(\"bikeshare\")\n",
    "print(file)"
   ]
  },
  {
   "cell_type": "code",
   "execution_count": 3,
   "id": "e4a77088",
   "metadata": {},
   "outputs": [],
   "source": [
    "cities = {\n",
    "    \"chicago\": \"C:/Users/IROANYA/Documents/DATA ANALYSIS FILES/PYTHON CLASS/bikeshare/chicago.csv\",\n",
    "    \"new_york\": \"C:/Users/IROANYA/Documents/DATA ANALYSIS FILES/PYTHON CLASS/bikeshare/new_york_city.csv\",\n",
    "    \"washington\": \"C:/Users/IROANYA/Documents/DATA ANALYSIS FILES/PYTHON CLASS/bikeshare/washington.csv\"\n",
    "}"
   ]
  },
  {
   "cell_type": "code",
   "execution_count": 4,
   "id": "00415a7d",
   "metadata": {},
   "outputs": [],
   "source": [
    "import pandas as pd\n",
    "def which_city():\n",
    "    city = input(\"enter city: \").lower()\n",
    "    df = pd.read_csv(cities[city])\n",
    "    return df"
   ]
  },
  {
   "cell_type": "code",
   "execution_count": 6,
   "id": "d8231547",
   "metadata": {},
   "outputs": [],
   "source": [
    "def split_date(df):\n",
    "    df[[\"start_date\", \"start_time\"]] = df[\"Start Time\"].str.split(\" \", expand = True )\n",
    "    df[[\"end_date\", \"end_time\"]] = df[\"End Time\"].str.split(\" \", expand = True )\n",
    "    return df    "
   ]
  },
  {
   "cell_type": "code",
   "execution_count": 39,
   "id": "0d10502e",
   "metadata": {},
   "outputs": [
    {
     "name": "stdout",
     "output_type": "stream",
     "text": [
      "enter city: chicago\n"
     ]
    },
    {
     "data": {
      "text/html": [
       "<div>\n",
       "<style scoped>\n",
       "    .dataframe tbody tr th:only-of-type {\n",
       "        vertical-align: middle;\n",
       "    }\n",
       "\n",
       "    .dataframe tbody tr th {\n",
       "        vertical-align: top;\n",
       "    }\n",
       "\n",
       "    .dataframe thead th {\n",
       "        text-align: right;\n",
       "    }\n",
       "</style>\n",
       "<table border=\"1\" class=\"dataframe\">\n",
       "  <thead>\n",
       "    <tr style=\"text-align: right;\">\n",
       "      <th></th>\n",
       "      <th>Unnamed: 0</th>\n",
       "      <th>Start Time</th>\n",
       "      <th>End Time</th>\n",
       "      <th>Trip Duration</th>\n",
       "      <th>Start Station</th>\n",
       "      <th>End Station</th>\n",
       "      <th>User Type</th>\n",
       "      <th>Gender</th>\n",
       "      <th>Birth Year</th>\n",
       "      <th>start_date</th>\n",
       "      <th>start_time</th>\n",
       "      <th>end_date</th>\n",
       "      <th>end_time</th>\n",
       "    </tr>\n",
       "  </thead>\n",
       "  <tbody>\n",
       "    <tr>\n",
       "      <th>0</th>\n",
       "      <td>1423854</td>\n",
       "      <td>2017-06-23 15:09:32</td>\n",
       "      <td>2017-06-23 15:14:53</td>\n",
       "      <td>321</td>\n",
       "      <td>Wood St &amp; Hubbard St</td>\n",
       "      <td>Damen Ave &amp; Chicago Ave</td>\n",
       "      <td>Subscriber</td>\n",
       "      <td>Male</td>\n",
       "      <td>1992.0</td>\n",
       "      <td>2017-06-23</td>\n",
       "      <td>15:09:32</td>\n",
       "      <td>2017-06-23</td>\n",
       "      <td>15:14:53</td>\n",
       "    </tr>\n",
       "    <tr>\n",
       "      <th>1</th>\n",
       "      <td>955915</td>\n",
       "      <td>2017-05-25 18:19:03</td>\n",
       "      <td>2017-05-25 18:45:53</td>\n",
       "      <td>1610</td>\n",
       "      <td>Theater on the Lake</td>\n",
       "      <td>Sheffield Ave &amp; Waveland Ave</td>\n",
       "      <td>Subscriber</td>\n",
       "      <td>Female</td>\n",
       "      <td>1992.0</td>\n",
       "      <td>2017-05-25</td>\n",
       "      <td>18:19:03</td>\n",
       "      <td>2017-05-25</td>\n",
       "      <td>18:45:53</td>\n",
       "    </tr>\n",
       "    <tr>\n",
       "      <th>2</th>\n",
       "      <td>9031</td>\n",
       "      <td>2017-01-04 08:27:49</td>\n",
       "      <td>2017-01-04 08:34:45</td>\n",
       "      <td>416</td>\n",
       "      <td>May St &amp; Taylor St</td>\n",
       "      <td>Wood St &amp; Taylor St</td>\n",
       "      <td>Subscriber</td>\n",
       "      <td>Male</td>\n",
       "      <td>1981.0</td>\n",
       "      <td>2017-01-04</td>\n",
       "      <td>08:27:49</td>\n",
       "      <td>2017-01-04</td>\n",
       "      <td>08:34:45</td>\n",
       "    </tr>\n",
       "    <tr>\n",
       "      <th>3</th>\n",
       "      <td>304487</td>\n",
       "      <td>2017-03-06 13:49:38</td>\n",
       "      <td>2017-03-06 13:55:28</td>\n",
       "      <td>350</td>\n",
       "      <td>Christiana Ave &amp; Lawrence Ave</td>\n",
       "      <td>St. Louis Ave &amp; Balmoral Ave</td>\n",
       "      <td>Subscriber</td>\n",
       "      <td>Male</td>\n",
       "      <td>1986.0</td>\n",
       "      <td>2017-03-06</td>\n",
       "      <td>13:49:38</td>\n",
       "      <td>2017-03-06</td>\n",
       "      <td>13:55:28</td>\n",
       "    </tr>\n",
       "    <tr>\n",
       "      <th>4</th>\n",
       "      <td>45207</td>\n",
       "      <td>2017-01-17 14:53:07</td>\n",
       "      <td>2017-01-17 15:02:01</td>\n",
       "      <td>534</td>\n",
       "      <td>Clark St &amp; Randolph St</td>\n",
       "      <td>Desplaines St &amp; Jackson Blvd</td>\n",
       "      <td>Subscriber</td>\n",
       "      <td>Male</td>\n",
       "      <td>1975.0</td>\n",
       "      <td>2017-01-17</td>\n",
       "      <td>14:53:07</td>\n",
       "      <td>2017-01-17</td>\n",
       "      <td>15:02:01</td>\n",
       "    </tr>\n",
       "  </tbody>\n",
       "</table>\n",
       "</div>"
      ],
      "text/plain": [
       "   Unnamed: 0           Start Time             End Time  Trip Duration  \\\n",
       "0     1423854  2017-06-23 15:09:32  2017-06-23 15:14:53            321   \n",
       "1      955915  2017-05-25 18:19:03  2017-05-25 18:45:53           1610   \n",
       "2        9031  2017-01-04 08:27:49  2017-01-04 08:34:45            416   \n",
       "3      304487  2017-03-06 13:49:38  2017-03-06 13:55:28            350   \n",
       "4       45207  2017-01-17 14:53:07  2017-01-17 15:02:01            534   \n",
       "\n",
       "                   Start Station                   End Station   User Type  \\\n",
       "0           Wood St & Hubbard St       Damen Ave & Chicago Ave  Subscriber   \n",
       "1            Theater on the Lake  Sheffield Ave & Waveland Ave  Subscriber   \n",
       "2             May St & Taylor St           Wood St & Taylor St  Subscriber   \n",
       "3  Christiana Ave & Lawrence Ave  St. Louis Ave & Balmoral Ave  Subscriber   \n",
       "4         Clark St & Randolph St  Desplaines St & Jackson Blvd  Subscriber   \n",
       "\n",
       "   Gender  Birth Year  start_date start_time    end_date  end_time  \n",
       "0    Male      1992.0  2017-06-23   15:09:32  2017-06-23  15:14:53  \n",
       "1  Female      1992.0  2017-05-25   18:19:03  2017-05-25  18:45:53  \n",
       "2    Male      1981.0  2017-01-04   08:27:49  2017-01-04  08:34:45  \n",
       "3    Male      1986.0  2017-03-06   13:49:38  2017-03-06  13:55:28  \n",
       "4    Male      1975.0  2017-01-17   14:53:07  2017-01-17  15:02:01  "
      ]
     },
     "execution_count": 39,
     "metadata": {},
     "output_type": "execute_result"
    }
   ],
   "source": [
    "c = which_city()\n",
    "new_city = split_date(c)\n",
    "new_city.head()"
   ]
  },
  {
   "cell_type": "code",
   "execution_count": 40,
   "id": "5b3de33e",
   "metadata": {},
   "outputs": [
    {
     "data": {
      "text/plain": [
       "(300000, 13)"
      ]
     },
     "execution_count": 40,
     "metadata": {},
     "output_type": "execute_result"
    }
   ],
   "source": [
    "new_city.shape\n"
   ]
  },
  {
   "cell_type": "code",
   "execution_count": 41,
   "id": "ccb72ede",
   "metadata": {},
   "outputs": [
    {
     "name": "stdout",
     "output_type": "stream",
     "text": [
      "<class 'pandas.core.frame.DataFrame'>\n",
      "RangeIndex: 300000 entries, 0 to 299999\n",
      "Data columns (total 13 columns):\n",
      " #   Column         Non-Null Count   Dtype  \n",
      "---  ------         --------------   -----  \n",
      " 0   Unnamed: 0     300000 non-null  int64  \n",
      " 1   Start Time     300000 non-null  object \n",
      " 2   End Time       300000 non-null  object \n",
      " 3   Trip Duration  300000 non-null  int64  \n",
      " 4   Start Station  300000 non-null  object \n",
      " 5   End Station    300000 non-null  object \n",
      " 6   User Type      300000 non-null  object \n",
      " 7   Gender         238948 non-null  object \n",
      " 8   Birth Year     238981 non-null  float64\n",
      " 9   start_date     300000 non-null  object \n",
      " 10  start_time     300000 non-null  object \n",
      " 11  end_date       300000 non-null  object \n",
      " 12  end_time       300000 non-null  object \n",
      "dtypes: float64(1), int64(2), object(10)\n",
      "memory usage: 29.8+ MB\n"
     ]
    }
   ],
   "source": [
    "new_city.info()"
   ]
  },
  {
   "cell_type": "code",
   "execution_count": 42,
   "id": "75ae7d1a",
   "metadata": {},
   "outputs": [
    {
     "data": {
      "text/html": [
       "<div>\n",
       "<style scoped>\n",
       "    .dataframe tbody tr th:only-of-type {\n",
       "        vertical-align: middle;\n",
       "    }\n",
       "\n",
       "    .dataframe tbody tr th {\n",
       "        vertical-align: top;\n",
       "    }\n",
       "\n",
       "    .dataframe thead th {\n",
       "        text-align: right;\n",
       "    }\n",
       "</style>\n",
       "<table border=\"1\" class=\"dataframe\">\n",
       "  <thead>\n",
       "    <tr style=\"text-align: right;\">\n",
       "      <th></th>\n",
       "      <th>columns</th>\n",
       "      <th>counts</th>\n",
       "    </tr>\n",
       "  </thead>\n",
       "  <tbody>\n",
       "    <tr>\n",
       "      <th>0</th>\n",
       "      <td>Unnamed: 0</td>\n",
       "      <td>0</td>\n",
       "    </tr>\n",
       "    <tr>\n",
       "      <th>1</th>\n",
       "      <td>Start Time</td>\n",
       "      <td>0</td>\n",
       "    </tr>\n",
       "    <tr>\n",
       "      <th>2</th>\n",
       "      <td>End Time</td>\n",
       "      <td>0</td>\n",
       "    </tr>\n",
       "    <tr>\n",
       "      <th>3</th>\n",
       "      <td>Trip Duration</td>\n",
       "      <td>0</td>\n",
       "    </tr>\n",
       "    <tr>\n",
       "      <th>4</th>\n",
       "      <td>Start Station</td>\n",
       "      <td>0</td>\n",
       "    </tr>\n",
       "    <tr>\n",
       "      <th>5</th>\n",
       "      <td>End Station</td>\n",
       "      <td>0</td>\n",
       "    </tr>\n",
       "    <tr>\n",
       "      <th>6</th>\n",
       "      <td>User Type</td>\n",
       "      <td>0</td>\n",
       "    </tr>\n",
       "    <tr>\n",
       "      <th>7</th>\n",
       "      <td>Gender</td>\n",
       "      <td>61052</td>\n",
       "    </tr>\n",
       "    <tr>\n",
       "      <th>8</th>\n",
       "      <td>Birth Year</td>\n",
       "      <td>61019</td>\n",
       "    </tr>\n",
       "    <tr>\n",
       "      <th>9</th>\n",
       "      <td>start_date</td>\n",
       "      <td>0</td>\n",
       "    </tr>\n",
       "    <tr>\n",
       "      <th>10</th>\n",
       "      <td>start_time</td>\n",
       "      <td>0</td>\n",
       "    </tr>\n",
       "    <tr>\n",
       "      <th>11</th>\n",
       "      <td>end_date</td>\n",
       "      <td>0</td>\n",
       "    </tr>\n",
       "    <tr>\n",
       "      <th>12</th>\n",
       "      <td>end_time</td>\n",
       "      <td>0</td>\n",
       "    </tr>\n",
       "  </tbody>\n",
       "</table>\n",
       "</div>"
      ],
      "text/plain": [
       "          columns  counts\n",
       "0      Unnamed: 0       0\n",
       "1      Start Time       0\n",
       "2        End Time       0\n",
       "3   Trip Duration       0\n",
       "4   Start Station       0\n",
       "5     End Station       0\n",
       "6       User Type       0\n",
       "7          Gender   61052\n",
       "8      Birth Year   61019\n",
       "9      start_date       0\n",
       "10     start_time       0\n",
       "11       end_date       0\n",
       "12       end_time       0"
      ]
     },
     "execution_count": 42,
     "metadata": {},
     "output_type": "execute_result"
    }
   ],
   "source": [
    "nan = new_city.isna().sum().reset_index()\n",
    "nan.columns = [\"columns\", \"counts\"]\n",
    "nan"
   ]
  },
  {
   "cell_type": "code",
   "execution_count": 43,
   "id": "6f115a7e",
   "metadata": {},
   "outputs": [
    {
     "data": {
      "text/plain": [
       "array(['Gender', 'Birth Year'], dtype=object)"
      ]
     },
     "execution_count": 43,
     "metadata": {},
     "output_type": "execute_result"
    }
   ],
   "source": [
    "import numpy as np\n",
    "\n",
    "missing = nan[nan[\"counts\"] > 0]\n",
    "m_s = np.array(missing[\"columns\"])\n",
    "m_s"
   ]
  },
  {
   "cell_type": "code",
   "execution_count": 44,
   "id": "af90a924",
   "metadata": {},
   "outputs": [],
   "source": [
    "for i in m_s:\n",
    "    new_city = new_city.fillna(\"missing\")"
   ]
  },
  {
   "cell_type": "code",
   "execution_count": 45,
   "id": "ff26f3ff",
   "metadata": {},
   "outputs": [
    {
     "data": {
      "text/plain": [
       "Unnamed: 0       0\n",
       "Start Time       0\n",
       "End Time         0\n",
       "Trip Duration    0\n",
       "Start Station    0\n",
       "End Station      0\n",
       "User Type        0\n",
       "Gender           0\n",
       "Birth Year       0\n",
       "start_date       0\n",
       "start_time       0\n",
       "end_date         0\n",
       "end_time         0\n",
       "dtype: int64"
      ]
     },
     "execution_count": 45,
     "metadata": {},
     "output_type": "execute_result"
    }
   ],
   "source": [
    "new_city.isna().sum()"
   ]
  },
  {
   "cell_type": "code",
   "execution_count": 47,
   "id": "a0d87d00",
   "metadata": {},
   "outputs": [
    {
     "data": {
      "text/html": [
       "<div>\n",
       "<style scoped>\n",
       "    .dataframe tbody tr th:only-of-type {\n",
       "        vertical-align: middle;\n",
       "    }\n",
       "\n",
       "    .dataframe tbody tr th {\n",
       "        vertical-align: top;\n",
       "    }\n",
       "\n",
       "    .dataframe thead th {\n",
       "        text-align: right;\n",
       "    }\n",
       "</style>\n",
       "<table border=\"1\" class=\"dataframe\">\n",
       "  <thead>\n",
       "    <tr style=\"text-align: right;\">\n",
       "      <th></th>\n",
       "      <th>id</th>\n",
       "      <th>Start Time</th>\n",
       "      <th>End Time</th>\n",
       "      <th>Trip Duration</th>\n",
       "      <th>Start Station</th>\n",
       "      <th>End Station</th>\n",
       "      <th>User Type</th>\n",
       "      <th>Gender</th>\n",
       "      <th>Birth Year</th>\n",
       "      <th>start_date</th>\n",
       "      <th>start_time</th>\n",
       "      <th>end_date</th>\n",
       "      <th>end_time</th>\n",
       "    </tr>\n",
       "  </thead>\n",
       "  <tbody>\n",
       "    <tr>\n",
       "      <th>0</th>\n",
       "      <td>1423854</td>\n",
       "      <td>2017-06-23 15:09:32</td>\n",
       "      <td>2017-06-23 15:14:53</td>\n",
       "      <td>321</td>\n",
       "      <td>Wood St &amp; Hubbard St</td>\n",
       "      <td>Damen Ave &amp; Chicago Ave</td>\n",
       "      <td>Subscriber</td>\n",
       "      <td>Male</td>\n",
       "      <td>1992.0</td>\n",
       "      <td>2017-06-23</td>\n",
       "      <td>15:09:32</td>\n",
       "      <td>2017-06-23</td>\n",
       "      <td>15:14:53</td>\n",
       "    </tr>\n",
       "    <tr>\n",
       "      <th>1</th>\n",
       "      <td>955915</td>\n",
       "      <td>2017-05-25 18:19:03</td>\n",
       "      <td>2017-05-25 18:45:53</td>\n",
       "      <td>1610</td>\n",
       "      <td>Theater on the Lake</td>\n",
       "      <td>Sheffield Ave &amp; Waveland Ave</td>\n",
       "      <td>Subscriber</td>\n",
       "      <td>Female</td>\n",
       "      <td>1992.0</td>\n",
       "      <td>2017-05-25</td>\n",
       "      <td>18:19:03</td>\n",
       "      <td>2017-05-25</td>\n",
       "      <td>18:45:53</td>\n",
       "    </tr>\n",
       "    <tr>\n",
       "      <th>2</th>\n",
       "      <td>9031</td>\n",
       "      <td>2017-01-04 08:27:49</td>\n",
       "      <td>2017-01-04 08:34:45</td>\n",
       "      <td>416</td>\n",
       "      <td>May St &amp; Taylor St</td>\n",
       "      <td>Wood St &amp; Taylor St</td>\n",
       "      <td>Subscriber</td>\n",
       "      <td>Male</td>\n",
       "      <td>1981.0</td>\n",
       "      <td>2017-01-04</td>\n",
       "      <td>08:27:49</td>\n",
       "      <td>2017-01-04</td>\n",
       "      <td>08:34:45</td>\n",
       "    </tr>\n",
       "    <tr>\n",
       "      <th>3</th>\n",
       "      <td>304487</td>\n",
       "      <td>2017-03-06 13:49:38</td>\n",
       "      <td>2017-03-06 13:55:28</td>\n",
       "      <td>350</td>\n",
       "      <td>Christiana Ave &amp; Lawrence Ave</td>\n",
       "      <td>St. Louis Ave &amp; Balmoral Ave</td>\n",
       "      <td>Subscriber</td>\n",
       "      <td>Male</td>\n",
       "      <td>1986.0</td>\n",
       "      <td>2017-03-06</td>\n",
       "      <td>13:49:38</td>\n",
       "      <td>2017-03-06</td>\n",
       "      <td>13:55:28</td>\n",
       "    </tr>\n",
       "    <tr>\n",
       "      <th>4</th>\n",
       "      <td>45207</td>\n",
       "      <td>2017-01-17 14:53:07</td>\n",
       "      <td>2017-01-17 15:02:01</td>\n",
       "      <td>534</td>\n",
       "      <td>Clark St &amp; Randolph St</td>\n",
       "      <td>Desplaines St &amp; Jackson Blvd</td>\n",
       "      <td>Subscriber</td>\n",
       "      <td>Male</td>\n",
       "      <td>1975.0</td>\n",
       "      <td>2017-01-17</td>\n",
       "      <td>14:53:07</td>\n",
       "      <td>2017-01-17</td>\n",
       "      <td>15:02:01</td>\n",
       "    </tr>\n",
       "  </tbody>\n",
       "</table>\n",
       "</div>"
      ],
      "text/plain": [
       "        id           Start Time             End Time  Trip Duration  \\\n",
       "0  1423854  2017-06-23 15:09:32  2017-06-23 15:14:53            321   \n",
       "1   955915  2017-05-25 18:19:03  2017-05-25 18:45:53           1610   \n",
       "2     9031  2017-01-04 08:27:49  2017-01-04 08:34:45            416   \n",
       "3   304487  2017-03-06 13:49:38  2017-03-06 13:55:28            350   \n",
       "4    45207  2017-01-17 14:53:07  2017-01-17 15:02:01            534   \n",
       "\n",
       "                   Start Station                   End Station   User Type  \\\n",
       "0           Wood St & Hubbard St       Damen Ave & Chicago Ave  Subscriber   \n",
       "1            Theater on the Lake  Sheffield Ave & Waveland Ave  Subscriber   \n",
       "2             May St & Taylor St           Wood St & Taylor St  Subscriber   \n",
       "3  Christiana Ave & Lawrence Ave  St. Louis Ave & Balmoral Ave  Subscriber   \n",
       "4         Clark St & Randolph St  Desplaines St & Jackson Blvd  Subscriber   \n",
       "\n",
       "   Gender Birth Year  start_date start_time    end_date  end_time  \n",
       "0    Male     1992.0  2017-06-23   15:09:32  2017-06-23  15:14:53  \n",
       "1  Female     1992.0  2017-05-25   18:19:03  2017-05-25  18:45:53  \n",
       "2    Male     1981.0  2017-01-04   08:27:49  2017-01-04  08:34:45  \n",
       "3    Male     1986.0  2017-03-06   13:49:38  2017-03-06  13:55:28  \n",
       "4    Male     1975.0  2017-01-17   14:53:07  2017-01-17  15:02:01  "
      ]
     },
     "execution_count": 47,
     "metadata": {},
     "output_type": "execute_result"
    }
   ],
   "source": [
    "name = {\"Unnamed: 0\": \"id\"}\n",
    "new_city.rename(columns=name, inplace = True)\n",
    "new_city.head()"
   ]
  },
  {
   "cell_type": "code",
   "execution_count": 48,
   "id": "c27c7bc0",
   "metadata": {},
   "outputs": [
    {
     "name": "stdout",
     "output_type": "stream",
     "text": [
      "<class 'pandas.core.frame.DataFrame'>\n",
      "RangeIndex: 300000 entries, 0 to 299999\n",
      "Data columns (total 13 columns):\n",
      " #   Column         Non-Null Count   Dtype \n",
      "---  ------         --------------   ----- \n",
      " 0   id             300000 non-null  int64 \n",
      " 1   Start Time     300000 non-null  object\n",
      " 2   End Time       300000 non-null  object\n",
      " 3   Trip Duration  300000 non-null  int64 \n",
      " 4   Start Station  300000 non-null  object\n",
      " 5   End Station    300000 non-null  object\n",
      " 6   User Type      300000 non-null  object\n",
      " 7   Gender         300000 non-null  object\n",
      " 8   Birth Year     300000 non-null  object\n",
      " 9   start_date     300000 non-null  object\n",
      " 10  start_time     300000 non-null  object\n",
      " 11  end_date       300000 non-null  object\n",
      " 12  end_time       300000 non-null  object\n",
      "dtypes: int64(2), object(11)\n",
      "memory usage: 29.8+ MB\n"
     ]
    }
   ],
   "source": [
    "new_city.info()"
   ]
  },
  {
   "cell_type": "code",
   "execution_count": 49,
   "id": "c4f77f05",
   "metadata": {},
   "outputs": [],
   "source": [
    "new_city[\"start_date\"] = pd.to_datetime(new_city[\"start_date\"])\n",
    "new_city[\"end_date\"] = pd.to_datetime(new_city[\"end_date\"])"
   ]
  },
  {
   "cell_type": "code",
   "execution_count": 50,
   "id": "7b51c1d7",
   "metadata": {},
   "outputs": [
    {
     "name": "stdout",
     "output_type": "stream",
     "text": [
      "<class 'pandas.core.frame.DataFrame'>\n",
      "RangeIndex: 300000 entries, 0 to 299999\n",
      "Data columns (total 13 columns):\n",
      " #   Column         Non-Null Count   Dtype         \n",
      "---  ------         --------------   -----         \n",
      " 0   id             300000 non-null  int64         \n",
      " 1   Start Time     300000 non-null  object        \n",
      " 2   End Time       300000 non-null  object        \n",
      " 3   Trip Duration  300000 non-null  int64         \n",
      " 4   Start Station  300000 non-null  object        \n",
      " 5   End Station    300000 non-null  object        \n",
      " 6   User Type      300000 non-null  object        \n",
      " 7   Gender         300000 non-null  object        \n",
      " 8   Birth Year     300000 non-null  object        \n",
      " 9   start_date     300000 non-null  datetime64[ns]\n",
      " 10  start_time     300000 non-null  object        \n",
      " 11  end_date       300000 non-null  datetime64[ns]\n",
      " 12  end_time       300000 non-null  object        \n",
      "dtypes: datetime64[ns](2), int64(2), object(9)\n",
      "memory usage: 29.8+ MB\n"
     ]
    }
   ],
   "source": [
    "new_city.info()"
   ]
  },
  {
   "cell_type": "code",
   "execution_count": 51,
   "id": "8e47453f",
   "metadata": {},
   "outputs": [
    {
     "data": {
      "text/html": [
       "<div>\n",
       "<style scoped>\n",
       "    .dataframe tbody tr th:only-of-type {\n",
       "        vertical-align: middle;\n",
       "    }\n",
       "\n",
       "    .dataframe tbody tr th {\n",
       "        vertical-align: top;\n",
       "    }\n",
       "\n",
       "    .dataframe thead th {\n",
       "        text-align: right;\n",
       "    }\n",
       "</style>\n",
       "<table border=\"1\" class=\"dataframe\">\n",
       "  <thead>\n",
       "    <tr style=\"text-align: right;\">\n",
       "      <th></th>\n",
       "      <th>id</th>\n",
       "      <th>Start Time</th>\n",
       "      <th>End Time</th>\n",
       "      <th>Trip Duration</th>\n",
       "      <th>Start Station</th>\n",
       "      <th>End Station</th>\n",
       "      <th>User Type</th>\n",
       "      <th>Gender</th>\n",
       "      <th>Birth Year</th>\n",
       "      <th>start_date</th>\n",
       "      <th>start_time</th>\n",
       "      <th>end_date</th>\n",
       "      <th>end_time</th>\n",
       "    </tr>\n",
       "  </thead>\n",
       "  <tbody>\n",
       "    <tr>\n",
       "      <th>0</th>\n",
       "      <td>1423854</td>\n",
       "      <td>2017-06-23 15:09:32</td>\n",
       "      <td>2017-06-23 15:14:53</td>\n",
       "      <td>321</td>\n",
       "      <td>Wood St &amp; Hubbard St</td>\n",
       "      <td>Damen Ave &amp; Chicago Ave</td>\n",
       "      <td>Subscriber</td>\n",
       "      <td>Male</td>\n",
       "      <td>1992.0</td>\n",
       "      <td>2017-06-23</td>\n",
       "      <td>15:09:32</td>\n",
       "      <td>2017-06-23</td>\n",
       "      <td>15:14:53</td>\n",
       "    </tr>\n",
       "    <tr>\n",
       "      <th>1</th>\n",
       "      <td>955915</td>\n",
       "      <td>2017-05-25 18:19:03</td>\n",
       "      <td>2017-05-25 18:45:53</td>\n",
       "      <td>1610</td>\n",
       "      <td>Theater on the Lake</td>\n",
       "      <td>Sheffield Ave &amp; Waveland Ave</td>\n",
       "      <td>Subscriber</td>\n",
       "      <td>Female</td>\n",
       "      <td>1992.0</td>\n",
       "      <td>2017-05-25</td>\n",
       "      <td>18:19:03</td>\n",
       "      <td>2017-05-25</td>\n",
       "      <td>18:45:53</td>\n",
       "    </tr>\n",
       "    <tr>\n",
       "      <th>2</th>\n",
       "      <td>9031</td>\n",
       "      <td>2017-01-04 08:27:49</td>\n",
       "      <td>2017-01-04 08:34:45</td>\n",
       "      <td>416</td>\n",
       "      <td>May St &amp; Taylor St</td>\n",
       "      <td>Wood St &amp; Taylor St</td>\n",
       "      <td>Subscriber</td>\n",
       "      <td>Male</td>\n",
       "      <td>1981.0</td>\n",
       "      <td>2017-01-04</td>\n",
       "      <td>08:27:49</td>\n",
       "      <td>2017-01-04</td>\n",
       "      <td>08:34:45</td>\n",
       "    </tr>\n",
       "    <tr>\n",
       "      <th>3</th>\n",
       "      <td>304487</td>\n",
       "      <td>2017-03-06 13:49:38</td>\n",
       "      <td>2017-03-06 13:55:28</td>\n",
       "      <td>350</td>\n",
       "      <td>Christiana Ave &amp; Lawrence Ave</td>\n",
       "      <td>St. Louis Ave &amp; Balmoral Ave</td>\n",
       "      <td>Subscriber</td>\n",
       "      <td>Male</td>\n",
       "      <td>1986.0</td>\n",
       "      <td>2017-03-06</td>\n",
       "      <td>13:49:38</td>\n",
       "      <td>2017-03-06</td>\n",
       "      <td>13:55:28</td>\n",
       "    </tr>\n",
       "    <tr>\n",
       "      <th>4</th>\n",
       "      <td>45207</td>\n",
       "      <td>2017-01-17 14:53:07</td>\n",
       "      <td>2017-01-17 15:02:01</td>\n",
       "      <td>534</td>\n",
       "      <td>Clark St &amp; Randolph St</td>\n",
       "      <td>Desplaines St &amp; Jackson Blvd</td>\n",
       "      <td>Subscriber</td>\n",
       "      <td>Male</td>\n",
       "      <td>1975.0</td>\n",
       "      <td>2017-01-17</td>\n",
       "      <td>14:53:07</td>\n",
       "      <td>2017-01-17</td>\n",
       "      <td>15:02:01</td>\n",
       "    </tr>\n",
       "  </tbody>\n",
       "</table>\n",
       "</div>"
      ],
      "text/plain": [
       "        id           Start Time             End Time  Trip Duration  \\\n",
       "0  1423854  2017-06-23 15:09:32  2017-06-23 15:14:53            321   \n",
       "1   955915  2017-05-25 18:19:03  2017-05-25 18:45:53           1610   \n",
       "2     9031  2017-01-04 08:27:49  2017-01-04 08:34:45            416   \n",
       "3   304487  2017-03-06 13:49:38  2017-03-06 13:55:28            350   \n",
       "4    45207  2017-01-17 14:53:07  2017-01-17 15:02:01            534   \n",
       "\n",
       "                   Start Station                   End Station   User Type  \\\n",
       "0           Wood St & Hubbard St       Damen Ave & Chicago Ave  Subscriber   \n",
       "1            Theater on the Lake  Sheffield Ave & Waveland Ave  Subscriber   \n",
       "2             May St & Taylor St           Wood St & Taylor St  Subscriber   \n",
       "3  Christiana Ave & Lawrence Ave  St. Louis Ave & Balmoral Ave  Subscriber   \n",
       "4         Clark St & Randolph St  Desplaines St & Jackson Blvd  Subscriber   \n",
       "\n",
       "   Gender Birth Year start_date start_time   end_date  end_time  \n",
       "0    Male     1992.0 2017-06-23   15:09:32 2017-06-23  15:14:53  \n",
       "1  Female     1992.0 2017-05-25   18:19:03 2017-05-25  18:45:53  \n",
       "2    Male     1981.0 2017-01-04   08:27:49 2017-01-04  08:34:45  \n",
       "3    Male     1986.0 2017-03-06   13:49:38 2017-03-06  13:55:28  \n",
       "4    Male     1975.0 2017-01-17   14:53:07 2017-01-17  15:02:01  "
      ]
     },
     "execution_count": 51,
     "metadata": {},
     "output_type": "execute_result"
    }
   ],
   "source": [
    "new_city.head()"
   ]
  },
  {
   "cell_type": "code",
   "execution_count": 52,
   "id": "6c041a2b",
   "metadata": {},
   "outputs": [],
   "source": [
    "from datetime import date\n",
    "\n",
    "new_city[\"start_day\"] = new_city[\"start_date\"].dt.day_name()\n",
    "new_city[\"end_day\"] = new_city[\"end_date\"].dt.day_name()\n",
    "new_city[\"start_month\"] = new_city[\"start_date\"].dt.month_name()\n",
    "new_city[\"end_month\"] = new_city[\"end_date\"].dt.month_name()\n",
    "new_city[\"start_year\"] = new_city[\"start_date\"].dt.year\n",
    "new_city[\"end_year\"] = new_city[\"end_date\"].dt.year"
   ]
  },
  {
   "cell_type": "code",
   "execution_count": 53,
   "id": "6b84544a",
   "metadata": {},
   "outputs": [
    {
     "data": {
      "text/html": [
       "<div>\n",
       "<style scoped>\n",
       "    .dataframe tbody tr th:only-of-type {\n",
       "        vertical-align: middle;\n",
       "    }\n",
       "\n",
       "    .dataframe tbody tr th {\n",
       "        vertical-align: top;\n",
       "    }\n",
       "\n",
       "    .dataframe thead th {\n",
       "        text-align: right;\n",
       "    }\n",
       "</style>\n",
       "<table border=\"1\" class=\"dataframe\">\n",
       "  <thead>\n",
       "    <tr style=\"text-align: right;\">\n",
       "      <th></th>\n",
       "      <th>id</th>\n",
       "      <th>Start Time</th>\n",
       "      <th>End Time</th>\n",
       "      <th>Trip Duration</th>\n",
       "      <th>Start Station</th>\n",
       "      <th>End Station</th>\n",
       "      <th>User Type</th>\n",
       "      <th>Gender</th>\n",
       "      <th>Birth Year</th>\n",
       "      <th>start_date</th>\n",
       "      <th>start_time</th>\n",
       "      <th>end_date</th>\n",
       "      <th>end_time</th>\n",
       "      <th>start_day</th>\n",
       "      <th>end_day</th>\n",
       "      <th>start_month</th>\n",
       "      <th>end_month</th>\n",
       "      <th>start_year</th>\n",
       "      <th>end_year</th>\n",
       "    </tr>\n",
       "  </thead>\n",
       "  <tbody>\n",
       "    <tr>\n",
       "      <th>0</th>\n",
       "      <td>1423854</td>\n",
       "      <td>2017-06-23 15:09:32</td>\n",
       "      <td>2017-06-23 15:14:53</td>\n",
       "      <td>321</td>\n",
       "      <td>Wood St &amp; Hubbard St</td>\n",
       "      <td>Damen Ave &amp; Chicago Ave</td>\n",
       "      <td>Subscriber</td>\n",
       "      <td>Male</td>\n",
       "      <td>1992.0</td>\n",
       "      <td>2017-06-23</td>\n",
       "      <td>15:09:32</td>\n",
       "      <td>2017-06-23</td>\n",
       "      <td>15:14:53</td>\n",
       "      <td>Friday</td>\n",
       "      <td>Friday</td>\n",
       "      <td>June</td>\n",
       "      <td>June</td>\n",
       "      <td>2017</td>\n",
       "      <td>2017</td>\n",
       "    </tr>\n",
       "    <tr>\n",
       "      <th>1</th>\n",
       "      <td>955915</td>\n",
       "      <td>2017-05-25 18:19:03</td>\n",
       "      <td>2017-05-25 18:45:53</td>\n",
       "      <td>1610</td>\n",
       "      <td>Theater on the Lake</td>\n",
       "      <td>Sheffield Ave &amp; Waveland Ave</td>\n",
       "      <td>Subscriber</td>\n",
       "      <td>Female</td>\n",
       "      <td>1992.0</td>\n",
       "      <td>2017-05-25</td>\n",
       "      <td>18:19:03</td>\n",
       "      <td>2017-05-25</td>\n",
       "      <td>18:45:53</td>\n",
       "      <td>Thursday</td>\n",
       "      <td>Thursday</td>\n",
       "      <td>May</td>\n",
       "      <td>May</td>\n",
       "      <td>2017</td>\n",
       "      <td>2017</td>\n",
       "    </tr>\n",
       "    <tr>\n",
       "      <th>2</th>\n",
       "      <td>9031</td>\n",
       "      <td>2017-01-04 08:27:49</td>\n",
       "      <td>2017-01-04 08:34:45</td>\n",
       "      <td>416</td>\n",
       "      <td>May St &amp; Taylor St</td>\n",
       "      <td>Wood St &amp; Taylor St</td>\n",
       "      <td>Subscriber</td>\n",
       "      <td>Male</td>\n",
       "      <td>1981.0</td>\n",
       "      <td>2017-01-04</td>\n",
       "      <td>08:27:49</td>\n",
       "      <td>2017-01-04</td>\n",
       "      <td>08:34:45</td>\n",
       "      <td>Wednesday</td>\n",
       "      <td>Wednesday</td>\n",
       "      <td>January</td>\n",
       "      <td>January</td>\n",
       "      <td>2017</td>\n",
       "      <td>2017</td>\n",
       "    </tr>\n",
       "    <tr>\n",
       "      <th>3</th>\n",
       "      <td>304487</td>\n",
       "      <td>2017-03-06 13:49:38</td>\n",
       "      <td>2017-03-06 13:55:28</td>\n",
       "      <td>350</td>\n",
       "      <td>Christiana Ave &amp; Lawrence Ave</td>\n",
       "      <td>St. Louis Ave &amp; Balmoral Ave</td>\n",
       "      <td>Subscriber</td>\n",
       "      <td>Male</td>\n",
       "      <td>1986.0</td>\n",
       "      <td>2017-03-06</td>\n",
       "      <td>13:49:38</td>\n",
       "      <td>2017-03-06</td>\n",
       "      <td>13:55:28</td>\n",
       "      <td>Monday</td>\n",
       "      <td>Monday</td>\n",
       "      <td>March</td>\n",
       "      <td>March</td>\n",
       "      <td>2017</td>\n",
       "      <td>2017</td>\n",
       "    </tr>\n",
       "    <tr>\n",
       "      <th>4</th>\n",
       "      <td>45207</td>\n",
       "      <td>2017-01-17 14:53:07</td>\n",
       "      <td>2017-01-17 15:02:01</td>\n",
       "      <td>534</td>\n",
       "      <td>Clark St &amp; Randolph St</td>\n",
       "      <td>Desplaines St &amp; Jackson Blvd</td>\n",
       "      <td>Subscriber</td>\n",
       "      <td>Male</td>\n",
       "      <td>1975.0</td>\n",
       "      <td>2017-01-17</td>\n",
       "      <td>14:53:07</td>\n",
       "      <td>2017-01-17</td>\n",
       "      <td>15:02:01</td>\n",
       "      <td>Tuesday</td>\n",
       "      <td>Tuesday</td>\n",
       "      <td>January</td>\n",
       "      <td>January</td>\n",
       "      <td>2017</td>\n",
       "      <td>2017</td>\n",
       "    </tr>\n",
       "  </tbody>\n",
       "</table>\n",
       "</div>"
      ],
      "text/plain": [
       "        id           Start Time             End Time  Trip Duration  \\\n",
       "0  1423854  2017-06-23 15:09:32  2017-06-23 15:14:53            321   \n",
       "1   955915  2017-05-25 18:19:03  2017-05-25 18:45:53           1610   \n",
       "2     9031  2017-01-04 08:27:49  2017-01-04 08:34:45            416   \n",
       "3   304487  2017-03-06 13:49:38  2017-03-06 13:55:28            350   \n",
       "4    45207  2017-01-17 14:53:07  2017-01-17 15:02:01            534   \n",
       "\n",
       "                   Start Station                   End Station   User Type  \\\n",
       "0           Wood St & Hubbard St       Damen Ave & Chicago Ave  Subscriber   \n",
       "1            Theater on the Lake  Sheffield Ave & Waveland Ave  Subscriber   \n",
       "2             May St & Taylor St           Wood St & Taylor St  Subscriber   \n",
       "3  Christiana Ave & Lawrence Ave  St. Louis Ave & Balmoral Ave  Subscriber   \n",
       "4         Clark St & Randolph St  Desplaines St & Jackson Blvd  Subscriber   \n",
       "\n",
       "   Gender Birth Year start_date start_time   end_date  end_time  start_day  \\\n",
       "0    Male     1992.0 2017-06-23   15:09:32 2017-06-23  15:14:53     Friday   \n",
       "1  Female     1992.0 2017-05-25   18:19:03 2017-05-25  18:45:53   Thursday   \n",
       "2    Male     1981.0 2017-01-04   08:27:49 2017-01-04  08:34:45  Wednesday   \n",
       "3    Male     1986.0 2017-03-06   13:49:38 2017-03-06  13:55:28     Monday   \n",
       "4    Male     1975.0 2017-01-17   14:53:07 2017-01-17  15:02:01    Tuesday   \n",
       "\n",
       "     end_day start_month end_month  start_year  end_year  \n",
       "0     Friday        June      June        2017      2017  \n",
       "1   Thursday         May       May        2017      2017  \n",
       "2  Wednesday     January   January        2017      2017  \n",
       "3     Monday       March     March        2017      2017  \n",
       "4    Tuesday     January   January        2017      2017  "
      ]
     },
     "execution_count": 53,
     "metadata": {},
     "output_type": "execute_result"
    }
   ],
   "source": [
    "new_city.head()"
   ]
  },
  {
   "cell_type": "code",
   "execution_count": 61,
   "id": "d4de21a7",
   "metadata": {},
   "outputs": [
    {
     "data": {
      "text/html": [
       "<div>\n",
       "<style scoped>\n",
       "    .dataframe tbody tr th:only-of-type {\n",
       "        vertical-align: middle;\n",
       "    }\n",
       "\n",
       "    .dataframe tbody tr th {\n",
       "        vertical-align: top;\n",
       "    }\n",
       "\n",
       "    .dataframe thead th {\n",
       "        text-align: right;\n",
       "    }\n",
       "</style>\n",
       "<table border=\"1\" class=\"dataframe\">\n",
       "  <thead>\n",
       "    <tr style=\"text-align: right;\">\n",
       "      <th></th>\n",
       "      <th>months</th>\n",
       "      <th>counts</th>\n",
       "    </tr>\n",
       "  </thead>\n",
       "  <tbody>\n",
       "    <tr>\n",
       "      <th>0</th>\n",
       "      <td>June</td>\n",
       "      <td>98081</td>\n",
       "    </tr>\n",
       "    <tr>\n",
       "      <th>1</th>\n",
       "      <td>May</td>\n",
       "      <td>66755</td>\n",
       "    </tr>\n",
       "    <tr>\n",
       "      <th>2</th>\n",
       "      <td>April</td>\n",
       "      <td>51659</td>\n",
       "    </tr>\n",
       "    <tr>\n",
       "      <th>3</th>\n",
       "      <td>February</td>\n",
       "      <td>32057</td>\n",
       "    </tr>\n",
       "    <tr>\n",
       "      <th>4</th>\n",
       "      <td>March</td>\n",
       "      <td>29639</td>\n",
       "    </tr>\n",
       "    <tr>\n",
       "      <th>5</th>\n",
       "      <td>January</td>\n",
       "      <td>21809</td>\n",
       "    </tr>\n",
       "  </tbody>\n",
       "</table>\n",
       "</div>"
      ],
      "text/plain": [
       "     months  counts\n",
       "0      June   98081\n",
       "1       May   66755\n",
       "2     April   51659\n",
       "3  February   32057\n",
       "4     March   29639\n",
       "5   January   21809"
      ]
     },
     "execution_count": 61,
     "metadata": {},
     "output_type": "execute_result"
    }
   ],
   "source": [
    "###most common travelled month\n",
    "months = new_city[\"start_month\"].value_counts().reset_index()\n",
    "months.columns = [\"months\", \"counts\"]\n",
    "months"
   ]
  },
  {
   "cell_type": "code",
   "execution_count": 59,
   "id": "721c6537",
   "metadata": {},
   "outputs": [
    {
     "data": {
      "text/plain": [
       "June        98074\n",
       "May         66748\n",
       "April       51661\n",
       "February    32056\n",
       "March       29638\n",
       "January     21809\n",
       "July           14\n",
       "Name: end_month, dtype: int64"
      ]
     },
     "execution_count": 59,
     "metadata": {},
     "output_type": "execute_result"
    }
   ],
   "source": [
    "new_city[\"end_month\"].value_counts()"
   ]
  },
  {
   "cell_type": "code",
   "execution_count": 57,
   "id": "f2fa59df",
   "metadata": {},
   "outputs": [
    {
     "data": {
      "text/plain": [
       "2017    300000\n",
       "Name: start_year, dtype: int64"
      ]
     },
     "execution_count": 57,
     "metadata": {},
     "output_type": "execute_result"
    }
   ],
   "source": [
    "new_city[\"start_year\"].value_counts()"
   ]
  },
  {
   "cell_type": "code",
   "execution_count": 64,
   "id": "5460a6c4",
   "metadata": {},
   "outputs": [
    {
     "data": {
      "text/plain": [
       "<AxesSubplot:ylabel='months'>"
      ]
     },
     "execution_count": 64,
     "metadata": {},
     "output_type": "execute_result"
    },
    {
     "data": {
      "image/png": "[encoded data removed]",
      "text/plain": [
       "<Figure size 432x288 with 1 Axes>"
      ]
     },
     "metadata": {
      "needs_background": "light"
     },
     "output_type": "display_data"
    }
   ],
   "source": [
    "months.plot(kind = \"barh\", fontsize = 8, color = \"red\", x = \"months\", y = \"counts\")"
   ]
  },
  {
   "cell_type": "code",
   "execution_count": 66,
   "id": "de4aad09",
   "metadata": {},
   "outputs": [
    {
     "data": {
      "text/plain": [
       "Index(['id', 'Start Time', 'End Time', 'Trip Duration', 'Start Station',\n",
       "       'End Station', 'User Type', 'Gender', 'Birth Year', 'start_date',\n",
       "       'start_time', 'end_date', 'end_time', 'start_day', 'end_day',\n",
       "       'start_month', 'end_month', 'start_year', 'end_year'],\n",
       "      dtype='object')"
      ]
     },
     "execution_count": 66,
     "metadata": {},
     "output_type": "execute_result"
    }
   ],
   "source": [
    "new_city.columns"
   ]
  },
  {
   "cell_type": "code",
   "execution_count": 68,
   "id": "ed14241f",
   "metadata": {},
   "outputs": [
    {
     "data": {
      "text/plain": [
       "<AxesSubplot:ylabel='start_month'>"
      ]
     },
     "execution_count": 68,
     "metadata": {},
     "output_type": "execute_result"
    },
    {
     "data": {
      "image/png": "[encoded data removed]",
      "text/plain": [
       "<Figure size 432x288 with 1 Axes>"
      ]
     },
     "metadata": {
      "needs_background": "light"
     },
     "output_type": "display_data"
    }
   ],
   "source": [
    "avg_trip = new_city.groupby(\"start_month\")[\"Trip Duration\"].mean()\n",
    "avg_trip.plot(kind = \"barh\")"
   ]
  },
  {
   "cell_type": "code",
   "execution_count": 69,
   "id": "29127dc4",
   "metadata": {},
   "outputs": [
    {
     "data": {
      "text/plain": [
       "<AxesSubplot:ylabel='Trip Duration'>"
      ]
     },
     "execution_count": 69,
     "metadata": {},
     "output_type": "execute_result"
    },
    {
     "data": {
      "image/png": "[encoded data removed]",
      "text/plain": [
       "<Figure size 432x288 with 1 Axes>"
      ]
     },
     "metadata": {},
     "output_type": "display_data"
    }
   ],
   "source": [
    "avg_trip.plot(kind = \"pie\")"
   ]
  },
  {
   "cell_type": "code",
   "execution_count": 70,
   "id": "0a22d1f3",
   "metadata": {},
   "outputs": [
    {
     "data": {
      "text/plain": [
       "start_month\n",
       "April        981.421127\n",
       "February     826.522257\n",
       "January      679.817965\n",
       "June        1047.122236\n",
       "March        707.595398\n",
       "May          976.336799\n",
       "Name: Trip Duration, dtype: float64"
      ]
     },
     "execution_count": 70,
     "metadata": {},
     "output_type": "execute_result"
    }
   ],
   "source": [
    "avg_trip"
   ]
  },
  {
   "cell_type": "code",
   "execution_count": 73,
   "id": "e931aa63",
   "metadata": {},
   "outputs": [
    {
     "data": {
      "text/plain": [
       "<AxesSubplot:>"
      ]
     },
     "execution_count": 73,
     "metadata": {},
     "output_type": "execute_result"
    },
    {
     "data": {
      "image/png": "[encoded data removed]",
      "text/plain": [
       "<Figure size 432x288 with 1 Axes>"
      ]
     },
     "metadata": {
      "needs_background": "light"
     },
     "output_type": "display_data"
    }
   ],
   "source": [
    "gender = new_city[\"Gender\"].value_counts()\n",
    "gender.plot(kind = \"barh\", color = \"blue\")"
   ]
  },
  {
   "cell_type": "code",
   "execution_count": 75,
   "id": "a0bb8c7d",
   "metadata": {},
   "outputs": [
    {
     "name": "stdout",
     "output_type": "stream",
     "text": [
      "<class 'pandas.core.frame.DataFrame'>\n",
      "RangeIndex: 300000 entries, 0 to 299999\n",
      "Data columns (total 19 columns):\n",
      " #   Column         Non-Null Count   Dtype         \n",
      "---  ------         --------------   -----         \n",
      " 0   id             300000 non-null  int64         \n",
      " 1   Start Time     300000 non-null  object        \n",
      " 2   End Time       300000 non-null  object        \n",
      " 3   Trip Duration  300000 non-null  int64         \n",
      " 4   Start Station  300000 non-null  object        \n",
      " 5   End Station    300000 non-null  object        \n",
      " 6   User Type      300000 non-null  object        \n",
      " 7   Gender         300000 non-null  object        \n",
      " 8   Birth Year     300000 non-null  object        \n",
      " 9   start_date     300000 non-null  datetime64[ns]\n",
      " 10  start_time     300000 non-null  object        \n",
      " 11  end_date       300000 non-null  datetime64[ns]\n",
      " 12  end_time       300000 non-null  object        \n",
      " 13  start_day      300000 non-null  object        \n",
      " 14  end_day        300000 non-null  object        \n",
      " 15  start_month    300000 non-null  object        \n",
      " 16  end_month      300000 non-null  object        \n",
      " 17  start_year     300000 non-null  int64         \n",
      " 18  end_year       300000 non-null  int64         \n",
      "dtypes: datetime64[ns](2), int64(4), object(13)\n",
      "memory usage: 43.5+ MB\n"
     ]
    }
   ],
   "source": [
    "new_city.info()"
   ]
  }
 ],
 "metadata": {
  "kernelspec": {
   "display_name": "Python 3 (ipykernel)",
   "language": "python",
   "name": "python3"
  },
  "language_info": {
   "codemirror_mode": {
    "name": "ipython",
    "version": 3
   },
   "file_extension": ".py",
   "mimetype": "text/x-python",
   "name": "python",
   "nbconvert_exporter": "python",
   "pygments_lexer": "ipython3",
   "version": "3.9.7"
  }
 },
 "nbformat": 4,
 "nbformat_minor": 5
}
