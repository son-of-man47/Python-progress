{
 "cells": [
  {
   "cell_type": "code",
   "execution_count": 15,
   "id": "98111d7c",
   "metadata": {},
   "outputs": [
    {
     "name": "stdout",
     "output_type": "stream",
     "text": [
      "[5, 6, 6, 5, 4, 6, 5, 4, 6, 6, 4, 4, 3, 3, 4, 6, 4, 6, 4, 4, 6, 6, 6, 4, 6, 4, 6, 5, 4, 3, 6, 3, 4, 5, 4, 5, 3, 5, 6, 5, 6, 3, 5, 3, 4, 4, 3, 3, 4, 6]\n"
     ]
    }
   ],
   "source": [
    "###EXERCISE 3.8\n",
    "\n",
    "#Q1 printing 50 random integers btw 3 & 6\n",
    "\n",
    "import random\n",
    "rand_int = []\n",
    "\n",
    "for i in range(0, 50):\n",
    "    n = random.randint(3,6)\n",
    "    rand_int.append(n)\n",
    "print(rand_int)\n",
    "\n"
   ]
  },
  {
   "cell_type": "code",
   "execution_count": 5,
   "id": "b8b295b4",
   "metadata": {},
   "outputs": [
    {
     "name": "stdout",
     "output_type": "stream",
     "text": [
      "x = 13, y = 5\n",
      "371293\n"
     ]
    }
   ],
   "source": [
    "#Q2 generate 2 random numbers one btw 1 & 50 and the other btw 2 & 5\n",
    "\n",
    "import random\n",
    "x = random.randint(1, 50)\n",
    "y = random.randint(2, 5)\n",
    "z = x ** y\n",
    "print(f\"x = {x}, y = {y}\")\n",
    "print(z)"
   ]
  },
  {
   "cell_type": "code",
   "execution_count": 17,
   "id": "fd839ce9",
   "metadata": {},
   "outputs": [
    {
     "name": "stdout",
     "output_type": "stream",
     "text": [
      "8\n",
      "Enter your name: david\n",
      "david\n",
      "david\n",
      "david\n",
      "david\n",
      "david\n",
      "david\n",
      "david\n"
     ]
    }
   ],
   "source": [
    "#Q3 printing name n nuber of times\n",
    "\n",
    "import random\n",
    "x = random.randint(1, 10)\n",
    "print(x)\n",
    "name = input(\"Enter your name: \")\n",
    "for i in range(1,  x):\n",
    "    print(name)"
   ]
  },
  {
   "cell_type": "code",
   "execution_count": 19,
   "id": "cb9fe2dc",
   "metadata": {},
   "outputs": [
    {
     "name": "stdout",
     "output_type": "stream",
     "text": [
      "0.68\n"
     ]
    }
   ],
   "source": [
    "#Q4 generating a random decimal and rounding it to 2d.p\n",
    "\n",
    "x = random.random()\n",
    "y = round(x, 2)\n",
    "print(y)"
   ]
  },
  {
   "cell_type": "code",
   "execution_count": 22,
   "id": "edde854c",
   "metadata": {},
   "outputs": [
    {
     "name": "stdout",
     "output_type": "stream",
     "text": [
      "[1, 3, 4, 6, 7, 7, 9, 9, 10, 10, 11, 13, 13, 13, 14, 15, 16, 17, 19, 22, 23, 24, 25, 26, 28, 29, 29, 29, 30, 31, 32, 33, 33, 34, 34, 35, 36, 37, 37, 38, 39, 41, 41, 42, 42, 42, 42, 45, 48, 51]\n"
     ]
    }
   ],
   "source": [
    "rand_ints = []\n",
    "for i in range(0, 50):\n",
    "    x = random.randint(1, 51)\n",
    "    i = i+1\n",
    "    rand_ints.append(x)\n",
    "print(sorted(rand_ints))"
   ]
  },
  {
   "cell_type": "code",
   "execution_count": 25,
   "id": "1ed90d1d",
   "metadata": {},
   "outputs": [
    {
     "name": "stdout",
     "output_type": "stream",
     "text": [
      "Enter first number: 5\n",
      "Enter second number: 6\n",
      "0.09\n"
     ]
    }
   ],
   "source": [
    "x = int(input(\"Enter first number: \"))\n",
    "y = int(input(\"Enter second number: \"))\n",
    "\n",
    "p = abs(x-y)\n",
    "q = p/ (x+y)\n",
    "print(round(q, 2))"
   ]
  },
  {
   "cell_type": "code",
   "execution_count": 28,
   "id": "640245e1",
   "metadata": {},
   "outputs": [
    {
     "name": "stdout",
     "output_type": "stream",
     "text": [
      "Enter seconds: 125\n",
      "125sec = 2mins, 5seconds\n"
     ]
    }
   ],
   "source": [
    "sec = int(input(\"Enter seconds: \"))\n",
    "\n",
    "min = sec // 60\n",
    "# print(min)\n",
    "s = sec % 60\n",
    "print(f\"{sec}sec = {min}mins, {s}seconds\")"
   ]
  },
  {
   "cell_type": "code",
   "execution_count": 43,
   "id": "0ee9a5ba",
   "metadata": {},
   "outputs": [
    {
     "name": "stdout",
     "output_type": "stream",
     "text": [
      "Enter your number: 5\n",
      "120\n"
     ]
    }
   ],
   "source": [
    "x = int(input(\"Enter your number: \"))\n",
    "fact = 1\n",
    "for i in range(1, x+1):\n",
    "#     print(i)\n",
    "    fact = fact * i\n",
    "print(fact)"
   ]
  },
  {
   "cell_type": "code",
   "execution_count": 48,
   "id": "9755a22c",
   "metadata": {},
   "outputs": [
    {
     "name": "stdout",
     "output_type": "stream",
     "text": [
      "Enter number: 45\n",
      "\n",
      "sin of 45.0 = 0.85\n",
      "cos of 45.0 = 0.53\n",
      "tan of 45.0 = 1.62\n"
     ]
    }
   ],
   "source": [
    "import math\n",
    "x = float(input(\"Enter number: \"))\n",
    "\n",
    "v = round(math.sin(x), 2)\n",
    "l = round(math.cos(x), 2)\n",
    "p = round(math.tan(x), 2)\n",
    "\n",
    "print(f\"\"\"\n",
    "sin of {x} = {v}\n",
    "cos of {x} = {l}\n",
    "tan of {x} = {p}\"\"\")"
   ]
  },
  {
   "cell_type": "code",
   "execution_count": 49,
   "id": "b39d6db7",
   "metadata": {},
   "outputs": [
    {
     "name": "stdout",
     "output_type": "stream",
     "text": [
      "Enter angle in degrees: 45\n",
      "0.85\n"
     ]
    }
   ],
   "source": [
    "x = float(input(\"Enter angle in degrees: \"))\n",
    "\n",
    "v = round(math.sin(x), 2)\n",
    "\n",
    "print(v)"
   ]
  },
  {
   "cell_type": "code",
   "execution_count": 53,
   "id": "08e8a480",
   "metadata": {},
   "outputs": [
    {
     "name": "stdout",
     "output_type": "stream",
     "text": [
      "enter your weight: 45\n",
      "kg/lbs: lbs\n",
      "your weight in kg is 20.41\n"
     ]
    }
   ],
   "source": [
    "weight = float(input(\"enter your weight: \"))\n",
    "unit =  input(\"kg/lbs: \").lower()\n",
    "\n",
    "if unit == \"kg\":\n",
    "    new_weight =  round(weight * 2.20462, 2)\n",
    "    print(f\"your weight in pounds is {new_weight}\")\n",
    "elif unit == \"lbs\":\n",
    "    new_weight = round(weight / 2.20462, 2)\n",
    "    print(f\"your weight in kg is {new_weight}\")\n",
    "else:\n",
    "    print(\"invalid unit\")"
   ]
  },
  {
   "cell_type": "code",
   "execution_count": 7,
   "id": "eecbb09a",
   "metadata": {},
   "outputs": [
    {
     "name": "stdout",
     "output_type": "stream",
     "text": [
      "Enter length in cm: -0.00000000001\n",
      "invalid length!!\n"
     ]
    }
   ],
   "source": [
    "##Exercise 4.5\n",
    "\n",
    "##Q1 ask a user for length in cm and prompt user if negative length is entered\n",
    "length = float(input(\"Enter length in cm: \"))\n",
    "\n",
    "if length < 0:\n",
    "    print(\"invalid length!!\")\n",
    "else:\n",
    "    inch = round(length / 2.54, 2)\n",
    "    print(f\"{length}cm in inches is {inch}inch\")"
   ]
  },
  {
   "cell_type": "code",
   "execution_count": 10,
   "id": "8cb126c6",
   "metadata": {},
   "outputs": [
    {
     "name": "stdout",
     "output_type": "stream",
     "text": [
      "Enter temperature: 45.78\n",
      "F/C: f\n",
      "45.78 in celsius = 7.66\n"
     ]
    }
   ],
   "source": [
    "#Q2\n",
    "\n",
    "temp = float(input(\"Enter temperature: \"))\n",
    "unit = input(\"F/C: \").upper()\n",
    "if unit == \"F\":\n",
    "    cel = round((5/9) * (temp - 32), 2)\n",
    "    print(f\"{temp} in celsius = {cel}\")\n",
    "elif unit == \"C\":\n",
    "    fah = round((9/5) * (temp + 32), 2)\n",
    "    print(f\"{temp} in fahrenheit = {fah}\")\n",
    "else:\n",
    "    print(\"invalid unit!!\")"
   ]
  },
  {
   "cell_type": "code",
   "execution_count": 18,
   "id": "c16a34dd",
   "metadata": {},
   "outputs": [
    {
     "name": "stdout",
     "output_type": "stream",
     "text": [
      "Enter temperature in Celsius: 155\n",
      "temperature is above boiling point\n"
     ]
    }
   ],
   "source": [
    "#Q3\n",
    "\n",
    "temp = float(input(\"Enter temperature in Celsius: \"))\n",
    "\n",
    "if temp < -273.15:\n",
    "    print(\"invalid temperature: below absolute zero\")\n",
    "elif temp == -273.15:\n",
    "    print(\"Absolute zero\")\n",
    "elif temp > -273.15 and temp < 0:\n",
    "    print(\"Temperature is below freezing\")\n",
    "elif temp == 0:\n",
    "    print(\"Temperaturre is at freezing point\")\n",
    "elif temp >0 and temp < 100:\n",
    "    print(\"temperature is at normal range\")\n",
    "elif temp == 100:\n",
    "    print(\"temperature is at boiling point\")\n",
    "else:\n",
    "    print(\"temperature is above boiling point\")"
   ]
  },
  {
   "cell_type": "code",
   "execution_count": 26,
   "id": "642e4297",
   "metadata": {},
   "outputs": [
    {
     "name": "stdout",
     "output_type": "stream",
     "text": [
      "enter number of credits: 100\n",
      "Senior student\n"
     ]
    }
   ],
   "source": [
    "#Q4\n",
    "\n",
    "credit = int(input(\"enter number of credits: \"))\n",
    "\n",
    "if credit <=23 and credit >= 0:\n",
    "    print(\"Freshman student\")\n",
    "elif credit >= 24 and credit <= 53:\n",
    "    print(\"Sophmore student\")\n",
    "elif credit >= 54 and credit <= 83:\n",
    "    print(\"Junior student\")\n",
    "elif credit < 0:\n",
    "    print(\"Please Enter valid credits\")\n",
    "else:\n",
    "    print(\"Senior student\")"
   ]
  },
  {
   "cell_type": "code",
   "execution_count": 29,
   "id": "805d5ba8",
   "metadata": {},
   "outputs": [
    {
     "name": "stdout",
     "output_type": "stream",
     "text": [
      "enter an integer: 8\n",
      "15\n"
     ]
    }
   ],
   "source": [
    "#Q5\n",
    "\n",
    "num = int(input(\"enter an integer: \"))\n",
    "divisors = []\n",
    "for i in range(1, num+1):\n",
    "    if num % i == 0:\n",
    "        divisors.append(i)\n",
    "print(sum(divisors))\n"
   ]
  },
  {
   "cell_type": "code",
   "execution_count": null,
   "id": "9539d169",
   "metadata": {},
   "outputs": [],
   "source": [
    "#Q6\n",
    "\n",
    "\n",
    "div = []\n",
    "perf_num = []\n",
    "for i in range(1, 10000):\n",
    "    a = i\n",
    "    i = 1\n",
    "    while a > i:\n",
    "        if a % i == 0:\n",
    "            div.append(i)\n",
    "    i = i + 1\n",
    "for i in divisors:\n",
    "    b = sum(div)\n",
    "if b == a:\n",
    "    perf_num.append(a)\n",
    "print(perf_num)"
   ]
  },
  {
   "cell_type": "code",
   "execution_count": null,
   "id": "d2425979",
   "metadata": {},
   "outputs": [],
   "source": []
  }
 ],
 "metadata": {
  "kernelspec": {
   "display_name": "Python 3 (ipykernel)",
   "language": "python",
   "name": "python3"
  },
  "language_info": {
   "codemirror_mode": {
    "name": "ipython",
    "version": 3
   },
   "file_extension": ".py",
   "mimetype": "text/x-python",
   "name": "python",
   "nbconvert_exporter": "python",
   "pygments_lexer": "ipython3",
   "version": "3.9.7"
  }
 },
 "nbformat": 4,
 "nbformat_minor": 5
}
